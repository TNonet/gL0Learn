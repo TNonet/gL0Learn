from gl0learn.gl0learn_core import (
    check_is_coordinate_subset,
)
from hypothesis import given
from hypothesis import strategies as st
import numpy as np


@st.composite
def size_and_subset(draw: st.DrawFn, max_columns: int = 10):
    n = draw(st.integers(min_value=1, max_value=max_columns))
    n = (n-1)*n//2

    subset_indices = draw(st.lists(elements=st.integers(0, n), unique=True, max_size=n))

    return n, np.asarray(sorted(subset_indices))


@given(size_and_subset(max_columns=100))
def test_check_is_coordinate_subset(x):
    n, subset_indices = x
    full = np.asarray(np.triu_indices(n, k=1)).T

    subset = full[subset_indices, :]

    assert check_is_coordinate_subset(full, subset)