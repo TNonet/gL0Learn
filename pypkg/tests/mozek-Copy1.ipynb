{
 "cells": [
  {
   "cell_type": "code",
   "execution_count": 1,
   "metadata": {
    "tags": []
   },
   "outputs": [],
   "source": [
    "from gl0learn import fit, opt, synthetic\n",
    "from gl0learn.utils import check_make_valid_coordinate_matrix\n",
    "from gl0learn.metrics import false_positives, prediction_error\n",
    "import numpy as np\n",
    "import time"
   ]
  },
  {
   "cell_type": "code",
   "execution_count": 3,
   "metadata": {
    "collapsed": false,
    "jupyter": {
     "outputs_hidden": false
    },
    "pycharm": {
     "name": "#%%\n"
    }
   },
   "outputs": [],
   "source": [
    "n = 40\n",
    "p = 10\n",
    "model = \"AR1\"\n",
    "rng = 1\n",
    "rho = 0.5\n",
    "normalize=\"covariance\"\n",
    "X, Sigma_truth, Theta_truth = synthetic.generate_synthetic(n,p,model,normalize, rng=rng, rho=rho)"
   ]
  },
  {
   "cell_type": "code",
   "execution_count": 4,
   "metadata": {
    "collapsed": false,
    "jupyter": {
     "outputs_hidden": false
    },
    "pycharm": {
     "name": "#%%\n"
    }
   },
   "outputs": [],
   "source": [
    "_, _, _,_,Y,_ = synthetic.preprocess(X, assume_centered = False, cholesky=False)"
   ]
  },
  {
   "cell_type": "code",
   "execution_count": 5,
   "metadata": {
    "collapsed": false,
    "jupyter": {
     "outputs_hidden": false
    },
    "pycharm": {
     "name": "#%%\n"
    }
   },
   "outputs": [],
   "source": [
    "l0=0.1\n",
    "l2=0.5\n",
    "M = np.max(np.abs(Theta_truth*(1-np.eye(p))))"
   ]
  },
  {
   "cell_type": "code",
   "execution_count": 6,
   "metadata": {
    "collapsed": false,
    "jupyter": {
     "outputs_hidden": false
    },
    "pycharm": {
     "name": "#%%\n"
    }
   },
   "outputs": [],
   "source": [
    "# theta_mosek, z, obt, time_elapses, upper_bound, lower_bound, gap = opt.MIO_mosek(Y, l0, l2, M)"
   ]
  },
  {
   "cell_type": "code",
   "execution_count": 7,
   "metadata": {
    "collapsed": false,
    "jupyter": {
     "outputs_hidden": false
    },
    "pycharm": {
     "name": "#%%\n"
    }
   },
   "outputs": [],
   "source": [
    "# theta_mosek"
   ]
  },
  {
   "cell_type": "code",
   "execution_count": 8,
   "metadata": {
    "collapsed": false,
    "jupyter": {
     "outputs_hidden": false
    },
    "pycharm": {
     "name": "#%%\n"
    }
   },
   "outputs": [
    {
     "name": "stdout",
     "output_type": "stream",
     "text": [
      "gL0LearnFit 1\n",
      "gL0LearnFit 2\n",
      "gL0LearnFit 2\n",
      "fitpsi called \n",
      "fit 1\n",
      "fit loop0\n",
      "current_iter: 1 cur_objective = 3.21346\n",
      "fit loop1\n",
      "current_iter: 2 cur_objective = 1.83283\n",
      "fit loop2\n",
      "current_iter: 3 cur_objective = 1.64286\n",
      "fit loop3\n",
      "current_iter: 4 cur_objective = 1.63707\n",
      "fit loop4\n",
      "current_iter: 5 cur_objective = 1.63656\n",
      "fit loop5\n",
      "current_iter: 6 cur_objective = 1.6365\n",
      "fit loop6\n",
      "current_iter: 7 cur_objective = 1.63649\n",
      "fit loop7\n",
      "current_iter: 8 cur_objective = 1.63648\n",
      "fit loop8\n",
      "current_iter: 9 cur_objective = 0.868803\n",
      "fit loop9\n",
      "current_iter: 10 cur_objective = 0.770729\n",
      "fit loop10\n",
      "current_iter: 11 cur_objective = 0.755028\n",
      "fit loop11\n",
      "current_iter: 12 cur_objective = 0.753335\n",
      "fit loop12\n",
      "current_iter: 13 cur_objective = 0.753136\n",
      "fit loop13\n",
      "current_iter: 14 cur_objective = 0.753099\n",
      "fit loop14\n",
      "current_iter: 15 cur_objective = 0.753093\n",
      "fit loop15\n",
      "current_iter: 16 cur_objective = 0.753092\n",
      "fit loop16\n",
      "current_iter: 17 cur_objective = 0.753092\n",
      "fit loop17\n",
      "current_iter: 18 cur_objective = 0.691654\n",
      "fit loop18\n",
      "current_iter: 19 cur_objective = 0.684532\n",
      "fit loop19\n",
      "current_iter: 20 cur_objective = 0.684229\n",
      "fit loop20\n",
      "current_iter: 21 cur_objective = 0.684203\n",
      "fit loop21\n",
      "current_iter: 22 cur_objective = 0.684201\n",
      "fit loop22\n",
      "current_iter: 23 cur_objective = 0.684201\n",
      "Pre psi cost: 0.684201 \n",
      "PSI iter: 0 \n",
      "PSI iter: 0 Swapping row: 0\n",
      "psi_row_fit \n",
      "No swap for (0, 3) \n",
      "No swap for (0, 5) \n",
      "No swap for (0, 10) \n",
      "No swap for (0, 12) \n",
      "No swap for (0, 17) \n",
      "No swap for (0, 18) \n",
      "PSI iter: 0 Swapping row: 1\n",
      "psi_row_fit \n",
      "No swap for (1, 11) \n",
      "No swap for (1, 15) \n",
      "No swap for (1, 16) \n",
      "No swap for (1, 17) \n",
      "PSI iter: 0 Swapping row: 2\n",
      "psi_row_fit \n",
      "No swap for (2, 5) \n",
      "No swap for (2, 10) \n",
      "No swap for (2, 16) \n",
      "No swap for (2, 17) \n",
      "PSI iter: 0 Swapping row: 3\n",
      "psi_row_fit \n",
      "No swap for (3, 0) \n",
      "No swap for (3, 5) \n",
      "No swap for (3, 7) \n",
      "No swap for (3, 8) \n",
      "PSI iter: 0 Swapping row: 4\n",
      "psi_row_fit \n",
      "No swap for (4, 6) \n",
      "No swap for (4, 17) \n",
      "PSI iter: 0 Swapping row: 5\n",
      "psi_row_fit \n",
      "No swap for (5, 0) \n",
      "No swap for (5, 2) \n",
      "No swap for (5, 3) \n",
      "No swap for (5, 9) \n",
      "PSI iter: 0 Swapping row: 6\n",
      "psi_row_fit \n",
      "No swap for (6, 4) \n",
      "No swap for (6, 7) \n",
      "No swap for (6, 10) \n",
      "No swap for (6, 14) \n",
      "PSI iter: 0 Swapping row: 7\n",
      "psi_row_fit \n",
      "No swap for (7, 3) \n",
      "No swap for (7, 6) \n",
      "No swap for (7, 8) \n",
      "No swap for (7, 12) \n",
      "No swap for (7, 16) \n",
      "No swap for (7, 17) \n",
      "PSI iter: 0 Swapping row: 8\n",
      "psi_row_fit \n",
      "No swap for (8, 3) \n",
      "No swap for (8, 7) \n",
      "No swap for (8, 10) \n",
      "Swap for (8, 13) with (8, 12)\n",
      "AS before insert:\n",
      "AS size = 45 \n",
      " AS(loc-1) = AS(27){8, 10}\n",
      " AS(loc)= {8, 13}\n",
      " AS(loc+1)= {8, 17}\n",
      "PSI iter: 0 Post Swap cost: 0.670329 \n",
      "fit 1\n",
      "fit loop0\n",
      "current_iter: 1 cur_objective = 0.652738\n",
      "fit loop1\n",
      "current_iter: 2 cur_objective = 0.651604\n",
      "fit loop2\n",
      "current_iter: 3 cur_objective = 0.651403\n",
      "fit loop3\n",
      "current_iter: 4 cur_objective = 0.651364\n",
      "fit loop4\n",
      "current_iter: 5 cur_objective = 0.651359\n",
      "fit loop5\n",
      "current_iter: 6 cur_objective = 0.651358\n",
      "fit loop6\n",
      "current_iter: 7 cur_objective = 0.651357\n",
      "PSI iter: 0 Post Swap Fit cost: 0.651357 \n",
      "PSI iter: 1 \n",
      "PSI iter: 1 Swapping row: 0\n",
      "psi_row_fit \n",
      "No swap for (0, 3) \n",
      "No swap for (0, 5) \n",
      "No swap for (0, 10) \n",
      "No swap for (0, 12) \n",
      "No swap for (0, 17) \n",
      "No swap for (0, 18) \n",
      "PSI iter: 1 Swapping row: 1\n",
      "psi_row_fit \n",
      "No swap for (1, 11) \n",
      "No swap for (1, 15) \n",
      "No swap for (1, 16) \n",
      "No swap for (1, 17) \n",
      "PSI iter: 1 Swapping row: 2\n",
      "psi_row_fit \n",
      "No swap for (2, 5) \n",
      "No swap for (2, 10) \n",
      "No swap for (2, 16) \n",
      "No swap for (2, 17) \n",
      "PSI iter: 1 Swapping row: 3\n",
      "psi_row_fit \n",
      "No swap for (3, 0) \n",
      "No swap for (3, 5) \n",
      "No swap for (3, 7) \n",
      "No swap for (3, 8) \n",
      "PSI iter: 1 Swapping row: 4\n",
      "psi_row_fit \n",
      "No swap for (4, 6) \n",
      "No swap for (4, 17) \n",
      "PSI iter: 1 Swapping row: 5\n",
      "psi_row_fit \n",
      "No swap for (5, 0) \n",
      "No swap for (5, 2) \n",
      "No swap for (5, 3) \n",
      "No swap for (5, 9) \n",
      "PSI iter: 1 Swapping row: 6\n",
      "psi_row_fit \n",
      "No swap for (6, 4) \n",
      "No swap for (6, 7) \n",
      "No swap for (6, 10) \n",
      "No swap for (6, 14) \n",
      "PSI iter: 1 Swapping row: 7\n",
      "psi_row_fit \n",
      "No swap for (7, 3) \n",
      "No swap for (7, 6) \n",
      "No swap for (7, 8) \n",
      "No swap for (7, 12) \n",
      "No swap for (7, 16) \n",
      "No swap for (7, 17) \n",
      "PSI iter: 1 Swapping row: 8\n",
      "psi_row_fit \n",
      "No swap for (8, 3) \n",
      "No swap for (8, 7) \n",
      "No swap for (8, 10) \n",
      "No swap for (8, 12) \n",
      "No swap for (8, 17) \n",
      "PSI iter: 1 Swapping row: 9\n",
      "psi_row_fit \n",
      "No swap for (9, 5) \n",
      "No swap for (9, 10) \n",
      "No swap for (9, 12) \n",
      "No swap for (9, 15) \n",
      "PSI iter: 1 Swapping row: 10\n",
      "psi_row_fit \n",
      "No swap for (10, 0) \n",
      "No swap for (10, 2) \n",
      "No swap for (10, 6) \n",
      "No swap for (10, 8) \n",
      "No swap for (10, 9) \n",
      "No swap for (10, 11) \n",
      "No swap for (10, 14) \n",
      "PSI iter: 1 Swapping row: 11\n",
      "psi_row_fit \n",
      "No swap for (11, 1) \n",
      "No swap for (11, 10) \n",
      "No swap for (11, 12) \n",
      "No swap for (11, 13) \n",
      "No swap for (11, 19) \n",
      "PSI iter: 1 Swapping row: 12\n",
      "psi_row_fit \n",
      "No swap for (12, 0) \n",
      "No swap for (12, 7) \n",
      "No swap for (12, 8) \n",
      "No swap for (12, 9) \n",
      "No swap for (12, 11) \n",
      "No swap for (12, 13) \n",
      "No swap for (12, 16) \n",
      "PSI iter: 1 Swapping row: 13\n",
      "psi_row_fit \n",
      "No swap for (13, 11) \n",
      "No swap for (13, 12) \n",
      "No swap for (13, 14) \n",
      "PSI iter: 1 Swapping row: 14\n",
      "psi_row_fit \n",
      "No swap for (14, 6) \n",
      "No swap for (14, 10) \n",
      "No swap for (14, 13) \n",
      "No swap for (14, 19) \n",
      "PSI iter: 1 Swapping row: 15\n",
      "psi_row_fit \n",
      "No swap for (15, 1) \n",
      "No swap for (15, 9) \n",
      "No swap for (15, 16) \n",
      "No swap for (15, 19) \n",
      "PSI iter: 1 Swapping row: 16\n",
      "psi_row_fit \n",
      "No swap for (16, 1) \n",
      "No swap for (16, 2) \n",
      "No swap for (16, 7) \n",
      "No swap for (16, 12) \n",
      "No swap for (16, 15) \n",
      "PSI iter: 1 Swapping row: 17\n",
      "psi_row_fit \n",
      "No swap for (17, 0) \n",
      "No swap for (17, 1) \n",
      "No swap for (17, 2) \n",
      "No swap for (17, 4) \n",
      "No swap for (17, 7) \n",
      "No swap for (17, 8) \n",
      "PSI iter: 1 Swapping row: 18\n",
      "psi_row_fit \n",
      "No swap for (18, 0) \n",
      "No swap for (18, 19) \n",
      "PSI iter: 1 Swapping row: 19\n",
      "psi_row_fit \n",
      "No swap for (19, 11) \n",
      "No swap for (19, 14) \n",
      "No swap for (19, 15) \n",
      "No swap for (19, 18) \n"
     ]
    }
   ],
   "source": [
    "n = 10\n",
    "p = 20\n",
    "model = \"AR1\"\n",
    "rng = 1\n",
    "rho = 0.5\n",
    "normalize=\"covariance\"\n",
    "X, Sigma_truth, Theta_truth = synthetic.generate_synthetic(n,p,model,normalize, rng=rng, rho=rho)\n",
    "_, _, _,_,Y,_ = synthetic.preprocess(X, assume_centered = False, cholesky=False)\n",
    "l0=0.1\n",
    "l2=0.5\n",
    "\n",
    "results = fit(Y,\n",
    "    theta_init=None,\n",
    "    initial_active_set=0.5,\n",
    "    super_active_set=0.,\n",
    "    algorithm='CDPSI',\n",
    "    l0=l0,\n",
    "    l2=l2,\n",
    "    check=False,\n",
    "    scale_x=False,\n",
    "    max_active_set_size=int(.5*p*(p-1)))"
   ]
  },
  {
   "cell_type": "code",
   "execution_count": 9,
   "metadata": {
    "collapsed": false,
    "jupyter": {
     "outputs_hidden": false
    },
    "pycharm": {
     "name": "#%%\n"
    }
   },
   "outputs": [
    {
     "data": {
      "text/plain": [
       "95.0"
      ]
     },
     "execution_count": 9,
     "metadata": {},
     "output_type": "execute_result"
    }
   ],
   "source": [
    ".25*p*(p-1)"
   ]
  },
  {
   "cell_type": "code",
   "execution_count": 10,
   "metadata": {
    "collapsed": false,
    "jupyter": {
     "outputs_hidden": false
    },
    "pycharm": {
     "name": "#%%\n"
    }
   },
   "outputs": [
    {
     "data": {
      "text/plain": [
       "[38,\n",
       " 38,\n",
       " 38,\n",
       " 38,\n",
       " 38,\n",
       " 38,\n",
       " 38,\n",
       " 38,\n",
       " 57,\n",
       " 57,\n",
       " 57,\n",
       " 57,\n",
       " 57,\n",
       " 57,\n",
       " 57,\n",
       " 57,\n",
       " 57,\n",
       " 60,\n",
       " 60,\n",
       " 60,\n",
       " 60,\n",
       " 60,\n",
       " 60,\n",
       " 46,\n",
       " 46,\n",
       " 46,\n",
       " 46,\n",
       " 46,\n",
       " 46,\n",
       " 46]"
      ]
     },
     "execution_count": 10,
     "metadata": {},
     "output_type": "execute_result"
    }
   ],
   "source": [
    "results.active_set_size"
   ]
  },
  {
   "cell_type": "code",
   "execution_count": 11,
   "metadata": {
    "collapsed": false,
    "jupyter": {
     "outputs_hidden": false
    },
    "pycharm": {
     "name": "#%%\n"
    }
   },
   "outputs": [
    {
     "ename": "NameError",
     "evalue": "name 'theta_mosek' is not defined",
     "output_type": "error",
     "traceback": [
      "\u001b[0;31m---------------------------------------------------------------------------\u001b[0m",
      "\u001b[0;31mNameError\u001b[0m                                 Traceback (most recent call last)",
      "\u001b[0;32m/var/folders/xq/mwcnpp0j5ls5jjcyx7nsdwyh0000gn/T/ipykernel_5271/3608461120.py\u001b[0m in \u001b[0;36m<module>\u001b[0;34m\u001b[0m\n\u001b[0;32m----> 1\u001b[0;31m \u001b[0mfalse_positives\u001b[0m\u001b[0;34m(\u001b[0m\u001b[0mresults\u001b[0m\u001b[0;34m.\u001b[0m\u001b[0mtheta\u001b[0m\u001b[0;34m,\u001b[0m \u001b[0mtheta_mosek\u001b[0m\u001b[0;34m)\u001b[0m\u001b[0;34m\u001b[0m\u001b[0;34m\u001b[0m\u001b[0m\n\u001b[0m",
      "\u001b[0;31mNameError\u001b[0m: name 'theta_mosek' is not defined"
     ]
    }
   ],
   "source": [
    "false_positives(results.theta, theta_mosek)"
   ]
  },
  {
   "cell_type": "code",
   "execution_count": null,
   "metadata": {
    "collapsed": false,
    "jupyter": {
     "outputs_hidden": false
    },
    "pycharm": {
     "name": "#%%\n"
    }
   },
   "outputs": [],
   "source": [
    "prediction_error(results.theta, theta_mosek)"
   ]
  },
  {
   "cell_type": "code",
   "execution_count": null,
   "metadata": {
    "collapsed": false,
    "jupyter": {
     "outputs_hidden": false
    },
    "pycharm": {
     "name": "#%%\n"
    }
   },
   "outputs": [],
   "source": [
    "prediction_error(Y.T@Y/np.sum(np.square(Y), axis=0), theta_mosek)"
   ]
  },
  {
   "cell_type": "code",
   "execution_count": null,
   "metadata": {
    "collapsed": false,
    "jupyter": {
     "outputs_hidden": false
    },
    "pycharm": {
     "name": "#%%\n"
    }
   },
   "outputs": [],
   "source": [
    "false_positives(Y.T@Y/np.sum(np.square(Y), axis=0), theta_mosek)"
   ]
  },
  {
   "cell_type": "code",
   "execution_count": 5,
   "metadata": {
    "collapsed": false,
    "jupyter": {
     "outputs_hidden": false
    },
    "pycharm": {
     "name": "#%%\n"
    }
   },
   "outputs": [],
   "source": [
    "n = 10\n",
    "p = 20\n",
    "model = \"AR1\"\n",
    "rng = 1\n",
    "rho = 0.5\n",
    "normalize=\"covariance\"\n",
    "X, Sigma_truth, Theta_truth = synthetic.generate_synthetic(n,p,model,normalize, rng=rng, rho=rho)\n",
    "_, _, _,_,Y,_ = synthetic.preprocess(X, assume_centered = False, cholesky=False)\n",
    "l0=0.1\n",
    "l2=1\n",
    "M = np.max(np.abs(Theta_truth*(1-np.eye(p))))\n",
    "test_cases = [(Y, Theta_truth, l0, l2, M)]\n"
   ]
  },
  {
   "cell_type": "code",
   "execution_count": 6,
   "metadata": {
    "collapsed": false,
    "jupyter": {
     "outputs_hidden": false
    },
    "pycharm": {
     "name": "#%%\n"
    }
   },
   "outputs": [
    {
     "name": "stdout",
     "output_type": "stream",
     "text": [
      "gL0LearnFit 1\n",
      "gL0LearnFit 2\n",
      "gL0LearnFit 2\n",
      "fit 1\n",
      "fit loop0\n",
      "current_iter: 1 cur_objective = 4.74629\n",
      "fit loop1\n",
      "current_iter: 2 cur_objective = 4.05486\n",
      "fit loop2\n",
      "current_iter: 3 cur_objective = 3.9874\n",
      "fit loop3\n",
      "current_iter: 4 cur_objective = 3.98391\n",
      "fit loop4\n",
      "current_iter: 5 cur_objective = 3.98383\n",
      "fit loop5\n",
      "current_iter: 6 cur_objective = 3.98383\n",
      "gL0LearnFit 1\n",
      "gL0LearnFit 2\n",
      "gL0LearnFit 2\n",
      "fitpsi called \n",
      "fit 1\n",
      "fit loop0\n",
      "current_iter: 1 cur_objective = 4.97248\n",
      "fit loop1\n",
      "current_iter: 2 cur_objective = 4.15693\n",
      "fit loop2\n",
      "current_iter: 3 cur_objective = 3.99452\n",
      "fit loop3\n",
      "current_iter: 4 cur_objective = 3.95855\n",
      "fit loop4\n",
      "current_iter: 5 cur_objective = 3.95425\n",
      "fit loop5\n",
      "current_iter: 6 cur_objective = 3.95397\n",
      "fit loop6\n",
      "current_iter: 7 cur_objective = 3.95395\n",
      "fit loop7\n",
      "current_iter: 8 cur_objective = 3.95395\n",
      "Pre psi cost: 3.95395 \n",
      "PSI iter: 0 \n",
      "PSI iter: 0 Swapping row: 0\n",
      "psi_row_fit \n",
      "No swap for (0, 3) \n",
      "No swap for (0, 5) \n",
      "No swap for (0, 10) \n",
      "No swap for (0, 12) \n",
      "No swap for (0, 18) \n",
      "PSI iter: 0 Swapping row: 1\n",
      "psi_row_fit \n",
      "No swap for (1, 15) \n",
      "No swap for (1, 16) \n",
      "No swap for (1, 17) \n",
      "PSI iter: 0 Swapping row: 2\n",
      "psi_row_fit \n",
      "No swap for (2, 10) \n",
      "No swap for (2, 16) \n",
      "No swap for (2, 17) \n",
      "PSI iter: 0 Swapping row: 3\n",
      "psi_row_fit \n",
      "No swap for (3, 0) \n",
      "No swap for (3, 5) \n",
      "No swap for (3, 7) \n",
      "No swap for (3, 8) \n",
      "PSI iter: 0 Swapping row: 4\n",
      "psi_row_fit \n",
      "No swap for (4, 6) \n",
      "No swap for (4, 17) \n",
      "PSI iter: 0 Swapping row: 5\n",
      "psi_row_fit \n",
      "No swap for (5, 0) \n",
      "No swap for (5, 3) \n",
      "PSI iter: 0 Swapping row: 6\n",
      "psi_row_fit \n",
      "No swap for (6, 4) \n",
      "PSI iter: 0 Swapping row: 7\n",
      "psi_row_fit \n",
      "No swap for (7, 3) \n",
      "No swap for (7, 8) \n",
      "No swap for (7, 12) \n",
      "No swap for (7, 16) \n",
      "No swap for (7, 17) \n",
      "PSI iter: 0 Swapping row: 8\n",
      "psi_row_fit \n",
      "No swap for (8, 3) \n",
      "No swap for (8, 7) \n",
      "No swap for (8, 10) \n",
      "No swap for (8, 12) \n",
      "No swap for (8, 17) \n",
      "PSI iter: 0 Swapping row: 9\n",
      "psi_row_fit \n",
      "No swap for (9, 10) \n",
      "No swap for (9, 12) \n",
      "PSI iter: 0 Swapping row: 10\n",
      "psi_row_fit \n",
      "No swap for (10, 0) \n",
      "No swap for (10, 2) \n",
      "No swap for (10, 8) \n",
      "No swap for (10, 9) \n",
      "No swap for (10, 11) \n",
      "PSI iter: 0 Swapping row: 11\n",
      "psi_row_fit \n",
      "No swap for (11, 10) \n",
      "No swap for (11, 12) \n",
      "No swap for (11, 19) \n",
      "PSI iter: 0 Swapping row: 12\n",
      "psi_row_fit \n",
      "No swap for (12, 0) \n",
      "No swap for (12, 7) \n",
      "No swap for (12, 8) \n",
      "No swap for (12, 9) \n",
      "No swap for (12, 11) \n",
      "No swap for (12, 13) \n",
      "No swap for (12, 16) \n",
      "PSI iter: 0 Swapping row: 13\n",
      "psi_row_fit \n",
      "No swap for (13, 12) \n",
      "No swap for (13, 14) \n",
      "PSI iter: 0 Swapping row: 14\n",
      "psi_row_fit \n",
      "No swap for (14, 13) \n",
      "PSI iter: 0 Swapping row: 15\n",
      "psi_row_fit \n",
      "No swap for (15, 1) \n",
      "No swap for (15, 16) \n",
      "No swap for (15, 19) \n",
      "PSI iter: 0 Swapping row: 16\n",
      "psi_row_fit \n",
      "No swap for (16, 1) \n",
      "No swap for (16, 2) \n",
      "No swap for (16, 7) \n",
      "No swap for (16, 12) \n",
      "No swap for (16, 15) \n",
      "PSI iter: 0 Swapping row: 17\n",
      "psi_row_fit \n",
      "No swap for (17, 1) \n",
      "No swap for (17, 2) \n",
      "No swap for (17, 4) \n",
      "No swap for (17, 7) \n",
      "No swap for (17, 8) \n",
      "PSI iter: 0 Swapping row: 18\n",
      "psi_row_fit \n",
      "No swap for (18, 0) \n",
      "No swap for (18, 19) \n",
      "PSI iter: 0 Swapping row: 19\n",
      "psi_row_fit \n",
      "No swap for (19, 11) \n",
      "No swap for (19, 15) \n",
      "No swap for (19, 18) \n"
     ]
    }
   ],
   "source": [
    "results = []\n",
    "\n",
    "for (Y, theta_star, l0, l2, M) in test_cases:\n",
    "    result = {}\n",
    "    theta_mosek, z, obt, time_elapses, upper_bound, lower_bound, gap = opt.MIO_mosek(Y, l0, l2, M)\n",
    "\n",
    "    result['mosek_time'] = time_elapses\n",
    "    result['mosek_FP'] = false_positives(theta_mosek, theta_star)\n",
    "    result['mosek_PE'] = prediction_error(theta_mosek, theta_star)\n",
    "\n",
    "    cd_start_time = time.time()\n",
    "    theta_cd = fit(Y,\n",
    "                   theta_init=None,\n",
    "                   initial_active_set=0.,\n",
    "                   super_active_set=0.,\n",
    "                   algorithm='CD',\n",
    "                   l0=l0,\n",
    "                   l2=l2,\n",
    "                   check=False,\n",
    "                   scale_x=False,\n",
    "                   max_active_set_size=int(.5*p*(p-1)))\n",
    "    cd_time = time.time() - cd_start_time\n",
    "\n",
    "    result['cd_time'] = cd_time\n",
    "    result['cd_FP'] = false_positives(theta_cd.theta, theta_star)\n",
    "    result['cd_PE'] = prediction_error(theta_cd.theta, theta_star)\n",
    "\n",
    "    cdpsi_start_time = time.time()\n",
    "    theta_cdpsi = fit(Y,\n",
    "                    theta_init=None,\n",
    "                    initial_active_set=0.,\n",
    "                    super_active_set=0.,\n",
    "                    algorithm='CDPSI',\n",
    "                    l0=l0,\n",
    "                    l2=l2,\n",
    "                    check=False,\n",
    "                    scale_x=False,\n",
    "                    max_active_set_size=int(.5*p*(p-1)))\n",
    "    cdpsi_time = time.time() - cdpsi_start_time\n",
    "\n",
    "    result['cdpsi_time'] = cd_time\n",
    "    result['cdpsi_FP'] = false_positives(theta_cd.theta, theta_star)\n",
    "    result['cdpsi_PE'] = prediction_error(theta_cd.theta, theta_star)\n",
    "\n",
    "\n",
    "\n"
   ]
  },
  {
   "cell_type": "code",
   "execution_count": 7,
   "metadata": {
    "collapsed": false,
    "jupyter": {
     "outputs_hidden": false
    },
    "pycharm": {
     "name": "#%%\n"
    }
   },
   "outputs": [
    {
     "data": {
      "text/plain": [
       "{'mosek_time': 117.50993514060974,\n",
       " 'mosek_FP': 52,\n",
       " 'mosek_PE': 0.7307931798519217,\n",
       " 'cd_time': 0.0020749568939208984,\n",
       " 'cd_FP': 50,\n",
       " 'cd_PE': 0.7302757750149566,\n",
       " 'cdpsi_time': 0.0020749568939208984,\n",
       " 'cdpsi_FP': 50,\n",
       " 'cdpsi_PE': 0.7302757750149566}"
      ]
     },
     "execution_count": 7,
     "metadata": {},
     "output_type": "execute_result"
    }
   ],
   "source": [
    "result"
   ]
  },
  {
   "cell_type": "code",
   "execution_count": 8,
   "metadata": {
    "collapsed": false,
    "jupyter": {
     "outputs_hidden": false
    },
    "pycharm": {
     "name": "#%%\n"
    }
   },
   "outputs": [
    {
     "data": {
      "text/plain": [
       "3.953672438539931"
      ]
     },
     "execution_count": 8,
     "metadata": {},
     "output_type": "execute_result"
    }
   ],
   "source": [
    "obt"
   ]
  },
  {
   "cell_type": "code",
   "execution_count": 11,
   "metadata": {},
   "outputs": [
    {
     "data": {
      "text/plain": [
       "3.9539525626765024"
      ]
     },
     "execution_count": 11,
     "metadata": {},
     "output_type": "execute_result"
    }
   ],
   "source": [
    "theta_cdpsi.costs[-1]"
   ]
  },
  {
   "cell_type": "code",
   "execution_count": null,
   "metadata": {},
   "outputs": [],
   "source": []
  }
 ],
 "metadata": {
  "kernelspec": {
   "display_name": "Python 3 (ipykernel)",
   "language": "python",
   "name": "python3"
  },
  "language_info": {
   "codemirror_mode": {
    "name": "ipython",
    "version": 3
   },
   "file_extension": ".py",
   "mimetype": "text/x-python",
   "name": "python",
   "nbconvert_exporter": "python",
   "pygments_lexer": "ipython3",
   "version": "3.9.7"
  }
 },
 "nbformat": 4,
 "nbformat_minor": 4
}
