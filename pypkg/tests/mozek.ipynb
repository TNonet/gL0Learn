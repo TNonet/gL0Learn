{
 "cells": [
  {
   "cell_type": "code",
   "execution_count": 12,
   "metadata": {
    "collapsed": true
   },
   "outputs": [],
   "source": [
    "from gl0learn import fit, opt, synthetic\n",
    "from gl0learn.utils import check_make_valid_coordinate_matrix\n",
    "from gl0learn.metrics import false_positives, prediction_error\n",
    "import numpy as np"
   ]
  },
  {
   "cell_type": "code",
   "execution_count": 25,
   "outputs": [],
   "source": [
    "n = 40\n",
    "p = 20\n",
    "model = \"AR1\"\n",
    "rng = 1\n",
    "rho = 0.5\n",
    "normalize=\"covariance\"\n",
    "X, Sigma_truth, Theta_truth = synthetic.generate_synthetic(n,p,model,normalize, rng=rng, rho=rho)"
   ],
   "metadata": {
    "collapsed": false,
    "pycharm": {
     "name": "#%%\n"
    }
   }
  },
  {
   "cell_type": "code",
   "execution_count": 26,
   "outputs": [],
   "source": [
    "_, _, _,_,Y,_ = synthetic.preprocess(X, assume_centered = False, cholesky=False)"
   ],
   "metadata": {
    "collapsed": false,
    "pycharm": {
     "name": "#%%\n"
    }
   }
  },
  {
   "cell_type": "code",
   "execution_count": 27,
   "outputs": [
    {
     "data": {
      "text/plain": "(40, 20)"
     },
     "execution_count": 27,
     "metadata": {},
     "output_type": "execute_result"
    }
   ],
   "source": [
    "Y.shape"
   ],
   "metadata": {
    "collapsed": false,
    "pycharm": {
     "name": "#%%\n"
    }
   }
  },
  {
   "cell_type": "code",
   "execution_count": 28,
   "outputs": [],
   "source": [
    "initial_active_set = check_make_valid_coordinate_matrix(100., Y, 'initial_active_set', check=True)"
   ],
   "metadata": {
    "collapsed": false,
    "pycharm": {
     "name": "#%%\n"
    }
   }
  },
  {
   "cell_type": "code",
   "execution_count": 29,
   "outputs": [],
   "source": [
    "l0=0.1\n",
    "l2=0.5\n",
    "M = np.max(np.abs(Theta_truth*(1-np.eye(p))))"
   ],
   "metadata": {
    "collapsed": false,
    "pycharm": {
     "name": "#%%\n"
    }
   }
  },
  {
   "cell_type": "code",
   "execution_count": null,
   "outputs": [],
   "source": [
    "theta_mosek, z, obt, time_elapses, upper_bound, lower_bound, gap = opt.MIO_mosek(Y, l0, l2, M)"
   ],
   "metadata": {
    "collapsed": false,
    "pycharm": {
     "name": "#%%\n",
     "is_executing": true
    }
   }
  },
  {
   "cell_type": "code",
   "execution_count": 9,
   "outputs": [
    {
     "name": "stdout",
     "output_type": "stream",
     "text": [
      "_fit \n",
      "gL0LearnFit 1\n",
      "gL0LearnFit 2\n",
      "gL0LearnFit 2\n",
      "fit 1\n",
      "fit loop0\n",
      "current_iter: 1 cur_objective = 14.5607\n",
      "fit loop1\n",
      "current_iter: 2 cur_objective = 13.9716\n",
      "fit loop2\n",
      "current_iter: 3 cur_objective = 13.9592\n",
      "fit loop3\n",
      "current_iter: 4 cur_objective = 13.9584\n",
      "fit loop4\n",
      "current_iter: 5 cur_objective = 13.9583\n",
      "fit loop5\n",
      "current_iter: 6 cur_objective = 13.9583\n"
     ]
    }
   ],
   "source": [
    "results = fit(Y,\n",
    "    theta_init=None,\n",
    "    initial_active_set=0.,\n",
    "    super_active_set=0.,\n",
    "    algorithm='CD',\n",
    "    l0=l0,\n",
    "    l2=l2,\n",
    "    check=False,\n",
    "    scale_x=False)"
   ],
   "metadata": {
    "collapsed": false,
    "pycharm": {
     "name": "#%%\n"
    }
   }
  },
  {
   "cell_type": "code",
   "execution_count": 11,
   "outputs": [
    {
     "data": {
      "text/plain": "0"
     },
     "execution_count": 11,
     "metadata": {},
     "output_type": "execute_result"
    }
   ],
   "source": [
    "false_positives(results.theta, theta_mosek)"
   ],
   "metadata": {
    "collapsed": false,
    "pycharm": {
     "name": "#%%\n"
    }
   }
  },
  {
   "cell_type": "code",
   "execution_count": 14,
   "outputs": [
    {
     "data": {
      "text/plain": "0.054056819454529566"
     },
     "execution_count": 14,
     "metadata": {},
     "output_type": "execute_result"
    }
   ],
   "source": [
    "prediction_error(results.theta, theta_mosek)"
   ],
   "metadata": {
    "collapsed": false,
    "pycharm": {
     "name": "#%%\n"
    }
   }
  },
  {
   "cell_type": "code",
   "execution_count": 17,
   "outputs": [
    {
     "data": {
      "text/plain": "0.9792056885876198"
     },
     "execution_count": 17,
     "metadata": {},
     "output_type": "execute_result"
    }
   ],
   "source": [
    "prediction_error(Y.T@Y/np.sum(np.square(Y), axis=0), theta_mosek)"
   ],
   "metadata": {
    "collapsed": false,
    "pycharm": {
     "name": "#%%\n"
    }
   }
  },
  {
   "cell_type": "code",
   "execution_count": 18,
   "outputs": [
    {
     "data": {
      "text/plain": "342"
     },
     "execution_count": 18,
     "metadata": {},
     "output_type": "execute_result"
    }
   ],
   "source": [
    "false_positives(Y.T@Y/np.sum(np.square(Y), axis=0), theta_mosek)"
   ],
   "metadata": {
    "collapsed": false,
    "pycharm": {
     "name": "#%%\n"
    }
   }
  },
  {
   "cell_type": "code",
   "execution_count": null,
   "outputs": [],
   "source": [],
   "metadata": {
    "collapsed": false,
    "pycharm": {
     "name": "#%%\n"
    }
   }
  }
 ],
 "metadata": {
  "kernelspec": {
   "display_name": "Python 3",
   "language": "python",
   "name": "python3"
  },
  "language_info": {
   "codemirror_mode": {
    "name": "ipython",
    "version": 2
   },
   "file_extension": ".py",
   "mimetype": "text/x-python",
   "name": "python",
   "nbconvert_exporter": "python",
   "pygments_lexer": "ipython2",
   "version": "2.7.6"
  }
 },
 "nbformat": 4,
 "nbformat_minor": 0
}