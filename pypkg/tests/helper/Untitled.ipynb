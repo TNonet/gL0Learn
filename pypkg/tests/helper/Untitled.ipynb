{
 "cells": [
  {
   "cell_type": "code",
   "execution_count": 27,
   "id": "6444f13f-d0f5-43b8-8c58-2f55005cc73d",
   "metadata": {},
   "outputs": [],
   "source": [
    "import pytest\n",
    "from hypothesis import given\n",
    "from hypothesis.strategies import floats, booleans, just\n",
    "from utils import random_penalty,random_penalty_values"
   ]
  },
  {
   "cell_type": "code",
   "execution_count": 39,
   "id": "ed218d3e-a234-4d45-b890-325532a30f33",
   "metadata": {},
   "outputs": [],
   "source": [
    "\n",
    "@pytest.mark.parametrize(\"a\", [0, 1])\n",
    "@given(lXs=random_penalty_values(\n",
    "        penalty_strategies=random_penalty(l0=just(True), l1=booleans(), l2=booleans()),\n",
    "        values_strategies={\n",
    "            \"l0\": floats(0.01, 10),\n",
    "            \"l1\": floats(0.01, 10),\n",
    "            \"l2\": floats(0.01, 10),\n",
    "        },\n",
    "    ))\n",
    "def test(a, lXs):\n",
    "    lXs[\"l0\"] = 1\n",
    "    assert lXs[\"l0\"] > 0"
   ]
  },
  {
   "cell_type": "code",
   "execution_count": 38,
   "id": "0c543615-84d7-4773-9f37-2953e8a24795",
   "metadata": {},
   "outputs": [
    {
     "ename": "TypeError",
     "evalue": "test() missing 1 required positional argument: 'a'",
     "output_type": "error",
     "traceback": [
      "\u001b[0;31m---------------------------------------------------------------------------\u001b[0m",
      "\u001b[0;31mTypeError\u001b[0m                                 Traceback (most recent call last)",
      "\u001b[0;32m/var/folders/xq/mwcnpp0j5ls5jjcyx7nsdwyh0000gn/T/ipykernel_48889/756179265.py\u001b[0m in \u001b[0;36m<module>\u001b[0;34m\u001b[0m\n\u001b[0;32m----> 1\u001b[0;31m \u001b[0mtest\u001b[0m\u001b[0;34m(\u001b[0m\u001b[0;34m)\u001b[0m\u001b[0;34m\u001b[0m\u001b[0;34m\u001b[0m\u001b[0m\n\u001b[0m",
      "\u001b[0;31mTypeError\u001b[0m: test() missing 1 required positional argument: 'a'"
     ]
    }
   ],
   "source": [
    "test()"
   ]
  },
  {
   "cell_type": "code",
   "execution_count": null,
   "id": "03363ba5-3b02-4574-a276-dd1a2076946e",
   "metadata": {},
   "outputs": [],
   "source": []
  }
 ],
 "metadata": {
  "kernelspec": {
   "display_name": "Python 3 (ipykernel)",
   "language": "python",
   "name": "python3"
  },
  "language_info": {
   "codemirror_mode": {
    "name": "ipython",
    "version": 3
   },
   "file_extension": ".py",
   "mimetype": "text/x-python",
   "name": "python",
   "nbconvert_exporter": "python",
   "pygments_lexer": "ipython3",
   "version": "3.9.7"
  }
 },
 "nbformat": 4,
 "nbformat_minor": 5
}
