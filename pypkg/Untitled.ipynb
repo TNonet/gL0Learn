{
 "cells": [
  {
   "cell_type": "code",
   "execution_count": 1,
   "id": "66f8097e-2d0d-48f8-8476-2cb722a9f533",
   "metadata": {},
   "outputs": [],
   "source": [
    "import sys\n",
    "sys.path.append(\"tests/utils\")"
   ]
  },
  {
   "cell_type": "code",
   "execution_count": 2,
   "id": "8f1ec290-cadf-40f9-9a51-97ce89e98c76",
   "metadata": {},
   "outputs": [],
   "source": [
    "import random\n",
    "from typing import Callable, Tuple\n",
    "from copy import deepcopy\n",
    "\n",
    "import numpy as np\n",
    "import pytest\n",
    "from gl0learn import fit, synthetic\n",
    "from gl0learn.metrics import nonzeros\n",
    "from gl0learn.opt import MIO_mosek\n",
    "from hypothesis import given, settings, HealthCheck, assume, note\n",
    "from hypothesis.strategies import just, booleans, floats, integers, random_module\n",
    "\n",
    "from utils import (\n",
    "    _sample_data,\n",
    "    _sample_data2,\n",
    "    sample_from_cov,\n",
    "    overlap_covariance_matrix,\n",
    "    is_scipy_installed,\n",
    "    is_mosek_installed,\n",
    "    make_bisect_func,\n",
    "    random_penalty,\n",
    "    random_penalty_values,\n",
    "    top_n_triu_indicies_by_abs_value,\n",
    ")"
   ]
  },
  {
   "cell_type": "code",
   "execution_count": 3,
   "id": "4442fb02-febe-4101-868f-0279760078e2",
   "metadata": {},
   "outputs": [
    {
     "data": {
      "text/plain": [
       "<function RandomState.seed>"
      ]
     },
     "execution_count": 3,
     "metadata": {},
     "output_type": "execute_result"
    }
   ],
   "source": [
    "np.random.seed"
   ]
  },
  {
   "cell_type": "code",
   "execution_count": 60,
   "id": "ad7f5a9f-c883-4d27-9b57-0f6f5b94dc3e",
   "metadata": {},
   "outputs": [],
   "source": [
    "def test_cd_vs_mosek_high_data(p, module, overlaps, lXs):\n",
    "    num_samples = 30 * p**2\n",
    "    theta_truth = overlap_covariance_matrix(\n",
    "        p=p, seed=module.seed, max_overlaps=overlaps, decay=1 - np.exp(overlaps - 6)\n",
    "    )\n",
    "\n",
    "    assume(all(np.linalg.eigvalsh(theta_truth) > 0))\n",
    "    x = sample_from_cov(n=num_samples, cov=theta_truth)\n",
    "    \n",
    "    print(np.round(np.cov(x.T), 2))\n",
    "\n",
    "    _, _, _, _, y, _ = synthetic.preprocess(x, assume_centered=False, cholesky=True)\n",
    "    \n",
    "    print(np.round(np.cov(y.T), 2))\n",
    "\n",
    "    m = np.max(np.abs(theta_truth * (1 - np.eye(p))))\n",
    "    int_tol = 1e-4\n",
    "\n",
    "    MIO_results = MIO_mosek(y=y, m=m, **lXs, int_tol=int_tol)\n",
    "    cd_results = fit(\n",
    "        y,\n",
    "        **lXs,\n",
    "        theta_init=None,\n",
    "        active_set=0.,\n",
    "        super_active_set=0.,\n",
    "        max_active_set_ratio=1.\n",
    "    )\n",
    "    \n",
    "    print(theta_truth)\n",
    "    print(np.round(MIO_results.theta_hat, 2))\n",
    "    print(np.round(cd_results.theta, 2))\n",
    "\n",
    "    np.testing.assert_array_equal(np.abs(MIO_results.theta_hat) > int_tol,\n",
    "                                  np.abs(cd_results.theta) > 0)\n"
   ]
  },
  {
   "cell_type": "code",
   "execution_count": 61,
   "id": "0d376d99-1675-4db6-9786-1c29d19e80cb",
   "metadata": {},
   "outputs": [
    {
     "data": {
      "text/plain": [
       "\u001b[0;31mSignature:\u001b[0m\n",
       "\u001b[0mnp\u001b[0m\u001b[0;34m.\u001b[0m\u001b[0mcov\u001b[0m\u001b[0;34m(\u001b[0m\u001b[0;34m\u001b[0m\n",
       "\u001b[0;34m\u001b[0m    \u001b[0mm\u001b[0m\u001b[0;34m,\u001b[0m\u001b[0;34m\u001b[0m\n",
       "\u001b[0;34m\u001b[0m    \u001b[0my\u001b[0m\u001b[0;34m=\u001b[0m\u001b[0;32mNone\u001b[0m\u001b[0;34m,\u001b[0m\u001b[0;34m\u001b[0m\n",
       "\u001b[0;34m\u001b[0m    \u001b[0mrowvar\u001b[0m\u001b[0;34m=\u001b[0m\u001b[0;32mTrue\u001b[0m\u001b[0;34m,\u001b[0m\u001b[0;34m\u001b[0m\n",
       "\u001b[0;34m\u001b[0m    \u001b[0mbias\u001b[0m\u001b[0;34m=\u001b[0m\u001b[0;32mFalse\u001b[0m\u001b[0;34m,\u001b[0m\u001b[0;34m\u001b[0m\n",
       "\u001b[0;34m\u001b[0m    \u001b[0mddof\u001b[0m\u001b[0;34m=\u001b[0m\u001b[0;32mNone\u001b[0m\u001b[0;34m,\u001b[0m\u001b[0;34m\u001b[0m\n",
       "\u001b[0;34m\u001b[0m    \u001b[0mfweights\u001b[0m\u001b[0;34m=\u001b[0m\u001b[0;32mNone\u001b[0m\u001b[0;34m,\u001b[0m\u001b[0;34m\u001b[0m\n",
       "\u001b[0;34m\u001b[0m    \u001b[0maweights\u001b[0m\u001b[0;34m=\u001b[0m\u001b[0;32mNone\u001b[0m\u001b[0;34m,\u001b[0m\u001b[0;34m\u001b[0m\n",
       "\u001b[0;34m\u001b[0m    \u001b[0;34m*\u001b[0m\u001b[0;34m,\u001b[0m\u001b[0;34m\u001b[0m\n",
       "\u001b[0;34m\u001b[0m    \u001b[0mdtype\u001b[0m\u001b[0;34m=\u001b[0m\u001b[0;32mNone\u001b[0m\u001b[0;34m,\u001b[0m\u001b[0;34m\u001b[0m\n",
       "\u001b[0;34m\u001b[0m\u001b[0;34m)\u001b[0m\u001b[0;34m\u001b[0m\u001b[0;34m\u001b[0m\u001b[0m\n",
       "\u001b[0;31mDocstring:\u001b[0m\n",
       "Estimate a covariance matrix, given data and weights.\n",
       "\n",
       "Covariance indicates the level to which two variables vary together.\n",
       "If we examine N-dimensional samples, :math:`X = [x_1, x_2, ... x_N]^T`,\n",
       "then the covariance matrix element :math:`C_{ij}` is the covariance of\n",
       ":math:`x_i` and :math:`x_j`. The element :math:`C_{ii}` is the variance\n",
       "of :math:`x_i`.\n",
       "\n",
       "See the notes for an outline of the algorithm.\n",
       "\n",
       "Parameters\n",
       "----------\n",
       "m : array_like\n",
       "    A 1-D or 2-D array containing multiple variables and observations.\n",
       "    Each row of `m` represents a variable, and each column a single\n",
       "    observation of all those variables. Also see `rowvar` below.\n",
       "y : array_like, optional\n",
       "    An additional set of variables and observations. `y` has the same form\n",
       "    as that of `m`.\n",
       "rowvar : bool, optional\n",
       "    If `rowvar` is True (default), then each row represents a\n",
       "    variable, with observations in the columns. Otherwise, the relationship\n",
       "    is transposed: each column represents a variable, while the rows\n",
       "    contain observations.\n",
       "bias : bool, optional\n",
       "    Default normalization (False) is by ``(N - 1)``, where ``N`` is the\n",
       "    number of observations given (unbiased estimate). If `bias` is True,\n",
       "    then normalization is by ``N``. These values can be overridden by using\n",
       "    the keyword ``ddof`` in numpy versions >= 1.5.\n",
       "ddof : int, optional\n",
       "    If not ``None`` the default value implied by `bias` is overridden.\n",
       "    Note that ``ddof=1`` will return the unbiased estimate, even if both\n",
       "    `fweights` and `aweights` are specified, and ``ddof=0`` will return\n",
       "    the simple average. See the notes for the details. The default value\n",
       "    is ``None``.\n",
       "\n",
       "    .. versionadded:: 1.5\n",
       "fweights : array_like, int, optional\n",
       "    1-D array of integer frequency weights; the number of times each\n",
       "    observation vector should be repeated.\n",
       "\n",
       "    .. versionadded:: 1.10\n",
       "aweights : array_like, optional\n",
       "    1-D array of observation vector weights. These relative weights are\n",
       "    typically large for observations considered \"important\" and smaller for\n",
       "    observations considered less \"important\". If ``ddof=0`` the array of\n",
       "    weights can be used to assign probabilities to observation vectors.\n",
       "\n",
       "    .. versionadded:: 1.10\n",
       "dtype : data-type, optional\n",
       "    Data-type of the result. By default, the return data-type will have\n",
       "    at least `numpy.float64` precision.\n",
       "\n",
       "    .. versionadded:: 1.20\n",
       "\n",
       "Returns\n",
       "-------\n",
       "out : ndarray\n",
       "    The covariance matrix of the variables.\n",
       "\n",
       "See Also\n",
       "--------\n",
       "corrcoef : Normalized covariance matrix\n",
       "\n",
       "Notes\n",
       "-----\n",
       "Assume that the observations are in the columns of the observation\n",
       "array `m` and let ``f = fweights`` and ``a = aweights`` for brevity. The\n",
       "steps to compute the weighted covariance are as follows::\n",
       "\n",
       "    >>> m = np.arange(10, dtype=np.float64)\n",
       "    >>> f = np.arange(10) * 2\n",
       "    >>> a = np.arange(10) ** 2.\n",
       "    >>> ddof = 1\n",
       "    >>> w = f * a\n",
       "    >>> v1 = np.sum(w)\n",
       "    >>> v2 = np.sum(w * a)\n",
       "    >>> m -= np.sum(m * w, axis=None, keepdims=True) / v1\n",
       "    >>> cov = np.dot(m * w, m.T) * v1 / (v1**2 - ddof * v2)\n",
       "\n",
       "Note that when ``a == 1``, the normalization factor\n",
       "``v1 / (v1**2 - ddof * v2)`` goes over to ``1 / (np.sum(f) - ddof)``\n",
       "as it should.\n",
       "\n",
       "Examples\n",
       "--------\n",
       "Consider two variables, :math:`x_0` and :math:`x_1`, which\n",
       "correlate perfectly, but in opposite directions:\n",
       "\n",
       ">>> x = np.array([[0, 2], [1, 1], [2, 0]]).T\n",
       ">>> x\n",
       "array([[0, 1, 2],\n",
       "       [2, 1, 0]])\n",
       "\n",
       "Note how :math:`x_0` increases while :math:`x_1` decreases. The covariance\n",
       "matrix shows this clearly:\n",
       "\n",
       ">>> np.cov(x)\n",
       "array([[ 1., -1.],\n",
       "       [-1.,  1.]])\n",
       "\n",
       "Note that element :math:`C_{0,1}`, which shows the correlation between\n",
       ":math:`x_0` and :math:`x_1`, is negative.\n",
       "\n",
       "Further, note how `x` and `y` are combined:\n",
       "\n",
       ">>> x = [-2.1, -1,  4.3]\n",
       ">>> y = [3,  1.1,  0.12]\n",
       ">>> X = np.stack((x, y), axis=0)\n",
       ">>> np.cov(X)\n",
       "array([[11.71      , -4.286     ], # may vary\n",
       "       [-4.286     ,  2.144133]])\n",
       ">>> np.cov(x, y)\n",
       "array([[11.71      , -4.286     ], # may vary\n",
       "       [-4.286     ,  2.144133]])\n",
       ">>> np.cov(x)\n",
       "array(11.71)\n",
       "\u001b[0;31mFile:\u001b[0m      ~/opt/anaconda3/envs/gl0learn_pypkg/lib/python3.9/site-packages/numpy/lib/function_base.py\n",
       "\u001b[0;31mType:\u001b[0m      function\n"
      ]
     },
     "metadata": {},
     "output_type": "display_data"
    }
   ],
   "source": [
    "np.cov?"
   ]
  },
  {
   "cell_type": "code",
   "execution_count": 62,
   "id": "a3cfe02d-dd92-41cd-9bfd-226e2eae408b",
   "metadata": {},
   "outputs": [],
   "source": [
    "class RandomSeeder:\n",
    "    \n",
    "    def __init__(self, seed: int):\n",
    "        self.seed = seed"
   ]
  },
  {
   "cell_type": "code",
   "execution_count": 63,
   "id": "950f7bdb-ea27-460f-86aa-5496de597357",
   "metadata": {},
   "outputs": [],
   "source": [
    "p = 6\n",
    "module = RandomSeeder(0)\n",
    "overlaps = 2\n",
    "lXs = {'l0': 0.01, 'l2': 0.01}"
   ]
  },
  {
   "cell_type": "code",
   "execution_count": 64,
   "id": "9993b002-aaf8-415e-a7de-18f4ddab33a8",
   "metadata": {},
   "outputs": [
    {
     "name": "stdout",
     "output_type": "stream",
     "text": [
      "[[ 4.15 -3.68  3.17  3.36 -3.39 -3.31]\n",
      " [-3.68  4.81 -3.31 -4.23  3.21  3.82]\n",
      " [ 3.17 -3.31  4.75  3.63 -3.61 -4.15]\n",
      " [ 3.36 -4.23  3.63  5.32 -3.23 -4.45]\n",
      " [-3.39  3.21 -3.61 -3.23  4.16  3.42]\n",
      " [-3.31  3.82 -4.15 -4.45  3.42  5.27]]\n",
      "[[ 0.69 -0.7   0.45  0.52 -0.6  -0.57]\n",
      " [-0.7   0.95 -0.61 -0.8   0.62  0.74]\n",
      " [ 0.45 -0.61  0.72  0.53 -0.62 -0.71]\n",
      " [ 0.52 -0.8   0.53  0.89 -0.55 -0.78]\n",
      " [-0.6   0.62 -0.62 -0.55  0.78  0.63]\n",
      " [-0.57  0.74 -0.71 -0.78  0.63  0.99]]\n",
      "gL0LearnFit 1\n",
      "gL0LearnFit 2\n",
      "gL0LearnFit 2\n",
      "fit 1\n",
      "fit loop0\n",
      "current_iter: 1 cur_objective = -0.911444\n",
      "fit loop1\n",
      "current_iter: 2 cur_objective = -2.43987\n",
      "fit loop2\n",
      "current_iter: 3 cur_objective = -3.13604\n",
      "fit loop3\n",
      "current_iter: 4 cur_objective = -3.57924\n",
      "fit loop4\n",
      "current_iter: 5 cur_objective = -3.84942\n",
      "fit loop5\n",
      "current_iter: 6 cur_objective = -4.03328\n",
      "fit loop6\n",
      "current_iter: 7 cur_objective = -4.14192\n",
      "fit loop7\n",
      "current_iter: 8 cur_objective = -4.21246\n",
      "fit loop8\n",
      "current_iter: 9 cur_objective = -4.2724\n",
      "fit loop9\n",
      "current_iter: 10 cur_objective = -4.30606\n",
      "fit loop10\n",
      "current_iter: 11 cur_objective = -4.32633\n",
      "fit loop11\n",
      "current_iter: 12 cur_objective = -4.33863\n",
      "fit loop12\n",
      "current_iter: 13 cur_objective = -4.3463\n",
      "fit loop13\n",
      "current_iter: 14 cur_objective = -4.35116\n",
      "fit loop14\n",
      "current_iter: 15 cur_objective = -4.35428\n",
      "fit loop15\n",
      "current_iter: 16 cur_objective = -4.36591\n",
      "fit loop16\n",
      "current_iter: 17 cur_objective = -4.36714\n",
      "fit loop17\n",
      "current_iter: 18 cur_objective = -4.36793\n",
      "fit loop18\n",
      "current_iter: 19 cur_objective = -4.36843\n",
      "fit loop19\n",
      "current_iter: 20 cur_objective = -4.36876\n",
      "fit loop20\n",
      "current_iter: 21 cur_objective = -4.36897\n",
      "fit loop21\n",
      "current_iter: 22 cur_objective = -4.36911\n",
      "fit loop22\n",
      "current_iter: 23 cur_objective = -4.3692\n",
      "fit loop23\n",
      "current_iter: 24 cur_objective = -4.36925\n",
      "fit loop24\n",
      "current_iter: 25 cur_objective = -4.36929\n",
      "fit loop25\n",
      "current_iter: 26 cur_objective = -4.36931\n",
      "fit loop26\n",
      "current_iter: 27 cur_objective = -4.36932\n",
      "fit loop27\n",
      "current_iter: 28 cur_objective = -4.36933\n",
      "fit loop28\n",
      "current_iter: 29 cur_objective = -4.36934\n",
      "fit loop29\n",
      "current_iter: 30 cur_objective = -4.36934\n",
      "[[1.         0.47302666 0.         0.         0.46436288 0.        ]\n",
      " [0.47302666 1.         0.         0.49084218 0.         0.        ]\n",
      " [0.         0.         1.         0.         0.45585778 0.5       ]\n",
      " [0.         0.49084218 0.         1.         0.         0.48185209]\n",
      " [0.46436288 0.         0.45585778 0.         1.         0.        ]\n",
      " [0.         0.         0.5        0.48185209 0.         1.        ]]\n",
      "[[1.09 0.5  0.   0.   0.5  0.  ]\n",
      " [0.5  1.01 0.   0.48 0.   0.  ]\n",
      " [0.   0.   0.97 0.   0.46 0.47]\n",
      " [0.   0.48 0.   0.98 0.   0.48]\n",
      " [0.5  0.   0.46 0.   1.04 0.  ]\n",
      " [0.   0.   0.47 0.48 0.   0.96]]\n",
      "[[ 5.74  2.57 -0.   -0.    2.59  0.  ]\n",
      " [ 2.57  5.55 -0.    2.37 -0.   -0.41]\n",
      " [-0.   -0.    5.14 -0.    2.37  2.45]\n",
      " [-0.    2.37 -0.    4.93  0.    2.38]\n",
      " [ 2.59 -0.    2.37  0.    5.51 -0.  ]\n",
      " [ 0.   -0.41  2.45  2.38 -0.    5.31]]\n"
     ]
    },
    {
     "ename": "AssertionError",
     "evalue": "\nArrays are not equal\n\nMismatched elements: 2 / 36 (5.56%)\n x: array([[ True,  True, False, False,  True, False],\n       [ True,  True, False,  True, False, False],\n       [False, False,  True, False,  True,  True],...\n y: array([[ True,  True, False, False,  True, False],\n       [ True,  True, False,  True, False,  True],\n       [False, False,  True, False,  True,  True],...",
     "output_type": "error",
     "traceback": [
      "\u001b[0;31m---------------------------------------------------------------------------\u001b[0m",
      "\u001b[0;31mAssertionError\u001b[0m                            Traceback (most recent call last)",
      "\u001b[0;32m/var/folders/xq/mwcnpp0j5ls5jjcyx7nsdwyh0000gn/T/ipykernel_49013/1658781139.py\u001b[0m in \u001b[0;36m<module>\u001b[0;34m\u001b[0m\n\u001b[0;32m----> 1\u001b[0;31m \u001b[0mtest_cd_vs_mosek_high_data\u001b[0m\u001b[0;34m(\u001b[0m\u001b[0mp\u001b[0m\u001b[0;34m,\u001b[0m \u001b[0mmodule\u001b[0m\u001b[0;34m,\u001b[0m \u001b[0moverlaps\u001b[0m\u001b[0;34m,\u001b[0m \u001b[0mlXs\u001b[0m\u001b[0;34m)\u001b[0m\u001b[0;34m\u001b[0m\u001b[0;34m\u001b[0m\u001b[0m\n\u001b[0m",
      "\u001b[0;32m/var/folders/xq/mwcnpp0j5ls5jjcyx7nsdwyh0000gn/T/ipykernel_49013/2595406682.py\u001b[0m in \u001b[0;36mtest_cd_vs_mosek_high_data\u001b[0;34m(p, module, overlaps, lXs)\u001b[0m\n\u001b[1;32m     31\u001b[0m     \u001b[0mprint\u001b[0m\u001b[0;34m(\u001b[0m\u001b[0mnp\u001b[0m\u001b[0;34m.\u001b[0m\u001b[0mround\u001b[0m\u001b[0;34m(\u001b[0m\u001b[0mcd_results\u001b[0m\u001b[0;34m.\u001b[0m\u001b[0mtheta\u001b[0m\u001b[0;34m,\u001b[0m \u001b[0;36m2\u001b[0m\u001b[0;34m)\u001b[0m\u001b[0;34m)\u001b[0m\u001b[0;34m\u001b[0m\u001b[0;34m\u001b[0m\u001b[0m\n\u001b[1;32m     32\u001b[0m \u001b[0;34m\u001b[0m\u001b[0m\n\u001b[0;32m---> 33\u001b[0;31m     np.testing.assert_array_equal(np.abs(MIO_results.theta_hat) > int_tol,\n\u001b[0m\u001b[1;32m     34\u001b[0m                                   np.abs(cd_results.theta) > 0)\n",
      "    \u001b[0;31m[... skipping hidden 1 frame]\u001b[0m\n",
      "\u001b[0;32m~/opt/anaconda3/envs/gl0learn_pypkg/lib/python3.9/site-packages/numpy/testing/_private/utils.py\u001b[0m in \u001b[0;36massert_array_compare\u001b[0;34m(comparison, x, y, err_msg, verbose, header, precision, equal_nan, equal_inf)\u001b[0m\n\u001b[1;32m    842\u001b[0m                                 \u001b[0mverbose\u001b[0m\u001b[0;34m=\u001b[0m\u001b[0mverbose\u001b[0m\u001b[0;34m,\u001b[0m \u001b[0mheader\u001b[0m\u001b[0;34m=\u001b[0m\u001b[0mheader\u001b[0m\u001b[0;34m,\u001b[0m\u001b[0;34m\u001b[0m\u001b[0;34m\u001b[0m\u001b[0m\n\u001b[1;32m    843\u001b[0m                                 names=('x', 'y'), precision=precision)\n\u001b[0;32m--> 844\u001b[0;31m             \u001b[0;32mraise\u001b[0m \u001b[0mAssertionError\u001b[0m\u001b[0;34m(\u001b[0m\u001b[0mmsg\u001b[0m\u001b[0;34m)\u001b[0m\u001b[0;34m\u001b[0m\u001b[0;34m\u001b[0m\u001b[0m\n\u001b[0m\u001b[1;32m    845\u001b[0m     \u001b[0;32mexcept\u001b[0m \u001b[0mValueError\u001b[0m\u001b[0;34m:\u001b[0m\u001b[0;34m\u001b[0m\u001b[0;34m\u001b[0m\u001b[0m\n\u001b[1;32m    846\u001b[0m         \u001b[0;32mimport\u001b[0m \u001b[0mtraceback\u001b[0m\u001b[0;34m\u001b[0m\u001b[0;34m\u001b[0m\u001b[0m\n",
      "\u001b[0;31mAssertionError\u001b[0m: \nArrays are not equal\n\nMismatched elements: 2 / 36 (5.56%)\n x: array([[ True,  True, False, False,  True, False],\n       [ True,  True, False,  True, False, False],\n       [False, False,  True, False,  True,  True],...\n y: array([[ True,  True, False, False,  True, False],\n       [ True,  True, False,  True, False,  True],\n       [False, False,  True, False,  True,  True],..."
     ]
    }
   ],
   "source": [
    "#TODO, Seem to be operating on the cov of X, not y... How is this happening?\n",
    "\n",
    "test_cd_vs_mosek_high_data(p, module, overlaps, lXs)"
   ]
  },
  {
   "cell_type": "code",
   "execution_count": 22,
   "id": "125843d2-7f1f-44ba-9374-13f0c9d7163b",
   "metadata": {},
   "outputs": [],
   "source": [
    "x = np.arange(10).reshape(5, 2)"
   ]
  },
  {
   "cell_type": "code",
   "execution_count": 21,
   "id": "d949868a-a0e9-4fe6-88b4-a1a6a0053324",
   "metadata": {},
   "outputs": [
    {
     "ename": "IndexError",
     "evalue": "index 5 is out of bounds for axis 0 with size 5",
     "output_type": "error",
     "traceback": [
      "\u001b[0;31m---------------------------------------------------------------------------\u001b[0m",
      "\u001b[0;31mIndexError\u001b[0m                                Traceback (most recent call last)",
      "\u001b[0;32m/var/folders/xq/mwcnpp0j5ls5jjcyx7nsdwyh0000gn/T/ipykernel_48688/1261412783.py\u001b[0m in \u001b[0;36m<module>\u001b[0;34m\u001b[0m\n\u001b[0;32m----> 1\u001b[0;31m \u001b[0mx\u001b[0m\u001b[0;34m[\u001b[0m\u001b[0;34m[\u001b[0m\u001b[0;36m1\u001b[0m\u001b[0;34m,\u001b[0m \u001b[0;36m5\u001b[0m\u001b[0;34m]\u001b[0m\u001b[0;34m,\u001b[0m\u001b[0;34m:\u001b[0m\u001b[0;34m]\u001b[0m\u001b[0;34m\u001b[0m\u001b[0;34m\u001b[0m\u001b[0m\n\u001b[0m",
      "\u001b[0;31mIndexError\u001b[0m: index 5 is out of bounds for axis 0 with size 5"
     ]
    }
   ],
   "source": [
    "x[[1, 5],:]"
   ]
  },
  {
   "cell_type": "code",
   "execution_count": null,
   "id": "342fdaf0-db58-4040-baeb-070ba6d0e041",
   "metadata": {},
   "outputs": [],
   "source": [
    "p*(p-1)//2"
   ]
  },
  {
   "cell_type": "code",
   "execution_count": 7,
   "id": "1db90aa2-b92f-4a54-a625-b3817f1c8fbd",
   "metadata": {},
   "outputs": [
    {
     "data": {
      "text/plain": [
       "<function numpy.triu(m, k=0)>"
      ]
     },
     "execution_count": 7,
     "metadata": {},
     "output_type": "execute_result"
    }
   ],
   "source": [
    "np.triu"
   ]
  },
  {
   "cell_type": "code",
   "execution_count": 11,
   "id": "f8a6949f-adee-476e-bafd-4792a40a1205",
   "metadata": {},
   "outputs": [],
   "source": [
    "def top_n_triu_indicies_by_abs_value(x, n):\n",
    "    \"\"\"\n",
    "    Parameters\n",
    "    ----------\n",
    "    n: int\n",
    "        Number of indicies to return.\n",
    "        If n is greather than p*(p-1)//2, the number of upper triangluer coordinates, an error is raised\n",
    "        If there are only k non-zero vaues, st k < n. Only k values are returned.\n",
    "    \"\"\"\n",
    "    if n <= 0:\n",
    "        raise ValueError(f\"Cannot request {n} non-zero items\")\n",
    "\n",
    "    p, p1 = x.shape\n",
    "    if p != p1:\n",
    "        raise ValueError(f\"x is not a square matrix\")\n",
    "\n",
    "    if n > p*(p-1)//2:\n",
    "        raise ValueError(f\"n is to large for a {p} by {p} matrix\")\n",
    "\n",
    "    triu_x = np.abs(np.triu(x, k=1))\n",
    "\n",
    "    if (triu_x==0).all():\n",
    "        raise ValueError(\"All triu values of x are 0.\")\n",
    "\n",
    "    triu_x_flat = triu_x.flatten()\n",
    "\n",
    "    non_zero_triu_x = triu_x_flat[np.nonzero(triu_x_flat)]\n",
    "    nnz = non_zero_triu_x.size\n",
    "    if (np.unique(non_zero_triu_x).size != nnz):\n",
    "        raise NotImplementedError(\"Not implemented for arrays with duplicate values\")\n",
    "\n",
    "    sorted_triu_values = np.sort(triu_x_flat)[::-1]\n",
    "\n",
    "    if sorted_triu_values[n] == 0:\n",
    "        n = np.where(sorted_triu_values == 0)[0][0] - 1\n",
    "        return np.where(triu_x >= sorted_triu_values[n])"
   ]
  },
  {
   "cell_type": "code",
   "execution_count": 12,
   "id": "ac5f2795-7e64-4576-94ae-367d8a292f96",
   "metadata": {},
   "outputs": [
    {
     "name": "stdout",
     "output_type": "stream",
     "text": [
      "[[ 1.  0.  0.  0. -1.]\n",
      " [ 0.  1.  0.  0.  0.]\n",
      " [ 0.  0.  1.  0.  0.]\n",
      " [ 0.  0.  0.  1.  0.]\n",
      " [ 0.  0.  0.  0.  1.]]\n"
     ]
    },
    {
     "data": {
      "text/plain": [
       "(array([0]), array([4]))"
      ]
     },
     "execution_count": 12,
     "metadata": {},
     "output_type": "execute_result"
    }
   ],
   "source": [
    "theta = np.eye(5)\n",
    "theta[0, 4] = -1\n",
    "print(theta)\n",
    "\n",
    "top_n_triu_indicies_by_abs_value(theta, 1)"
   ]
  },
  {
   "cell_type": "raw",
   "id": "b7d5be10-5625-4500-9bda-7774ae8320e8",
   "metadata": {},
   "source": [
    "np.where(sorted_triu_values, "
   ]
  },
  {
   "cell_type": "code",
   "execution_count": 19,
   "id": "83a4c056-302e-45af-9f30-48e75d695635",
   "metadata": {},
   "outputs": [
    {
     "data": {
      "text/plain": [
       "<function numpy.nonzero(a)>"
      ]
     },
     "execution_count": 19,
     "metadata": {},
     "output_type": "execute_result"
    }
   ],
   "source": [
    "np.nonzero"
   ]
  },
  {
   "cell_type": "code",
   "execution_count": 84,
   "id": "0bfb9b2d-18d9-42bf-86f8-efb2d1b1e343",
   "metadata": {},
   "outputs": [
    {
     "name": "stdout",
     "output_type": "stream",
     "text": [
      "[[1.  0.  0. ]\n",
      " [0.  1.  0.5]\n",
      " [0.  0.  1. ]]\n"
     ]
    }
   ],
   "source": [
    "theta_truth = np.eye(3)\n",
    "theta_truth[1, 2] = 0.5\n",
    "print(theta_truth)"
   ]
  },
  {
   "cell_type": "code",
   "execution_count": 12,
   "id": "60895059-3402-4950-8642-bbf9ae1450fb",
   "metadata": {},
   "outputs": [
    {
     "data": {
      "text/plain": [
       "\u001b[0;31mSignature:\u001b[0m\n",
       "\u001b[0mnp\u001b[0m\u001b[0;34m.\u001b[0m\u001b[0munique\u001b[0m\u001b[0;34m(\u001b[0m\u001b[0;34m\u001b[0m\n",
       "\u001b[0;34m\u001b[0m    \u001b[0mar\u001b[0m\u001b[0;34m,\u001b[0m\u001b[0;34m\u001b[0m\n",
       "\u001b[0;34m\u001b[0m    \u001b[0mreturn_index\u001b[0m\u001b[0;34m=\u001b[0m\u001b[0;32mFalse\u001b[0m\u001b[0;34m,\u001b[0m\u001b[0;34m\u001b[0m\n",
       "\u001b[0;34m\u001b[0m    \u001b[0mreturn_inverse\u001b[0m\u001b[0;34m=\u001b[0m\u001b[0;32mFalse\u001b[0m\u001b[0;34m,\u001b[0m\u001b[0;34m\u001b[0m\n",
       "\u001b[0;34m\u001b[0m    \u001b[0mreturn_counts\u001b[0m\u001b[0;34m=\u001b[0m\u001b[0;32mFalse\u001b[0m\u001b[0;34m,\u001b[0m\u001b[0;34m\u001b[0m\n",
       "\u001b[0;34m\u001b[0m    \u001b[0maxis\u001b[0m\u001b[0;34m=\u001b[0m\u001b[0;32mNone\u001b[0m\u001b[0;34m,\u001b[0m\u001b[0;34m\u001b[0m\n",
       "\u001b[0;34m\u001b[0m\u001b[0;34m)\u001b[0m\u001b[0;34m\u001b[0m\u001b[0;34m\u001b[0m\u001b[0m\n",
       "\u001b[0;31mDocstring:\u001b[0m\n",
       "Find the unique elements of an array.\n",
       "\n",
       "Returns the sorted unique elements of an array. There are three optional\n",
       "outputs in addition to the unique elements:\n",
       "\n",
       "* the indices of the input array that give the unique values\n",
       "* the indices of the unique array that reconstruct the input array\n",
       "* the number of times each unique value comes up in the input array\n",
       "\n",
       "Parameters\n",
       "----------\n",
       "ar : array_like\n",
       "    Input array. Unless `axis` is specified, this will be flattened if it\n",
       "    is not already 1-D.\n",
       "return_index : bool, optional\n",
       "    If True, also return the indices of `ar` (along the specified axis,\n",
       "    if provided, or in the flattened array) that result in the unique array.\n",
       "return_inverse : bool, optional\n",
       "    If True, also return the indices of the unique array (for the specified\n",
       "    axis, if provided) that can be used to reconstruct `ar`.\n",
       "return_counts : bool, optional\n",
       "    If True, also return the number of times each unique item appears\n",
       "    in `ar`.\n",
       "\n",
       "    .. versionadded:: 1.9.0\n",
       "\n",
       "axis : int or None, optional\n",
       "    The axis to operate on. If None, `ar` will be flattened. If an integer,\n",
       "    the subarrays indexed by the given axis will be flattened and treated\n",
       "    as the elements of a 1-D array with the dimension of the given axis,\n",
       "    see the notes for more details.  Object arrays or structured arrays\n",
       "    that contain objects are not supported if the `axis` kwarg is used. The\n",
       "    default is None.\n",
       "\n",
       "    .. versionadded:: 1.13.0\n",
       "\n",
       "Returns\n",
       "-------\n",
       "unique : ndarray\n",
       "    The sorted unique values.\n",
       "unique_indices : ndarray, optional\n",
       "    The indices of the first occurrences of the unique values in the\n",
       "    original array. Only provided if `return_index` is True.\n",
       "unique_inverse : ndarray, optional\n",
       "    The indices to reconstruct the original array from the\n",
       "    unique array. Only provided if `return_inverse` is True.\n",
       "unique_counts : ndarray, optional\n",
       "    The number of times each of the unique values comes up in the\n",
       "    original array. Only provided if `return_counts` is True.\n",
       "\n",
       "    .. versionadded:: 1.9.0\n",
       "\n",
       "See Also\n",
       "--------\n",
       "numpy.lib.arraysetops : Module with a number of other functions for\n",
       "                        performing set operations on arrays.\n",
       "repeat : Repeat elements of an array.\n",
       "\n",
       "Notes\n",
       "-----\n",
       "When an axis is specified the subarrays indexed by the axis are sorted.\n",
       "This is done by making the specified axis the first dimension of the array\n",
       "(move the axis to the first dimension to keep the order of the other axes)\n",
       "and then flattening the subarrays in C order. The flattened subarrays are\n",
       "then viewed as a structured type with each element given a label, with the\n",
       "effect that we end up with a 1-D array of structured types that can be\n",
       "treated in the same way as any other 1-D array. The result is that the\n",
       "flattened subarrays are sorted in lexicographic order starting with the\n",
       "first element.\n",
       "\n",
       ".. versionchanged: NumPy 1.21\n",
       "    If nan values are in the input array, a single nan is put\n",
       "    to the end of the sorted unique values.\n",
       "\n",
       "    Also for complex arrays all NaN values are considered equivalent\n",
       "    (no matter whether the NaN is in the real or imaginary part).\n",
       "    As the representant for the returned array the smallest one in the\n",
       "    lexicographical order is chosen - see np.sort for how the lexicographical\n",
       "    order is defined for complex arrays.\n",
       "\n",
       "Examples\n",
       "--------\n",
       ">>> np.unique([1, 1, 2, 2, 3, 3])\n",
       "array([1, 2, 3])\n",
       ">>> a = np.array([[1, 1], [2, 3]])\n",
       ">>> np.unique(a)\n",
       "array([1, 2, 3])\n",
       "\n",
       "Return the unique rows of a 2D array\n",
       "\n",
       ">>> a = np.array([[1, 0, 0], [1, 0, 0], [2, 3, 4]])\n",
       ">>> np.unique(a, axis=0)\n",
       "array([[1, 0, 0], [2, 3, 4]])\n",
       "\n",
       "Return the indices of the original array that give the unique values:\n",
       "\n",
       ">>> a = np.array(['a', 'b', 'b', 'c', 'a'])\n",
       ">>> u, indices = np.unique(a, return_index=True)\n",
       ">>> u\n",
       "array(['a', 'b', 'c'], dtype='<U1')\n",
       ">>> indices\n",
       "array([0, 1, 3])\n",
       ">>> a[indices]\n",
       "array(['a', 'b', 'c'], dtype='<U1')\n",
       "\n",
       "Reconstruct the input array from the unique values and inverse:\n",
       "\n",
       ">>> a = np.array([1, 2, 6, 4, 2, 3, 2])\n",
       ">>> u, indices = np.unique(a, return_inverse=True)\n",
       ">>> u\n",
       "array([1, 2, 3, 4, 6])\n",
       ">>> indices\n",
       "array([0, 1, 4, 3, 1, 2, 1])\n",
       ">>> u[indices]\n",
       "array([1, 2, 6, 4, 2, 3, 2])\n",
       "\n",
       "Reconstruct the input values from the unique values and counts:\n",
       "\n",
       ">>> a = np.array([1, 2, 6, 4, 2, 3, 2])\n",
       ">>> values, counts = np.unique(a, return_counts=True)\n",
       ">>> values\n",
       "array([1, 2, 3, 4, 6])\n",
       ">>> counts\n",
       "array([1, 3, 1, 1, 1])\n",
       ">>> np.repeat(values, counts)\n",
       "array([1, 2, 2, 2, 3, 4, 6])    # original order not preserved\n",
       "\u001b[0;31mFile:\u001b[0m      ~/opt/anaconda3/envs/gl0learn_pypkg/lib/python3.9/site-packages/numpy/lib/arraysetops.py\n",
       "\u001b[0;31mType:\u001b[0m      function\n"
      ]
     },
     "metadata": {},
     "output_type": "display_data"
    }
   ],
   "source": [
    "np.unique?"
   ]
  },
  {
   "cell_type": "code",
   "execution_count": 85,
   "id": "d7c215c3-cf11-43ab-890c-18da21bd7f1d",
   "metadata": {},
   "outputs": [
    {
     "name": "stdout",
     "output_type": "stream",
     "text": [
      "3\n",
      "[0.5 0.  0.  0.  0.  0.  0.  0.  0. ]\n",
      "0\n"
     ]
    },
    {
     "data": {
      "text/plain": [
       "(array([1]), array([2]))"
      ]
     },
     "execution_count": 85,
     "metadata": {},
     "output_type": "execute_result"
    }
   ],
   "source": [
    "top_n_triu_indicies_by_abs_value(theta_truth, 3)"
   ]
  },
  {
   "cell_type": "code",
   "execution_count": null,
   "id": "9d217197-8b59-4ea2-b247-c50a8ac0f58c",
   "metadata": {},
   "outputs": [],
   "source": []
  }
 ],
 "metadata": {
  "kernelspec": {
   "display_name": "Python 3 (ipykernel)",
   "language": "python",
   "name": "python3"
  },
  "language_info": {
   "codemirror_mode": {
    "name": "ipython",
    "version": 3
   },
   "file_extension": ".py",
   "mimetype": "text/x-python",
   "name": "python",
   "nbconvert_exporter": "python",
   "pygments_lexer": "ipython3",
   "version": "3.9.7"
  }
 },
 "nbformat": 4,
 "nbformat_minor": 5
}
