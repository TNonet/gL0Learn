{
 "cells": [
  {
   "cell_type": "code",
   "execution_count": 1,
   "id": "66f8097e-2d0d-48f8-8476-2cb722a9f533",
   "metadata": {},
   "outputs": [],
   "source": [
    "import sys\n",
    "sys.path.append(\"tests/utils\")"
   ]
  },
  {
   "cell_type": "code",
   "execution_count": 2,
   "id": "15161854-a279-433e-a1c9-f31376804d13",
   "metadata": {},
   "outputs": [],
   "source": [
    "from mosek.fusion import SolutionError"
   ]
  },
  {
   "cell_type": "code",
   "execution_count": 3,
   "id": "8f1ec290-cadf-40f9-9a51-97ce89e98c76",
   "metadata": {},
   "outputs": [],
   "source": [
    "import random\n",
    "from typing import Callable, Tuple\n",
    "from copy import deepcopy\n",
    "\n",
    "import numpy as np\n",
    "import pytest\n",
    "from gl0learn import fit, synthetic, Penalty\n",
    "from gl0learn.metrics import nonzeros, pseudo_likelihood_loss\n",
    "from gl0learn.opt import MIO_mosek\n",
    "from gl0learn.gl0learn_core import check_coordinate_matrix\n",
    "from gl0learn.utils import triu_nnz_indicies\n",
    "from hypothesis import given, settings, HealthCheck, assume, note\n",
    "from hypothesis.strategies import just, booleans, floats, integers, random_module\n",
    "\n",
    "from utils import (\n",
    "    _sample_data,\n",
    "    _sample_data2,\n",
    "    sample_from_cov,\n",
    "    overlap_covariance_matrix,\n",
    "    is_scipy_installed,\n",
    "    is_mosek_installed,\n",
    "    make_bisect_func,\n",
    "    random_penalty,\n",
    "    random_penalty_values,\n",
    "    top_n_triu_indicies_by_abs_value,\n",
    ")"
   ]
  },
  {
   "cell_type": "code",
   "execution_count": null,
   "id": "4442fb02-febe-4101-868f-0279760078e2",
   "metadata": {},
   "outputs": [],
   "source": []
  },
  {
   "cell_type": "code",
   "execution_count": 4,
   "id": "ad7f5a9f-c883-4d27-9b57-0f6f5b94dc3e",
   "metadata": {},
   "outputs": [],
   "source": [
    "MAX_OVERLAPS = 6\n",
    "\n",
    "# @pytest.mark.parametrize(\"algorithm\", [\"CD\", \"CDPSI\"])\n",
    "# @given(\n",
    "#     max_iter=integers(1, 1000),\n",
    "#     active_set=floats(0, 2),\n",
    "#     tol=floats(1e-16, 1e-1),\n",
    "#     super_active_set=floats(0, 2),\n",
    "#     p=integers(2, 10),\n",
    "#     n=floats(0, 1000),\n",
    "#     overlaps=integers(1, MAX_OVERLAPS-1),\n",
    "#     module=random_module(),\n",
    "#     lXs=random_penalty_values(\n",
    "#         penalty_strategies=random_penalty(l0=just(True), l1=booleans(), l2=booleans()),\n",
    "#         values_strategies={\"l0\": floats(0, 10), \"l1\": floats(0, 10), \"l2\": floats(0, 10)},\n",
    "#     ),\n",
    "# )\n",
    "# @settings(max_examples=1000, deadline=None)\n",
    "def test_fit_is_reproducible(n, p, max_iter, module, overlaps, active_set, super_active_set, lXs, tol, algorithm):\n",
    "    assume(active_set > super_active_set)\n",
    "    num_samples = max(1, int(n * p**2))\n",
    "    theta_truth = overlap_covariance_matrix(\n",
    "        p=p, seed=module.seed, max_overlaps=overlaps, decay=1 - np.exp(overlaps - MAX_OVERLAPS)\n",
    "    )\n",
    "\n",
    "    assume(all(np.linalg.eigvalsh(theta_truth) > 0))\n",
    "    x = sample_from_cov(n=num_samples, cov=theta_truth)\n",
    "\n",
    "    _, _, _, _, y, _ = synthetic.preprocess(x, assume_centered=False, cholesky=True)\n",
    "\n",
    "    fit_dict = dict(**lXs,\n",
    "                    scale_x=False,\n",
    "                    theta_init=None,\n",
    "                    active_set=active_set,\n",
    "                    max_iter=max_iter,\n",
    "                    seed=module.seed,\n",
    "                    super_active_set=super_active_set,\n",
    "                    max_active_set_ratio=1.0,\n",
    "                    tol=tol)\n",
    "    \n",
    "    print(fit_dict)\n",
    "    print(y)\n",
    "\n",
    "    fit1 = fit(\n",
    "        y,\n",
    "        **fit_dict\n",
    "    )\n",
    "\n",
    "    fit2 = fit(\n",
    "        y,\n",
    "        **fit_dict\n",
    "    )\n",
    "    \n",
    "    print(fit1.theta)\n",
    "    print(fit2.theta)\n",
    "    print(np.array_equal(fit1.theta, fit2.theta, equal_nan=True))\n",
    "    \n",
    "    print(fit1.R)\n",
    "    print(fit2.R)\n",
    "    print(np.array_equal(fit1.R, fit2.R, equal_nan=True))\n",
    "    \n",
    "    print(fit1.active_set_size)\n",
    "    print(fit2.active_set_size)\n",
    "    print(np.array_equal(fit1.active_set_size, fit2.active_set_size, equal_nan=True))\n",
    "    \n",
    "    print(fit1.costs)\n",
    "    print(fit2.costs)\n",
    "    print(np.array_equal(fit1.costs, fit2.costs, equal_nan=True))\n",
    "    \n",
    "    \n",
    "    assert fit1 == fit2"
   ]
  },
  {
   "cell_type": "code",
   "execution_count": 5,
   "id": "a3cfe02d-dd92-41cd-9bfd-226e2eae408b",
   "metadata": {},
   "outputs": [],
   "source": [
    "class RandomSeeder:\n",
    "    \n",
    "    def __init__(self, seed: int):\n",
    "        self.seed = seed"
   ]
  },
  {
   "cell_type": "code",
   "execution_count": 6,
   "id": "950f7bdb-ea27-460f-86aa-5496de597357",
   "metadata": {},
   "outputs": [],
   "source": [
    "# n = 40\n",
    "# p = 4\n",
    "# module = RandomSeeder(29)\n",
    "# overlaps = 2\n",
    "# lXs = {'l0': 0.01, 'l2': 0.01}\n",
    "\n",
    "# n = 50\n",
    "# p = 3\n",
    "# module = RandomSeeder(0)\n",
    "# overlaps = 1\n",
    "# lXs = {'l0': 0.5452059022532182, 'l2': 0.1}\n",
    "\n"
   ]
  },
  {
   "cell_type": "code",
   "execution_count": 8,
   "id": "9993b002-aaf8-415e-a7de-18f4ddab33a8",
   "metadata": {},
   "outputs": [
    {
     "name": "stdout",
     "output_type": "stream",
     "text": [
      "{'l0': 0.0, 'scale_x': False, 'theta_init': None, 'active_set': 4.440892098500627e-16, 'max_iter': 1, 'seed': 0, 'super_active_set': 0.0, 'max_active_set_ratio': 1.0, 'tol': 1e-16}\n",
      "[[0. 0.]]\n",
      "gL0LearnFit 1\n",
      "gL0LearnFit 2\n",
      "gL0LearnFit 2\n",
      "fit 1\n",
      "current_iter: 0 cur_objective = 0\n",
      "fit loop0\n",
      "current_iter: 1 cur_objective = nan\n",
      "fit loop1\n",
      "current_iter: 2 cur_objective = nan\n",
      "gL0LearnFit 1\n",
      "gL0LearnFit 2\n",
      "gL0LearnFit 2\n",
      "fit 1\n",
      "current_iter: 0 cur_objective = 0\n",
      "fit loop0\n",
      "current_iter: 1 cur_objective = nan\n",
      "fit loop1\n",
      "current_iter: 2 cur_objective = nan\n",
      "[[nan  0.]\n",
      " [ 0. nan]]\n",
      "[[nan  0.]\n",
      " [ 0. nan]]\n",
      "True\n",
      "[[nan nan]]\n",
      "[[nan nan]]\n",
      "True\n",
      "[0, 0, 0]\n",
      "[0, 0, 0]\n",
      "True\n",
      "[nan, nan, nan]\n",
      "[nan, nan, nan]\n",
      "True\n",
      "[True, True, True, True]\n"
     ]
    }
   ],
   "source": [
    "#TODO, Seem to be operating on the cov of X, not y... How is this happening?\n",
    "\n",
    "test_fit_is_reproducible(max_iter=1,\n",
    "    active_set=4.440892098500627e-16,\n",
    "    tol=1e-16,\n",
    "    super_active_set=0.0,\n",
    "    p=2,\n",
    "    n=0.0,\n",
    "    overlaps=1,\n",
    "    module=RandomSeeder(0),\n",
    "    lXs={'l0': 0.0},\n",
    "    algorithm='CD',)"
   ]
  },
  {
   "cell_type": "code",
   "execution_count": 83,
   "id": "8f80f183-476a-4c81-b688-f7c2d5ee7a16",
   "metadata": {},
   "outputs": [],
   "source": [
    "def test_cd_keeps_mio_results(n, p, module, overlaps, lXs):\n",
    "    theta_truth = overlap_covariance_matrix(\n",
    "        p=p, seed=module.seed, max_overlaps=overlaps, decay=1 - np.exp(overlaps - 6)\n",
    "    )\n",
    "\n",
    "    assume(all(np.linalg.eigvalsh(theta_truth) > 0))\n",
    "    x = sample_from_cov(n=n, cov=theta_truth)\n",
    "\n",
    "    _, _, _, _, y, _ = synthetic.preprocess(x, assume_centered=False, cholesky=True)\n",
    "\n",
    "    m = np.max(np.abs(theta_truth * (1 - np.eye(p))))\n",
    "    int_tol = 1e-9\n",
    "\n",
    "    MIO_results = MIO_mosek(y=y, m=m, **lXs, int_tol=int_tol, mio_gap=int_tol, max_time=10)\n",
    "    print(MIO_results)\n",
    "    cd_results = fit(\n",
    "        y,\n",
    "        **lXs,\n",
    "        scale_x=False,\n",
    "        theta_init=MIO_results.theta_hat,\n",
    "        active_set=0.0,\n",
    "        super_active_set=0.0,\n",
    "        max_active_set_ratio=1.0\n",
    "    )\n",
    "\n",
    "    np.testing.assert_array_equal(MIO_results.theta_hat, cd_results.theta)"
   ]
  },
  {
   "cell_type": "code",
   "execution_count": 8,
   "id": "5aa252c6-6bf9-4277-8dbe-8939e856cd0d",
   "metadata": {},
   "outputs": [],
   "source": [
    "n = 300\n",
    "p = 3\n",
    "module = RandomSeeder(0)\n",
    "overlaps = 1\n",
    "lXs = {'l0': 0.1, 'l2': 0.1}\n",
    "penalty = Penalty(**lXs)"
   ]
  },
  {
   "cell_type": "code",
   "execution_count": 9,
   "id": "f5774f27-bbe1-497b-8ea2-24f97932f64d",
   "metadata": {},
   "outputs": [
    {
     "name": "stdout",
     "output_type": "stream",
     "text": [
      "MIOResults(theta_hat=array([[1.0470939 , 0.        , 0.        ],\n",
      "       [0.        , 1.00160605, 0.49999999],\n",
      "       [0.        , 0.49999999, 1.06869336]]), z=array([[0., 0., 0.],\n",
      "       [0., 0., 1.],\n",
      "       [0., 1., 0.]]), t=array([0.99999638, 0.96566702, 0.96566351]), s=array([0.        , 0.        , 0.        , 0.        , 0.24999999,\n",
      "       0.        ]), lg=array([0.04601861, 0.00160476, 0.06643674]), residuals=array([ 1.02327421, -0.01216462,  0.01917952,  0.        ,  0.8610878 ,\n",
      "       -0.03169435,  0.        ,  0.47497133,  1.01519741]), objective=2.9422667976142503, elapsed=0.07879899100000021, upper_bound=2.94226679761425, lower_bound=2.94226679761425, gap=0.0, status=ProblemStatus.PrimalFeasible)\n",
      "gL0LearnFit 1\n",
      "gL0LearnFit 2\n",
      "gL0LearnFit 2\n",
      "fit 1\n",
      "current_iter: 0 cur_objective = 2.94227\n",
      "fit loop0\n",
      "theta[0, 1] = 0\n",
      "new_theta[0, 1] = 0\n",
      "theta[0, 2] = 0\n",
      "new_theta[0, 2] = -0\n",
      "theta[1, 2] = 0.5\n",
      "new_theta[1, 2] = 0.507356\n",
      "current_iter: 1 cur_objective = 2.94208\n",
      "fit loop1\n",
      "theta[0, 1] = 0\n",
      "new_theta[0, 1] = 0\n",
      "theta[0, 2] = -0\n",
      "new_theta[0, 2] = -0\n",
      "theta[1, 2] = 0.507356\n",
      "new_theta[1, 2] = 0.510078\n",
      "current_iter: 2 cur_objective = 2.94205\n",
      "fit loop2\n",
      "theta[0, 1] = 0\n",
      "new_theta[0, 1] = 0\n",
      "theta[0, 2] = -0\n",
      "new_theta[0, 2] = -0\n",
      "theta[1, 2] = 0.510078\n",
      "new_theta[1, 2] = 0.511089\n",
      "current_iter: 3 cur_objective = 2.94205\n",
      "fit loop3\n",
      "theta[0, 1] = 0\n",
      "new_theta[0, 1] = 0\n",
      "theta[0, 2] = -0\n",
      "new_theta[0, 2] = -0\n",
      "theta[1, 2] = 0.511089\n",
      "new_theta[1, 2] = 0.511465\n",
      "current_iter: 4 cur_objective = 2.94205\n"
     ]
    },
    {
     "name": "stderr",
     "output_type": "stream",
     "text": [
      "/Users/tnonet/opt/anaconda3/envs/gl0learn_pypkg/lib/python3.9/site-packages/gl0learn/utils.py:145: UserWarning: gl0learn requires Fortran-style array. Array , provided scope name = 'theta_init', detected that is C-style. Generating copy that is Fortran-style. To decrease memory usage, ensure array is provided as Fortran-style and no copy will be made. See: https://numpy.org/doc/stable/reference/generated/numpy.ndarray.flags.html.\n",
      "  warnings.warn(\n"
     ]
    }
   ],
   "source": [
    "theta_truth = overlap_covariance_matrix(\n",
    "        p=p, seed=module.seed, max_overlaps=overlaps, decay=1 - np.exp(overlaps - 6)\n",
    ")\n",
    "\n",
    "assume(all(np.linalg.eigvalsh(theta_truth) > 0))\n",
    "x = sample_from_cov(n=n, cov=theta_truth)\n",
    "\n",
    "_, _, _, _, y, _ = synthetic.preprocess(x, assume_centered=False, cholesky=True)\n",
    "\n",
    "m = np.max(np.abs(theta_truth * (1 - np.eye(p))))\n",
    "int_tol = 1e-9\n",
    "\n",
    "MIO_results = MIO_mosek(y=y, m=m, **lXs, int_tol=int_tol, mio_gap=int_tol, max_time=10)\n",
    "print(MIO_results)\n",
    "cd_results = fit(\n",
    "    y,\n",
    "    **lXs,\n",
    "    scale_x=False,\n",
    "    theta_init=MIO_results.theta_hat,\n",
    "    active_set=0.0,\n",
    "    super_active_set=0.0,\n",
    "    max_active_set_ratio=1.0\n",
    ")"
   ]
  },
  {
   "cell_type": "code",
   "execution_count": 10,
   "id": "14859706-3ab1-4684-84db-1cedadd0f905",
   "metadata": {},
   "outputs": [
    {
     "data": {
      "text/plain": [
       "numpy.uint64"
      ]
     },
     "execution_count": 10,
     "metadata": {},
     "output_type": "execute_result"
    }
   ],
   "source": [
    "np.uint64"
   ]
  },
  {
   "cell_type": "code",
   "execution_count": 11,
   "id": "6be90b9c-67c1-4239-8776-c47c103f63ac",
   "metadata": {},
   "outputs": [
    {
     "data": {
      "text/plain": [
       "(array([0, 0, 1]), array([1, 2, 2]))"
      ]
     },
     "execution_count": 11,
     "metadata": {},
     "output_type": "execute_result"
    }
   ],
   "source": [
    "np.triu_indices(p, k=1)"
   ]
  },
  {
   "cell_type": "code",
   "execution_count": 12,
   "id": "59754413-fcc3-4c33-954e-56835eafb23b",
   "metadata": {},
   "outputs": [
    {
     "data": {
      "text/plain": [
       "True"
      ]
     },
     "execution_count": 12,
     "metadata": {},
     "output_type": "execute_result"
    }
   ],
   "source": [
    "check_coordinate_matrix(np.asarray(np.triu_indices(p, k=1), order=\"C\", dtype=np.uint64).T, True, True)"
   ]
  },
  {
   "cell_type": "code",
   "execution_count": null,
   "id": "7193f182-73aa-49a0-adba-d35ab9c80b0b",
   "metadata": {},
   "outputs": [],
   "source": []
  },
  {
   "cell_type": "code",
   "execution_count": 13,
   "id": "76689e0d-e112-48b9-9967-f0b6495c8c48",
   "metadata": {},
   "outputs": [],
   "source": [
    "active_set = np.asarray(np.triu_indices(p, k=1), order=\"C\", dtype=np.uint64).T"
   ]
  },
  {
   "cell_type": "code",
   "execution_count": 14,
   "id": "a0fc0deb-b3f5-41ca-909d-30ad662f78ab",
   "metadata": {},
   "outputs": [
    {
     "data": {
      "text/plain": [
       "True"
      ]
     },
     "execution_count": 14,
     "metadata": {},
     "output_type": "execute_result"
    }
   ],
   "source": [
    "check_coordinate_matrix(active_set, True, True)"
   ]
  },
  {
   "cell_type": "code",
   "execution_count": 15,
   "id": "9c0b4166-7d80-415a-9631-bfd549666188",
   "metadata": {},
   "outputs": [
    {
     "data": {
      "text/plain": [
       "2.942266797905327"
      ]
     },
     "execution_count": 15,
     "metadata": {},
     "output_type": "execute_result"
    }
   ],
   "source": [
    "pseudo_likelihood_loss(y, np.array(MIO_results.theta_hat), penalty, active_set=active_set)"
   ]
  },
  {
   "cell_type": "code",
   "execution_count": 16,
   "id": "121c1f85-c8c1-4c75-9b67-e675c9c8d702",
   "metadata": {},
   "outputs": [
    {
     "data": {
      "text/plain": [
       "2.9420494724702024"
      ]
     },
     "execution_count": 16,
     "metadata": {},
     "output_type": "execute_result"
    }
   ],
   "source": [
    "pseudo_likelihood_loss(y, np.array(cd_results.theta), penalty, active_set=active_set)"
   ]
  },
  {
   "cell_type": "code",
   "execution_count": null,
   "id": "49a6471c-4978-446d-b36e-42d278bd52c5",
   "metadata": {},
   "outputs": [],
   "source": []
  }
 ],
 "metadata": {
  "kernelspec": {
   "display_name": "Python 3 (ipykernel)",
   "language": "python",
   "name": "python3"
  },
  "language_info": {
   "codemirror_mode": {
    "name": "ipython",
    "version": 3
   },
   "file_extension": ".py",
   "mimetype": "text/x-python",
   "name": "python",
   "nbconvert_exporter": "python",
   "pygments_lexer": "ipython3",
   "version": "3.9.7"
  }
 },
 "nbformat": 4,
 "nbformat_minor": 5
}
