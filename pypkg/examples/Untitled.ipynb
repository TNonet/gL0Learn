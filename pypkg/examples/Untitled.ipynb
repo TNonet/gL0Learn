{
 "cells": [
  {
   "cell_type": "code",
   "execution_count": 1,
   "id": "f0b3c0bf-9002-458e-b64e-ccc237b412b2",
   "metadata": {},
   "outputs": [],
   "source": [
    "from typing import Optional, Dict, Iterable, List, Tuple\n",
    "\n",
    "import hypothesis.strategies\n",
    "import numpy as np\n",
    "from gl0learn import fit, synthetic\n",
    "import pytest\n",
    "from gl0learn.metrics import nonzeros\n",
    "from hypothesis import given, settings, HealthCheck, assume\n",
    "from hypothesis.strategies import composite, just, booleans, floats, integers"
   ]
  },
  {
   "cell_type": "code",
   "execution_count": 2,
   "id": "ee9ff2a2-b523-4e81-aad6-4ac508de5a39",
   "metadata": {},
   "outputs": [],
   "source": [
    "@composite\n",
    "def random_penalty(draw,\n",
    "                   l0: hypothesis.strategies.SearchStrategy[bool],\n",
    "                   l1: hypothesis.strategies.SearchStrategy[bool],\n",
    "                   l2: hypothesis.strategies.SearchStrategy[bool],\n",
    "                   ) -> List[str]:\n",
    "    penalties = []\n",
    "\n",
    "    if draw(l0):\n",
    "        penalties.append('l0')\n",
    "\n",
    "    if draw(l1):\n",
    "        penalties.append('l1')\n",
    "\n",
    "    if draw(l2):\n",
    "        penalties.append('l2')\n",
    "\n",
    "    return penalties\n",
    "\n",
    "\n",
    "@composite\n",
    "def random_penalty_values(draw,\n",
    "                          values_strategies: Dict[str, hypothesis.strategies.SearchStrategy[float]],\n",
    "                          penalty_strategies: hypothesis.strategies.SearchStrategy[Iterable[str]]\n",
    "                          ) -> hypothesis.strategies.SearchStrategy[Dict[str, float]]:\n",
    "\n",
    "    penalties = draw(penalty_strategies)\n",
    "    values = {}\n",
    "    for penalty in penalties:\n",
    "        values[penalty] = draw(values_strategies[penalty])\n",
    "\n",
    "    return values"
   ]
  },
  {
   "cell_type": "code",
   "execution_count": 3,
   "id": "ab9c8f8a-eacd-4e8b-917a-e35defe9aa2a",
   "metadata": {},
   "outputs": [
    {
     "data": {
      "text/plain": [
       "<function __main__.accept.<locals>.random_penalty_values(values_strategies: Dict[str, hypothesis.strategies.SearchStrategy[float]], penalty_strategies: hypothesis.strategies.SearchStrategy[typing.Iterable[str]]) -> hypothesis.strategies.SearchStrategy[typing.Dict[str, float]]>"
      ]
     },
     "execution_count": 3,
     "metadata": {},
     "output_type": "execute_result"
    }
   ],
   "source": [
    "penalty_strategty = random_penalty(l0=just(True), l1=booleans(), l2=booleans())\n",
    "\n",
    "random_penalty_values"
   ]
  },
  {
   "cell_type": "code",
   "execution_count": 4,
   "id": "49d0a256-3bcd-46b4-bf74-ad16962012a2",
   "metadata": {},
   "outputs": [
    {
     "data": {
      "text/plain": [
       "['l0']"
      ]
     },
     "execution_count": 4,
     "metadata": {},
     "output_type": "execute_result"
    }
   ],
   "source": [
    "penalty_strategty.example()"
   ]
  },
  {
   "cell_type": "code",
   "execution_count": 5,
   "id": "a006ad97-c0f9-448b-9b12-0fb15d64b678",
   "metadata": {},
   "outputs": [],
   "source": [
    "s = random_penalty_values(penalty_strategies=penalty_strategty,\n",
    "                          values_strategies={\"l0\": floats(0.01, 10), \"l1\": floats(0.01, 10), \"l2\": floats(0.01, 10)})"
   ]
  },
  {
   "cell_type": "code",
   "execution_count": 6,
   "id": "ba830b3e-75c2-4f67-b0a6-cbb5ab56824a",
   "metadata": {},
   "outputs": [
    {
     "data": {
      "text/plain": [
       "{'l0': 1.0531029574789406, 'l1': 0.01, 'l2': 0.01}"
      ]
     },
     "execution_count": 6,
     "metadata": {},
     "output_type": "execute_result"
    }
   ],
   "source": [
    "s.example()"
   ]
  },
  {
   "cell_type": "code",
   "execution_count": 3,
   "id": "cb4afb4b-26e4-4459-9108-48017b6ef3b6",
   "metadata": {},
   "outputs": [],
   "source": [
    "def top_n_triu_indicies(x, n):\n",
    "    p = x.shape[1]\n",
    "    x = np.copy(x)\n",
    "    x[np.tril_indices(p, k=0)] = 0\n",
    "    value = np.sort(x.flatten())[::-1][n - 1]\n",
    "\n",
    "    return np.where(x >= value)\n",
    "\n",
    "def make_bisect_func(desired_nnz: int, Y: np.ndarray, verbose: bool = True, seed: int = 0, **kwargs):\n",
    "    def inner_bisect(l0):\n",
    "        np.random.seed(seed)\n",
    "        fit_gl0learn = fit(Y, l0=l0, **kwargs)\n",
    "        theta_hat = fit_gl0learn.theta\n",
    "        np.fill_diagonal(theta_hat, 0)\n",
    "\n",
    "        nnz = np.count_nonzero(theta_hat) // 2\n",
    "        cost = desired_nnz - nnz\n",
    "        if verbose:\n",
    "            print(f\"gl0Learn found solution with {nnz} non-zeros with parameters:\")\n",
    "            print(f\"\\t l0 = {l0})\")\n",
    "            print(f\"\\t cost = {cost}\")\n",
    "        return cost\n",
    "\n",
    "    return inner_bisect\n",
    "\n",
    "def _sample_data(n: int = 1000, seed: int = 0) -> Tuple[np.ndarray, np.ndarray]:\n",
    "    \"\"\"\n",
    "\n",
    "\n",
    "    Example Data!\n",
    "\n",
    "\n",
    "    >>>from tabulate import tabulate\n",
    "    ...import numpy as np\n",
    "    ...coords = np.array([str(t).replace('(','').replace(')','') for t in zip(*np.nonzero(np.ones([5,5])))]).reshape(5,5)\n",
    "    ...table = tabulate(coords, tablefmt=\"fancy_grid\")\n",
    "    ...print(table)\n",
    "    ╒══════╤══════╤══════╤══════╤══════╕\n",
    "    │ 0, 0 │ 0, 1 │ 0, 2 │ 0, 3 │ 0, 4 │\n",
    "    ├──────┼──────┼──────┼──────┼──────┤\n",
    "    │ 1, 0 │ 1, 1 │ 1, 2 │ 1, 3 │ 1, 4 │\n",
    "    ├──────┼──────┼──────┼──────┼──────┤\n",
    "    │ 2, 0 │ 2, 1 │ 2, 2 │ 2, 3 │ 2, 4 │\n",
    "    ├──────┼──────┼──────┼──────┼──────┤\n",
    "    │ 3, 0 │ 3, 1 │ 3, 2 │ 3, 3 │ 3, 4 │\n",
    "    ├──────┼──────┼──────┼──────┼──────┤\n",
    "    │ 4, 0 │ 4, 1 │ 4, 2 │ 4, 3 │ 4, 4 │\n",
    "    ╘══════╧══════╧══════╧══════╧══════╛\n",
    "\n",
    "    Suppose:\n",
    "        Coordinates (0,1) and (1,2) are the initial support\n",
    "        Coordinates (0,2) and (1,3) are also in the active set\n",
    "        Coordinates (0,3) and (1,4) are also in the super active set\n",
    "\n",
    "    Supplying `theta_truth` as a upper triangular diagonally dominate matrix, we can set which of `theta_hat` should be learned first.\n",
    "\n",
    "    This allows us to check if fit is behaving as expected!\n",
    "    \"\"\"\n",
    "    N = 5\n",
    "    mu = np.zeros(N)\n",
    "\n",
    "    theta_truth_tril = (1 / 8) * np.asarray([[8, 0, 0, 0, 1],\n",
    "                                             [0, 8, 4, 2, 3],\n",
    "                                             [0, 0, 8, 6, 5],\n",
    "                                             [0, 0, 0, 8, 7],\n",
    "                                             [0, 0, 0, 0, 8]])\n",
    "\n",
    "    theta_truth = (theta_truth_tril + theta_truth_tril.T) / 2\n",
    "\n",
    "    rng = np.random.default_rng(seed)\n",
    "    x = rng.multivariate_normal(mu, cov=np.linalg.inv(theta_truth), size=n)\n",
    "\n",
    "    return theta_truth, x\n",
    "\n",
    "def overlap_covariance_matrix(n: int, max_overlaps: int = 1, seed: int = 0, max_iters: int = 1000):\n",
    "    rng = np.random.RandomState(seed=seed)\n",
    "    \n",
    "    row_overlaps = {i: 0 for i in range(n-1)}\n",
    "    col_overlaps = {i: 0 for i in range(1, n)}\n",
    "    \n",
    "    cov = np.eye(n)\n",
    "    \n",
    "    for _ in range(max_iters):\n",
    "        rows = list(row_overlaps.keys())\n",
    "        \n",
    "        row_openings = {}\n",
    "        for row in rows:\n",
    "            row_openings[row]= sum(1 for k in col_overlaps if k > row)\n",
    "            \n",
    "        num_openings = sum(row_openings.values())\n",
    "        \n",
    "        if not num_openings:\n",
    "            break\n",
    "        \n",
    "\n",
    "        row_probability = [r/num_openings for r in row_openings.values()]\n",
    "        row = rng.choice(rows, p=row_probability)\n",
    "        try:\n",
    "            col = rng.choice(list(c for c in col_overlaps.keys() if c > row))\n",
    "        except ValueError:\n",
    "            continue\n",
    "        cov[row, col] += 1\n",
    "        \n",
    "        row_overlaps[row] += 1\n",
    "        col_overlaps[col] += 1\n",
    "        \n",
    "        row_overlaps = {r: o for (r, o) in row_overlaps.items() if o < max_overlaps}\n",
    "        col_overlaps = {c: o for (c, o) in col_overlaps.items() if o < max_overlaps}\n",
    "        \n",
    "        \n",
    "    return cov\n",
    "    \n",
    "    \n",
    "def _sample_data2(n: int = 1000, seed: int = 0) -> Tuple[np.ndarray, np.ndarray]:\n",
    "    p = 5\n",
    "    mu = np.zeros(p)\n",
    "    theta_truth_tril = overlap_covariance_matrix(p, 1)\n",
    "\n",
    "    theta_truth = (theta_truth_tril + theta_truth_tril.T) / 2\n",
    "\n",
    "    rng = np.random.default_rng(seed)\n",
    "    x = rng.multivariate_normal(mu, cov=np.linalg.inv(theta_truth), size=n)\n",
    "    \n",
    "    return theta_truth, x\n",
    "\n"
   ]
  },
  {
   "cell_type": "code",
   "execution_count": 67,
   "id": "07f2781b-661d-432f-b8db-412caaa055ec",
   "metadata": {},
   "outputs": [],
   "source": [
    "def test_cd_example_2(sample_data, n, algorithm, lXs, seed=0):\n",
    "    theta_truth, x = sample_data\n",
    "\n",
    "    _, _, _, _, Y, _ = synthetic.preprocess(x, assume_centered=False, cholesky=True)\n",
    "\n",
    "    fit_kwargs = dict(**lXs, scale_x=False, max_active_set_size=10, initial_active_set=0.,\n",
    "                      super_active_set=0., algorithm=algorithm)\n",
    "\n",
    "    f = make_bisect_func(n, Y, seed=seed, **fit_kwargs)\n",
    "\n",
    "    from scipy.optimize import bisect\n",
    "    try:\n",
    "        opt_l0 = bisect(f, a=0, b=10)\n",
    "    except ValueError:\n",
    "        assume(False)\n",
    "    np.random.seed(seed)\n",
    "    results = fit(Y, l0=opt_l0, **fit_kwargs)\n",
    "\n",
    "    theta = results.theta\n",
    "    \n",
    "    print(f\"===================================> NNZS = {nonzeros(theta[np.tril_indices(5, k=-1)]).sum()}\")\n",
    "    assume(nonzeros(theta[np.tril_indices(5, k=-1)]).sum() == n)\n",
    "\n",
    "    cd_indices = top_n_triu_indicies(results.theta, n)\n",
    "    indices = top_n_triu_indicies(theta_truth, n)\n",
    "\n",
    "    if any(theta_truth[cd_indices] == 0):\n",
    "        # CD algorithm has selected zero items. This can be fine if we ask for more non-zeros than are in theta_truth!\n",
    "        # Check if indicies is contained in cd_indices\n",
    "        indices_set = set(zip(*indices))\n",
    "        cd_indices_set = set(zip(*indices))\n",
    "        assert cd_indices_set.issuperset(indices_set)\n",
    "        should_be_zero_indices_set = cd_indices_set - indices_set\n",
    "\n",
    "        for (i, j) in should_be_zero_indices_set:\n",
    "            assert theta_truth[i, j] == 0\n",
    "\n",
    "    else:\n",
    "        np.testing.assert_array_equal(cd_indices, indices)"
   ]
  },
  {
   "cell_type": "code",
   "execution_count": 85,
   "id": "e2c96eb4-737a-46be-8ab1-b53172b2afb6",
   "metadata": {
    "tags": []
   },
   "outputs": [
    {
     "name": "stdout",
     "output_type": "stream",
     "text": [
      "gL0LearnFit 1\n",
      "gL0LearnFit 2\n",
      "gL0LearnFit 2\n",
      "fit 1\n",
      "fit loop0\n",
      "current_iter: 1 cur_objective = 4.95906\n",
      "fit loop1\n",
      "current_iter: 2 cur_objective = 4.90657\n",
      "fit loop2\n",
      "current_iter: 3 cur_objective = 4.89955\n",
      "fit loop3\n",
      "current_iter: 4 cur_objective = 4.89858\n",
      "fit loop4\n",
      "current_iter: 5 cur_objective = 4.89844\n",
      "fit loop5\n",
      "current_iter: 6 cur_objective = 4.89841\n",
      "fit loop6\n",
      "current_iter: 7 cur_objective = 4.8984\n",
      "fit loop7\n",
      "current_iter: 8 cur_objective = 4.8984\n",
      "gl0Learn found solution with 10 non-zeros with parameters:\n",
      "\t l0 = 0.0)\n",
      "\t cost = -9\n",
      "gL0LearnFit 1\n",
      "gL0LearnFit 2\n",
      "gL0LearnFit 2\n",
      "fit 1\n",
      "fit loop0\n",
      "current_iter: 1 cur_objective = 7.03075\n",
      "fit loop1\n",
      "current_iter: 2 cur_objective = 7.03075\n",
      "gl0Learn found solution with 0 non-zeros with parameters:\n",
      "\t l0 = 10.0)\n",
      "\t cost = 1\n",
      "gL0LearnFit 1\n",
      "gL0LearnFit 2\n",
      "gL0LearnFit 2\n",
      "fit 1\n",
      "fit loop0\n",
      "current_iter: 1 cur_objective = 7.03075\n",
      "fit loop1\n",
      "current_iter: 2 cur_objective = 7.03075\n",
      "gl0Learn found solution with 0 non-zeros with parameters:\n",
      "\t l0 = 5.0)\n",
      "\t cost = 1\n",
      "gL0LearnFit 1\n",
      "gL0LearnFit 2\n",
      "gL0LearnFit 2\n",
      "fit 1\n",
      "fit loop0\n",
      "current_iter: 1 cur_objective = 7.03075\n",
      "fit loop1\n",
      "current_iter: 2 cur_objective = 7.03075\n",
      "gl0Learn found solution with 0 non-zeros with parameters:\n",
      "\t l0 = 2.5)\n",
      "\t cost = 1\n",
      "gL0LearnFit 1\n",
      "gL0LearnFit 2\n",
      "gL0LearnFit 2\n",
      "fit 1\n",
      "fit loop0\n",
      "current_iter: 1 cur_objective = 7.03075\n",
      "fit loop1\n",
      "current_iter: 2 cur_objective = 7.03075\n",
      "gl0Learn found solution with 0 non-zeros with parameters:\n",
      "\t l0 = 1.25)\n",
      "\t cost = 1\n",
      "gL0LearnFit 1\n",
      "gL0LearnFit 2\n",
      "gL0LearnFit 2\n",
      "fit 1\n",
      "fit loop0\n",
      "current_iter: 1 cur_objective = 6.80996\n",
      "fit loop1\n",
      "current_iter: 2 cur_objective = 6.80032\n",
      "fit loop2\n",
      "current_iter: 3 cur_objective = 6.79856\n",
      "fit loop3\n",
      "current_iter: 4 cur_objective = 6.79823\n",
      "fit loop4\n",
      "current_iter: 5 cur_objective = 6.79818\n",
      "fit loop5\n",
      "current_iter: 6 cur_objective = 6.79817\n",
      "fit loop6\n",
      "current_iter: 7 cur_objective = 6.79816\n",
      "gl0Learn found solution with 3 non-zeros with parameters:\n",
      "\t l0 = 0.625)\n",
      "\t cost = -2\n",
      "gL0LearnFit 1\n",
      "gL0LearnFit 2\n",
      "gL0LearnFit 2\n",
      "fit 1\n",
      "fit loop0\n",
      "current_iter: 1 cur_objective = 7.10638\n",
      "fit loop1\n",
      "current_iter: 2 cur_objective = 7.10156\n",
      "fit loop2\n",
      "current_iter: 3 cur_objective = 7.10018\n",
      "fit loop3\n",
      "current_iter: 4 cur_objective = 7.09979\n",
      "fit loop4\n",
      "current_iter: 5 cur_objective = 7.09968\n",
      "fit loop5\n",
      "current_iter: 6 cur_objective = 7.09965\n",
      "fit loop6\n",
      "current_iter: 7 cur_objective = 7.09964\n",
      "fit loop7\n",
      "current_iter: 8 cur_objective = 7.09964\n",
      "gl0Learn found solution with 1 non-zeros with parameters:\n",
      "\t l0 = 0.9375)\n",
      "\t cost = 0\n",
      "gL0LearnFit 1\n",
      "gL0LearnFit 2\n",
      "gL0LearnFit 2\n",
      "fit 1\n",
      "fit loop0\n",
      "current_iter: 1 cur_objective = 7.10638\n",
      "fit loop1\n",
      "current_iter: 2 cur_objective = 7.10156\n",
      "fit loop2\n",
      "current_iter: 3 cur_objective = 7.10018\n",
      "fit loop3\n",
      "current_iter: 4 cur_objective = 7.09979\n",
      "fit loop4\n",
      "current_iter: 5 cur_objective = 7.09968\n",
      "fit loop5\n",
      "current_iter: 6 cur_objective = 7.09965\n",
      "fit loop6\n",
      "current_iter: 7 cur_objective = 7.09964\n",
      "fit loop7\n",
      "current_iter: 8 cur_objective = 7.09964\n",
      "===================================> NNZS = 1\n"
     ]
    },
    {
     "ename": "AssertionError",
     "evalue": "\nArrays are not equal\n\nMismatched elements: 2 / 2 (100%)\nMax absolute difference: 2\nMax relative difference: 2.\n x: array([[3],\n       [4]])\n y: array([[1],\n       [3]])",
     "output_type": "error",
     "traceback": [
      "\u001b[0;31m---------------------------------------------------------------------------\u001b[0m",
      "\u001b[0;31mAssertionError\u001b[0m                            Traceback (most recent call last)",
      "\u001b[0;32m/var/folders/xq/mwcnpp0j5ls5jjcyx7nsdwyh0000gn/T/ipykernel_13069/1276670782.py\u001b[0m in \u001b[0;36m<module>\u001b[0;34m\u001b[0m\n\u001b[1;32m      1\u001b[0m \u001b[0mlXs\u001b[0m\u001b[0;34m=\u001b[0m\u001b[0;34m{\u001b[0m\u001b[0;34m}\u001b[0m\u001b[0;34m\u001b[0m\u001b[0;34m\u001b[0m\u001b[0m\n\u001b[0;32m----> 2\u001b[0;31m \u001b[0mtest_cd_example_2\u001b[0m\u001b[0;34m(\u001b[0m\u001b[0m_sample_data2\u001b[0m\u001b[0;34m(\u001b[0m\u001b[0;34m)\u001b[0m\u001b[0;34m,\u001b[0m \u001b[0mn\u001b[0m \u001b[0;34m=\u001b[0m \u001b[0;36m1\u001b[0m\u001b[0;34m,\u001b[0m \u001b[0malgorithm\u001b[0m \u001b[0;34m=\u001b[0m \u001b[0;34m'CD'\u001b[0m\u001b[0;34m,\u001b[0m \u001b[0mlXs\u001b[0m\u001b[0;34m=\u001b[0m\u001b[0mlXs\u001b[0m\u001b[0;34m)\u001b[0m\u001b[0;34m\u001b[0m\u001b[0;34m\u001b[0m\u001b[0m\n\u001b[0m",
      "\u001b[0;32m/var/folders/xq/mwcnpp0j5ls5jjcyx7nsdwyh0000gn/T/ipykernel_13069/837580438.py\u001b[0m in \u001b[0;36mtest_cd_example_2\u001b[0;34m(sample_data, n, algorithm, lXs, seed)\u001b[0m\n\u001b[1;32m     37\u001b[0m \u001b[0;34m\u001b[0m\u001b[0m\n\u001b[1;32m     38\u001b[0m     \u001b[0;32melse\u001b[0m\u001b[0;34m:\u001b[0m\u001b[0;34m\u001b[0m\u001b[0;34m\u001b[0m\u001b[0m\n\u001b[0;32m---> 39\u001b[0;31m         \u001b[0mnp\u001b[0m\u001b[0;34m.\u001b[0m\u001b[0mtesting\u001b[0m\u001b[0;34m.\u001b[0m\u001b[0massert_array_equal\u001b[0m\u001b[0;34m(\u001b[0m\u001b[0mcd_indices\u001b[0m\u001b[0;34m,\u001b[0m \u001b[0mindices\u001b[0m\u001b[0;34m)\u001b[0m\u001b[0;34m\u001b[0m\u001b[0;34m\u001b[0m\u001b[0m\n\u001b[0m",
      "    \u001b[0;31m[... skipping hidden 1 frame]\u001b[0m\n",
      "\u001b[0;32m~/opt/anaconda3/envs/gl0learn_pypkg/lib/python3.9/site-packages/numpy/testing/_private/utils.py\u001b[0m in \u001b[0;36massert_array_compare\u001b[0;34m(comparison, x, y, err_msg, verbose, header, precision, equal_nan, equal_inf)\u001b[0m\n\u001b[1;32m    842\u001b[0m                                 \u001b[0mverbose\u001b[0m\u001b[0;34m=\u001b[0m\u001b[0mverbose\u001b[0m\u001b[0;34m,\u001b[0m \u001b[0mheader\u001b[0m\u001b[0;34m=\u001b[0m\u001b[0mheader\u001b[0m\u001b[0;34m,\u001b[0m\u001b[0;34m\u001b[0m\u001b[0;34m\u001b[0m\u001b[0m\n\u001b[1;32m    843\u001b[0m                                 names=('x', 'y'), precision=precision)\n\u001b[0;32m--> 844\u001b[0;31m             \u001b[0;32mraise\u001b[0m \u001b[0mAssertionError\u001b[0m\u001b[0;34m(\u001b[0m\u001b[0mmsg\u001b[0m\u001b[0;34m)\u001b[0m\u001b[0;34m\u001b[0m\u001b[0;34m\u001b[0m\u001b[0m\n\u001b[0m\u001b[1;32m    845\u001b[0m     \u001b[0;32mexcept\u001b[0m \u001b[0mValueError\u001b[0m\u001b[0;34m:\u001b[0m\u001b[0;34m\u001b[0m\u001b[0;34m\u001b[0m\u001b[0m\n\u001b[1;32m    846\u001b[0m         \u001b[0;32mimport\u001b[0m \u001b[0mtraceback\u001b[0m\u001b[0;34m\u001b[0m\u001b[0;34m\u001b[0m\u001b[0m\n",
      "\u001b[0;31mAssertionError\u001b[0m: \nArrays are not equal\n\nMismatched elements: 2 / 2 (100%)\nMax absolute difference: 2\nMax relative difference: 2.\n x: array([[3],\n       [4]])\n y: array([[1],\n       [3]])"
     ]
    }
   ],
   "source": [
    "lXs={}\n",
    "test_cd_example_2(_sample_data2(), n = 1, algorithm = 'CD', lXs=lXs)"
   ]
  },
  {
   "cell_type": "code",
   "execution_count": 136,
   "id": "d9dba37c-d682-4c56-b6e6-54b046de0dc3",
   "metadata": {},
   "outputs": [
    {
     "name": "stdout",
     "output_type": "stream",
     "text": [
      "gL0LearnFit 1\n",
      "gL0LearnFit 2\n",
      "gL0LearnFit 2\n",
      "fitpsi called \n",
      "fit 1\n",
      "fit loop0\n",
      "current_iter: 1 cur_objective = 7.03075\n",
      "fit loop1\n",
      "current_iter: 2 cur_objective = 7.03075\n",
      "this->params.max_active_set_size = 1\n",
      "this->active_set.size() = 0\n",
      "n_to_keep = 1\n",
      "fit loop2\n",
      "current_iter: 3 cur_objective = 6.50749\n",
      "fit loop3\n",
      "current_iter: 4 cur_objective = 6.48649\n",
      "fit loop4\n",
      "current_iter: 5 cur_objective = 6.48387\n",
      "fit loop5\n",
      "current_iter: 6 cur_objective = 6.4835\n",
      "fit loop6\n",
      "current_iter: 7 cur_objective = 6.48345\n",
      "fit loop7\n",
      "current_iter: 8 cur_objective = 6.48344\n",
      "fit loop8\n",
      "current_iter: 9 cur_objective = 6.48344\n",
      "this->params.max_active_set_size = 1\n",
      "this->active_set.size() = 1\n",
      "n_to_keep = 0\n",
      "Pre psi cost: 6.48344 \n",
      "PSI iter: 0 \n",
      "PSI iter: 0 Swapping row: 0\n",
      "psi_row_fit row =  0 \n",
      "selected super_active_set start =  {0, 1} \n",
      "selected super_active_set end =  {1, 2} \n",
      "zero_indices =          1\n",
      "        3\n",
      "        4\n",
      " \n",
      "non_zero_indices =          2\n",
      " \n",
      "Non Zero Index Loop: (0, 2) \n",
      "No swap for (0, 2) \n",
      "PSI iter: 0 Swapping row: 1\n",
      "psi_row_fit row =  1 \n",
      "selected super_active_set start =  {1, 2} \n",
      "selected super_active_set end =  {2, 3} \n",
      "PSI iter: 0 Swapping row: 2\n",
      "psi_row_fit row =  2 \n",
      "selected super_active_set start =  {2, 3} \n",
      "selected super_active_set end =  {3, 4} \n",
      "PSI iter: 0 Swapping row: 3\n",
      "psi_row_fit row =  3 \n",
      "selected super_active_set start =  {3, 4} \n",
      "selected super_active_set end =  {244901324817184, 7} \n",
      "===================================> NNZS = 1\n"
     ]
    }
   ],
   "source": [
    "n = 1\n",
    "opt_l0 = 0\n",
    "algorithm = \"CDPSI\"\n",
    "seed = 0\n",
    "\n",
    "theta_truth, x = _sample_data2()\n",
    "_, _, _, _, Y, _ = synthetic.preprocess(x, assume_centered=False, cholesky=True)\n",
    "\n",
    "fit_kwargs = dict(**lXs, scale_x=False, max_active_set_size=1, initial_active_set=np.inf,\n",
    "                      super_active_set=0., algorithm=algorithm)\n",
    "\n",
    "np.random.seed(seed)\n",
    "results = fit(Y, l0=opt_l0, **fit_kwargs)\n",
    "\n",
    "theta = results.theta\n",
    "\n",
    "print(f\"===================================> NNZS = {nonzeros(theta[np.tril_indices(5, k=-1)]).sum()}\")\n",
    "#assume(nonzeros(theta[np.tril_indices(5, k=-1)]).sum() == n)\n",
    "\n",
    "cd_indices = top_n_triu_indicies(results.theta, n)\n",
    "indices = top_n_triu_indicies(theta_truth, n)"
   ]
  },
  {
   "cell_type": "code",
   "execution_count": 137,
   "id": "e56ca71f-36dd-4a5d-9885-f34d6456fa2b",
   "metadata": {},
   "outputs": [
    {
     "data": {
      "text/plain": [
       "array([[0.97852669, 0.        , 0.48506987, 0.        , 0.        ],\n",
       "       [0.        , 0.6957046 , 0.        , 0.        , 0.        ],\n",
       "       [0.48506987, 0.        , 1.00473363, 0.        , 0.        ],\n",
       "       [0.        , 0.        , 0.        , 0.50981079, 0.        ],\n",
       "       [0.        , 0.        , 0.        , 0.        , 0.65042778]])"
      ]
     },
     "execution_count": 137,
     "metadata": {},
     "output_type": "execute_result"
    }
   ],
   "source": [
    "results.theta"
   ]
  },
  {
   "cell_type": "code",
   "execution_count": 123,
   "id": "e14478a8-c8ee-419d-a887-df3ce6902817",
   "metadata": {},
   "outputs": [
    {
     "data": {
      "text/plain": [
       "array([[1.     , 0.     , 0.49005, 0.     , 0.     ],\n",
       "       [0.     , 1.     , 0.     , 0.5    , 0.     ],\n",
       "       [0.49005, 0.     , 1.     , 0.     , 0.     ],\n",
       "       [0.     , 0.5    , 0.     , 1.     , 0.495  ],\n",
       "       [0.     , 0.     , 0.     , 0.495  , 1.     ]])"
      ]
     },
     "execution_count": 123,
     "metadata": {},
     "output_type": "execute_result"
    }
   ],
   "source": [
    "theta_truth, x = _sample_data2()\n",
    "theta_truth"
   ]
  },
  {
   "cell_type": "code",
   "execution_count": 144,
   "id": "bd65dc9d-126a-4a93-96e3-03f707d402ce",
   "metadata": {},
   "outputs": [],
   "source": [
    "def overlap_covariance_matrix(n: int, max_overlaps: int = 1, seed: int = 0, max_iters: int = 1000, decay=.99):\n",
    "    rng = np.random.RandomState(seed=seed)\n",
    "    \n",
    "    overlaps = {i: 0 for i in range(n)}    \n",
    "    cov = np.eye(n)\n",
    "    \n",
    "    v = 1\n",
    "    \n",
    "    while len(overlaps) >= 2:\n",
    "        rows = list(overlaps.keys())\n",
    "\n",
    "        row, col = rng.choice(rows, size=2, replace=False)\n",
    "        \n",
    "        overlaps[row] += 1\n",
    "        overlaps[col] += 1\n",
    "        \n",
    "        cov[row, col] += v\n",
    "        v *= decay\n",
    "                \n",
    "        overlaps = {r: o for (r, o) in overlaps.items() if o < max_overlaps}    \n",
    "        \n",
    "    return cov\n",
    "    \n",
    "    "
   ]
  },
  {
   "cell_type": "code",
   "execution_count": 147,
   "id": "ec2635a4-0b18-455e-b88d-49290a41d7a8",
   "metadata": {},
   "outputs": [],
   "source": [
    "p = 5\n",
    "mu = np.zeros(p)\n",
    "theta_truth_tril = overlap_covariance_matrix(p, 2, decay=.8)\n",
    "\n",
    "theta_truth = (theta_truth_tril + theta_truth_tril.T) / 2\n",
    "\n",
    "rng = np.random.default_rng(seed)\n",
    "x = rng.multivariate_normal(mu, cov=np.linalg.inv(theta_truth), size=n)\n"
   ]
  },
  {
   "cell_type": "code",
   "execution_count": 148,
   "id": "25d51426-6888-4c69-81c7-a2100735af3d",
   "metadata": {},
   "outputs": [
    {
     "data": {
      "text/plain": [
       "array([[1.    , 0.    , 0.9   , 0.    , 0.    ],\n",
       "       [0.    , 1.    , 0.    , 0.2048, 0.32  ],\n",
       "       [0.9   , 0.    , 1.    , 0.    , 0.    ],\n",
       "       [0.    , 0.2048, 0.    , 1.    , 0.256 ],\n",
       "       [0.    , 0.32  , 0.    , 0.256 , 1.    ]])"
      ]
     },
     "execution_count": 148,
     "metadata": {},
     "output_type": "execute_result"
    }
   ],
   "source": [
    "theta_truth"
   ]
  },
  {
   "cell_type": "code",
   "execution_count": 207,
   "id": "42eac775-4951-4f78-89d9-46752bbb3147",
   "metadata": {},
   "outputs": [],
   "source": [
    "\n",
    "@composite\n",
    "def overlap_covariance_matrix(draw,\n",
    "                              n: hypothesis.strategies.SearchStrategy[int] = integers(3, 10),\n",
    "                              seed: hypothesis.strategies.SearchStrategy[int] = integers(0, 2**32 - 1),\n",
    "                              max_overlaps: int = 1,\n",
    "                              decay=.99):\n",
    "    n = draw(n)\n",
    "    seed = draw(seed)\n",
    "\n",
    "    overlaps = {i: 0 for i in range(n)}\n",
    "    cov = np.eye(n)\n",
    "\n",
    "    v = 1\n",
    "\n",
    "    rng = np.random.RandomState(seed=seed)\n",
    "    while len(overlaps) >= 2:\n",
    "        rows = list(overlaps.keys())\n",
    "\n",
    "        row, col = rng.choice(rows, size=2, replace=False)\n",
    "\n",
    "        overlaps[row] += 1\n",
    "        overlaps[col] += 1\n",
    "\n",
    "        cov[row, col] += v\n",
    "        v *= decay\n",
    "\n",
    "        overlaps = {r: o for (r, o) in overlaps.items() if o < max_overlaps}\n",
    "        \n",
    "    cov = (cov + cov.T)/2\n",
    "\n",
    "    return cov"
   ]
  },
  {
   "cell_type": "code",
   "execution_count": 229,
   "id": "45beae4f-caef-4f01-8e01-d66a4437a17c",
   "metadata": {},
   "outputs": [],
   "source": [
    "g = overlap_covariance_matrix(max_overlaps=1, decay=.8)"
   ]
  },
  {
   "cell_type": "code",
   "execution_count": 230,
   "id": "13ce1ab0-80a5-4730-9e42-2bedca13fda9",
   "metadata": {},
   "outputs": [
    {
     "data": {
      "text/plain": [
       "array([[1. , 0. , 0.5, 0. , 0. ],\n",
       "       [0. , 1. , 0. , 0. , 0. ],\n",
       "       [0.5, 0. , 1. , 0. , 0. ],\n",
       "       [0. , 0. , 0. , 1. , 0.4],\n",
       "       [0. , 0. , 0. , 0.4, 1. ]])"
      ]
     },
     "execution_count": 230,
     "metadata": {},
     "output_type": "execute_result"
    }
   ],
   "source": [
    "theta_truth = g.example()\n",
    "theta_truth"
   ]
  },
  {
   "cell_type": "code",
   "execution_count": 231,
   "id": "c3e4c5a4-d1d2-451a-85ca-81c5be0b2683",
   "metadata": {},
   "outputs": [],
   "source": [
    "def sample_from_cov(cov: np.ndarray, n: int = 1000, seed: int = 9) -> np.ndarray:\n",
    "    p, p2 = cov.shape\n",
    "    assert p == p2\n",
    "\n",
    "    mu = np.zeros(p)\n",
    "    rng = np.random.default_rng(seed)\n",
    "    x = rng.multivariate_normal(mu, cov=np.linalg.inv(cov), size=n)\n",
    "\n",
    "    return x"
   ]
  },
  {
   "cell_type": "code",
   "execution_count": 232,
   "id": "7c2ddd4b-9eee-4199-9264-430312dabff7",
   "metadata": {},
   "outputs": [
    {
     "name": "stdout",
     "output_type": "stream",
     "text": [
      "gL0LearnFit 1\n",
      "gL0LearnFit 2\n",
      "gL0LearnFit 2\n",
      "fit 1\n",
      "fit loop0\n",
      "current_iter: 1 cur_objective = 6.11474\n",
      "fit loop1\n",
      "current_iter: 2 cur_objective = 6.11474\n",
      "this->params.max_active_set_size = 1\n",
      "this->active_set.size() = 0\n",
      "n_to_keep = 1\n",
      "fit loop2\n",
      "current_iter: 3 cur_objective = 5.53552\n",
      "fit loop3\n",
      "current_iter: 4 cur_objective = 5.50832\n",
      "fit loop4\n",
      "current_iter: 5 cur_objective = 5.50442\n",
      "fit loop5\n",
      "current_iter: 6 cur_objective = 5.50379\n",
      "fit loop6\n",
      "current_iter: 7 cur_objective = 5.50368\n",
      "fit loop7\n",
      "current_iter: 8 cur_objective = 5.50366\n",
      "fit loop8\n",
      "current_iter: 9 cur_objective = 5.50366\n",
      "this->params.max_active_set_size = 1\n",
      "this->active_set.size() = 1\n",
      "n_to_keep = 0\n"
     ]
    }
   ],
   "source": [
    "x = sample_from_cov(theta_truth)\n",
    "_, _, _, _, Y, _ = synthetic.preprocess(x, assume_centered=False, cholesky=True)\n",
    "results = fit(x, l0=0, scale_x=True, max_active_set_size=1, initial_active_set=np.inf, super_active_set=0.)\n",
    "\n",
    "theta_truth_copy = np.copy(theta_truth)\n",
    "np.fill_diagonal(theta_truth_copy, 0)\n",
    "i, j = np.unravel_index(np.argmax(theta_truth_copy), theta_truth.shape)"
   ]
  },
  {
   "cell_type": "code",
   "execution_count": 233,
   "id": "0409bd9c-74cf-45b5-900e-227c188ce8c2",
   "metadata": {},
   "outputs": [
    {
     "data": {
      "text/plain": [
       "True"
      ]
     },
     "execution_count": 233,
     "metadata": {},
     "output_type": "execute_result"
    }
   ],
   "source": [
    "results.theta[i, j] > np.mean(theta_truth_copy)"
   ]
  },
  {
   "cell_type": "code",
   "execution_count": 234,
   "id": "c6017ada-1392-44a1-bce4-f516b93ac99d",
   "metadata": {},
   "outputs": [
    {
     "data": {
      "text/plain": [
       "array([[0.96096045, 0.        , 0.50044781, 0.        , 0.        ],\n",
       "       [0.        , 0.96929411, 0.        , 0.        , 0.        ],\n",
       "       [0.50044781, 0.        , 0.99139412, 0.        , 0.        ],\n",
       "       [0.        , 0.        , 0.        , 0.79390773, 0.        ],\n",
       "       [0.        , 0.        , 0.        , 0.        , 0.82343294]])"
      ]
     },
     "execution_count": 234,
     "metadata": {},
     "output_type": "execute_result"
    }
   ],
   "source": [
    "results.theta"
   ]
  },
  {
   "cell_type": "code",
   "execution_count": 235,
   "id": "22776fb6-55ba-40aa-bc48-59fbbd5f1249",
   "metadata": {},
   "outputs": [
    {
     "data": {
      "text/plain": [
       "(0, 2)"
      ]
     },
     "execution_count": 235,
     "metadata": {},
     "output_type": "execute_result"
    }
   ],
   "source": [
    "i, j"
   ]
  },
  {
   "cell_type": "code",
   "execution_count": 236,
   "id": "afd1320a-e17d-45a1-8e20-8833d95abfff",
   "metadata": {},
   "outputs": [
    {
     "data": {
      "text/plain": [
       "array([[1. , 0. , 0.5, 0. , 0. ],\n",
       "       [0. , 1. , 0. , 0. , 0. ],\n",
       "       [0.5, 0. , 1. , 0. , 0. ],\n",
       "       [0. , 0. , 0. , 1. , 0.4],\n",
       "       [0. , 0. , 0. , 0.4, 1. ]])"
      ]
     },
     "execution_count": 236,
     "metadata": {},
     "output_type": "execute_result"
    }
   ],
   "source": [
    "theta_truth"
   ]
  },
  {
   "cell_type": "code",
   "execution_count": 239,
   "id": "e72b0788-ce15-496e-8c5d-850dc405eb02",
   "metadata": {},
   "outputs": [],
   "source": [
    "p = 10\n",
    "module = hypothesis.strategies._internal.core.RandomSeeder(0)\n",
    "nnz = 4\n",
    "algorithm = 'CD'\n",
    "lXs = {}"
   ]
  },
  {
   "cell_type": "code",
   "execution_count": 252,
   "id": "f3974de9-5b3a-424b-bdf4-6ecf52da4679",
   "metadata": {},
   "outputs": [
    {
     "data": {
      "text/plain": [
       "array([[1.    , 0.    , 0.    , 0.2048, 0.    , 0.    , 0.    , 0.    ,\n",
       "        0.    , 0.    ],\n",
       "       [0.    , 1.    , 0.    , 0.    , 0.4   , 0.    , 0.    , 0.    ,\n",
       "        0.    , 0.    ],\n",
       "       [0.    , 0.    , 1.    , 0.    , 0.    , 0.    , 0.    , 0.    ,\n",
       "        0.5   , 0.    ],\n",
       "       [0.2048, 0.    , 0.    , 1.    , 0.    , 0.    , 0.    , 0.    ,\n",
       "        0.    , 0.    ],\n",
       "       [0.    , 0.4   , 0.    , 0.    , 1.    , 0.    , 0.    , 0.    ,\n",
       "        0.    , 0.    ],\n",
       "       [0.    , 0.    , 0.    , 0.    , 0.    , 1.    , 0.    , 0.    ,\n",
       "        0.    , 0.32  ],\n",
       "       [0.    , 0.    , 0.    , 0.    , 0.    , 0.    , 1.    , 0.256 ,\n",
       "        0.    , 0.    ],\n",
       "       [0.    , 0.    , 0.    , 0.    , 0.    , 0.    , 0.256 , 1.    ,\n",
       "        0.    , 0.    ],\n",
       "       [0.    , 0.    , 0.5   , 0.    , 0.    , 0.    , 0.    , 0.    ,\n",
       "        1.    , 0.    ],\n",
       "       [0.    , 0.    , 0.    , 0.    , 0.    , 0.32  , 0.    , 0.    ,\n",
       "        0.    , 1.    ]])"
      ]
     },
     "execution_count": 252,
     "metadata": {},
     "output_type": "execute_result"
    }
   ],
   "source": [
    "theta_truth"
   ]
  },
  {
   "cell_type": "code",
   "execution_count": 241,
   "id": "70c1a33c-8b2f-4691-85f2-060f9be9b9c2",
   "metadata": {},
   "outputs": [],
   "source": [
    "def overlap_covariance_matrix(n: int,\n",
    "                              seed: int = 0,\n",
    "                              max_overlaps: int = 1,\n",
    "                              decay=.99):\n",
    "\n",
    "    overlaps = {i: 0 for i in range(n)}\n",
    "    cov = np.eye(n)\n",
    "\n",
    "    v = 1\n",
    "\n",
    "    rng = np.random.RandomState(seed=seed)\n",
    "    while len(overlaps) >= 2:\n",
    "        rows = list(overlaps.keys())\n",
    "\n",
    "        row, col = rng.choice(rows, size=2, replace=False)\n",
    "\n",
    "        overlaps[row] += 1\n",
    "        overlaps[col] += 1\n",
    "\n",
    "        cov[row, col] += v\n",
    "        v *= decay\n",
    "\n",
    "        overlaps = {r: o for (r, o) in overlaps.items() if o < max_overlaps}\n",
    "\n",
    "    cov = (cov + cov.T)/2\n",
    "\n",
    "    return cov"
   ]
  },
  {
   "cell_type": "code",
   "execution_count": 287,
   "id": "c3d9966f-06a7-4b82-ba34-35bc2a8f7599",
   "metadata": {},
   "outputs": [
    {
     "data": {
      "text/plain": [
       "0.6321205588285577"
      ]
     },
     "execution_count": 287,
     "metadata": {},
     "output_type": "execute_result"
    }
   ],
   "source": [
    "1 - np.exp(5 - 6)"
   ]
  },
  {
   "cell_type": "code",
   "execution_count": 277,
   "id": "532e2083-54ad-4f29-a664-8ac0528a9e9d",
   "metadata": {},
   "outputs": [
    {
     "data": {
      "text/plain": [
       "array([[1.   , 0.   , 0.5  , 0.   , 0.   ],\n",
       "       [0.   , 1.   , 0.   , 0.   , 0.495],\n",
       "       [0.5  , 0.   , 1.   , 0.   , 0.   ],\n",
       "       [0.   , 0.   , 0.   , 1.   , 0.   ],\n",
       "       [0.   , 0.495, 0.   , 0.   , 1.   ]])"
      ]
     },
     "execution_count": 277,
     "metadata": {},
     "output_type": "execute_result"
    }
   ],
   "source": [
    "overlap_covariance_matrix(5, max_overlaps=1, decay=.99)"
   ]
  },
  {
   "cell_type": "code",
   "execution_count": 278,
   "id": "52b29371-6a2a-4bad-99d7-6ce36c36e611",
   "metadata": {},
   "outputs": [
    {
     "data": {
      "text/plain": [
       "array([0.5      , 0.505    , 0.50995  , 0.5148505, 0.519702 , 1.480298 ,\n",
       "       1.4851495, 1.49005  , 1.495    , 1.5      ])"
      ]
     },
     "execution_count": 278,
     "metadata": {},
     "output_type": "execute_result"
    }
   ],
   "source": [
    "np.linalg.eigvalsh(overlap_covariance_matrix(10, max_overlaps=1, decay=.99))"
   ]
  },
  {
   "cell_type": "code",
   "execution_count": 242,
   "id": "429c4533-33ff-461c-beeb-26eb826b1c91",
   "metadata": {},
   "outputs": [
    {
     "name": "stdout",
     "output_type": "stream",
     "text": [
      "gL0LearnFit 1\n",
      "gL0LearnFit 2\n",
      "gL0LearnFit 2\n",
      "fit 1\n",
      "fit loop0\n",
      "current_iter: 1 cur_objective = 9.97932\n",
      "fit loop1\n",
      "current_iter: 2 cur_objective = 9.97091\n",
      "fit loop2\n",
      "current_iter: 3 cur_objective = 9.97034\n",
      "fit loop3\n",
      "current_iter: 4 cur_objective = 9.97028\n",
      "fit loop4\n",
      "current_iter: 5 cur_objective = 9.97028\n",
      "gl0Learn found solution with 45 non-zeros with parameters:\n",
      "\t l0 = 0.0)\n",
      "\t cost = -41\n",
      "gL0LearnFit 1\n",
      "gL0LearnFit 2\n",
      "gL0LearnFit 2\n",
      "fit 1\n",
      "fit loop0\n",
      "current_iter: 1 cur_objective = 11.3992\n",
      "fit loop1\n",
      "current_iter: 2 cur_objective = 11.3992\n",
      "gl0Learn found solution with 0 non-zeros with parameters:\n",
      "\t l0 = 10.0)\n",
      "\t cost = 4\n",
      "gL0LearnFit 1\n",
      "gL0LearnFit 2\n",
      "gL0LearnFit 2\n",
      "fit 1\n",
      "fit loop0\n",
      "current_iter: 1 cur_objective = 11.3992\n",
      "fit loop1\n",
      "current_iter: 2 cur_objective = 11.3992\n",
      "gl0Learn found solution with 0 non-zeros with parameters:\n",
      "\t l0 = 5.0)\n",
      "\t cost = 4\n",
      "gL0LearnFit 1\n",
      "gL0LearnFit 2\n",
      "gL0LearnFit 2\n",
      "fit 1\n",
      "fit loop0\n",
      "current_iter: 1 cur_objective = 11.3992\n",
      "fit loop1\n",
      "current_iter: 2 cur_objective = 11.3992\n",
      "gl0Learn found solution with 0 non-zeros with parameters:\n",
      "\t l0 = 2.5)\n",
      "\t cost = 4\n",
      "gL0LearnFit 1\n",
      "gL0LearnFit 2\n",
      "gL0LearnFit 2\n",
      "fit 1\n",
      "fit loop0\n",
      "current_iter: 1 cur_objective = 11.3992\n",
      "fit loop1\n",
      "current_iter: 2 cur_objective = 11.3992\n",
      "gl0Learn found solution with 0 non-zeros with parameters:\n",
      "\t l0 = 1.25)\n",
      "\t cost = 4\n",
      "gL0LearnFit 1\n",
      "gL0LearnFit 2\n",
      "gL0LearnFit 2\n",
      "fit 1\n",
      "fit loop0\n",
      "current_iter: 1 cur_objective = 11.3935\n",
      "fit loop1\n",
      "current_iter: 2 cur_objective = 11.3925\n",
      "fit loop2\n",
      "current_iter: 3 cur_objective = 11.3924\n",
      "fit loop3\n",
      "current_iter: 4 cur_objective = 11.3923\n",
      "fit loop4\n",
      "current_iter: 5 cur_objective = 11.3923\n",
      "gl0Learn found solution with 1 non-zeros with parameters:\n",
      "\t l0 = 0.625)\n",
      "\t cost = 3\n",
      "gL0LearnFit 1\n",
      "gL0LearnFit 2\n",
      "gL0LearnFit 2\n",
      "fit 1\n",
      "fit loop0\n",
      "current_iter: 1 cur_objective = 11.0938\n",
      "fit loop1\n",
      "current_iter: 2 cur_objective = 11.0927\n",
      "fit loop2\n",
      "current_iter: 3 cur_objective = 11.0926\n",
      "fit loop3\n",
      "current_iter: 4 cur_objective = 11.0925\n",
      "fit loop4\n",
      "current_iter: 5 cur_objective = 11.0925\n",
      "gl0Learn found solution with 2 non-zeros with parameters:\n",
      "\t l0 = 0.3125)\n",
      "\t cost = 2\n",
      "gL0LearnFit 1\n",
      "gL0LearnFit 2\n",
      "gL0LearnFit 2\n",
      "fit 1\n",
      "fit loop0\n",
      "current_iter: 1 cur_objective = 10.7175\n",
      "fit loop1\n",
      "current_iter: 2 cur_objective = 10.7163\n",
      "fit loop2\n",
      "current_iter: 3 cur_objective = 10.7162\n",
      "fit loop3\n",
      "current_iter: 4 cur_objective = 10.7161\n",
      "fit loop4\n",
      "current_iter: 5 cur_objective = 10.7161\n",
      "gl0Learn found solution with 3 non-zeros with parameters:\n",
      "\t l0 = 0.15625)\n",
      "\t cost = 1\n",
      "gL0LearnFit 1\n",
      "gL0LearnFit 2\n",
      "gL0LearnFit 2\n",
      "fit 1\n",
      "fit loop0\n",
      "current_iter: 1 cur_objective = 10.4546\n",
      "fit loop1\n",
      "current_iter: 2 cur_objective = 10.4531\n",
      "fit loop2\n",
      "current_iter: 3 cur_objective = 10.453\n",
      "fit loop3\n",
      "current_iter: 4 cur_objective = 10.4529\n",
      "fit loop4\n",
      "current_iter: 5 cur_objective = 10.4529\n",
      "gl0Learn found solution with 5 non-zeros with parameters:\n",
      "\t l0 = 0.078125)\n",
      "\t cost = -1\n",
      "gL0LearnFit 1\n",
      "gL0LearnFit 2\n",
      "gL0LearnFit 2\n",
      "fit 1\n",
      "fit loop0\n",
      "current_iter: 1 cur_objective = 10.6003\n",
      "fit loop1\n",
      "current_iter: 2 cur_objective = 10.5992\n",
      "fit loop2\n",
      "current_iter: 3 cur_objective = 10.599\n",
      "fit loop3\n",
      "current_iter: 4 cur_objective = 10.5989\n",
      "fit loop4\n",
      "current_iter: 5 cur_objective = 10.5989\n",
      "gl0Learn found solution with 3 non-zeros with parameters:\n",
      "\t l0 = 0.1171875)\n",
      "\t cost = 1\n",
      "gL0LearnFit 1\n",
      "gL0LearnFit 2\n",
      "gL0LearnFit 2\n",
      "fit 1\n",
      "fit loop0\n",
      "current_iter: 1 cur_objective = 10.538\n",
      "fit loop1\n",
      "current_iter: 2 cur_objective = 10.5366\n",
      "fit loop2\n",
      "current_iter: 3 cur_objective = 10.5364\n",
      "fit loop3\n",
      "current_iter: 4 cur_objective = 10.5364\n",
      "fit loop4\n",
      "current_iter: 5 cur_objective = 10.5364\n",
      "gl0Learn found solution with 4 non-zeros with parameters:\n",
      "\t l0 = 0.09765625)\n",
      "\t cost = 0\n",
      "gL0LearnFit 1\n",
      "gL0LearnFit 2\n",
      "gL0LearnFit 2\n",
      "fit 1\n",
      "fit loop0\n",
      "current_iter: 1 cur_objective = 10.538\n",
      "fit loop1\n",
      "current_iter: 2 cur_objective = 10.5366\n",
      "fit loop2\n",
      "current_iter: 3 cur_objective = 10.5364\n",
      "fit loop3\n",
      "current_iter: 4 cur_objective = 10.5364\n",
      "fit loop4\n",
      "current_iter: 5 cur_objective = 10.5364\n"
     ]
    }
   ],
   "source": [
    "theta_truth = overlap_covariance_matrix(n=p, decay=.8)\n",
    "x = sample_from_cov(theta_truth)\n",
    "\n",
    "_, _, _, _, Y, _ = synthetic.preprocess(x, assume_centered=False, cholesky=True)\n",
    "\n",
    "fit_kwargs = dict(**lXs, scale_x=False, max_active_set_size=p*(p-1)//2, initial_active_set=0.,\n",
    "                  super_active_set=0., algorithm=algorithm)\n",
    "\n",
    "f = make_bisect_func(nnz, Y, **fit_kwargs)\n",
    "\n",
    "from scipy.optimize import bisect\n",
    "try:\n",
    "    opt_l0 = bisect(f, a=0, b=10)\n",
    "except ValueError:\n",
    "    assume(False)\n",
    "\n",
    "np.random.seed(0)\n",
    "results = fit(Y, l0=opt_l0, **fit_kwargs)\n",
    "\n",
    "theta = results.theta"
   ]
  },
  {
   "cell_type": "code",
   "execution_count": 246,
   "id": "c5854ac4-87b5-46bc-8050-1714134c7d1d",
   "metadata": {},
   "outputs": [
    {
     "data": {
      "text/plain": [
       "array([[ 1. ,  0. ,  0. ,  0.2, -0. , -0. , -0. ,  0. , -0. ,  0. ],\n",
       "       [ 0. ,  1. ,  0. ,  0. ,  0.4, -0. , -0. , -0. , -0. ,  0. ],\n",
       "       [ 0. ,  0. ,  1. ,  0. ,  0. , -0. ,  0. ,  0. ,  0.5,  0. ],\n",
       "       [ 0.2,  0. ,  0. ,  0.9, -0. ,  0. , -0. ,  0. , -0. ,  0. ],\n",
       "       [-0. ,  0.4,  0. , -0. ,  1. ,  0. , -0. ,  0. , -0. , -0. ],\n",
       "       [-0. , -0. , -0. ,  0. ,  0. ,  1. , -0. ,  0. ,  0. ,  0.3],\n",
       "       [-0. , -0. ,  0. , -0. , -0. , -0. ,  0.9,  0. , -0. , -0. ],\n",
       "       [ 0. , -0. ,  0. ,  0. ,  0. ,  0. ,  0. ,  1. ,  0. , -0. ],\n",
       "       [-0. , -0. ,  0.5, -0. , -0. ,  0. , -0. ,  0. ,  1.1,  0. ],\n",
       "       [ 0. ,  0. ,  0. ,  0. , -0. ,  0.3, -0. , -0. ,  0. ,  1. ]])"
      ]
     },
     "execution_count": 246,
     "metadata": {},
     "output_type": "execute_result"
    }
   ],
   "source": [
    "np.round(theta, decimals=1)"
   ]
  },
  {
   "cell_type": "code",
   "execution_count": 249,
   "id": "62f7caf0-e8d7-4ae6-b945-816bc8bbd7b3",
   "metadata": {},
   "outputs": [
    {
     "data": {
      "text/plain": [
       "array([[1. , 0. , 0. , 0.2, 0. , 0. , 0. , 0. , 0. , 0. ],\n",
       "       [0. , 1. , 0. , 0. , 0.4, 0. , 0. , 0. , 0. , 0. ],\n",
       "       [0. , 0. , 1. , 0. , 0. , 0. , 0. , 0. , 0.5, 0. ],\n",
       "       [0.2, 0. , 0. , 1. , 0. , 0. , 0. , 0. , 0. , 0. ],\n",
       "       [0. , 0.4, 0. , 0. , 1. , 0. , 0. , 0. , 0. , 0. ],\n",
       "       [0. , 0. , 0. , 0. , 0. , 1. , 0. , 0. , 0. , 0.3],\n",
       "       [0. , 0. , 0. , 0. , 0. , 0. , 1. , 0.3, 0. , 0. ],\n",
       "       [0. , 0. , 0. , 0. , 0. , 0. , 0.3, 1. , 0. , 0. ],\n",
       "       [0. , 0. , 0.5, 0. , 0. , 0. , 0. , 0. , 1. , 0. ],\n",
       "       [0. , 0. , 0. , 0. , 0. , 0.3, 0. , 0. , 0. , 1. ]])"
      ]
     },
     "execution_count": 249,
     "metadata": {},
     "output_type": "execute_result"
    }
   ],
   "source": [
    "np.round(theta_truth, decimals=1)"
   ]
  },
  {
   "cell_type": "code",
   "execution_count": 7,
   "id": "86609278-086c-46c6-bef6-6774df63827d",
   "metadata": {},
   "outputs": [
    {
     "ename": "TypeError",
     "evalue": "overlap_covariance_matrix() got an unexpected keyword argument 'decay'",
     "output_type": "error",
     "traceback": [
      "\u001b[0;31m---------------------------------------------------------------------------\u001b[0m",
      "\u001b[0;31mTypeError\u001b[0m                                 Traceback (most recent call last)",
      "\u001b[0;32m/var/folders/xq/mwcnpp0j5ls5jjcyx7nsdwyh0000gn/T/ipykernel_86774/3932798152.py\u001b[0m in \u001b[0;36m<module>\u001b[0;34m\u001b[0m\n\u001b[1;32m      2\u001b[0m \u001b[0mseed\u001b[0m \u001b[0;34m=\u001b[0m \u001b[0;36m1\u001b[0m\u001b[0;34m\u001b[0m\u001b[0;34m\u001b[0m\u001b[0m\n\u001b[1;32m      3\u001b[0m \u001b[0;34m\u001b[0m\u001b[0m\n\u001b[0;32m----> 4\u001b[0;31m \u001b[0mtheta_truth\u001b[0m \u001b[0;34m=\u001b[0m \u001b[0moverlap_covariance_matrix\u001b[0m\u001b[0;34m(\u001b[0m\u001b[0mn\u001b[0m\u001b[0;34m=\u001b[0m\u001b[0mp\u001b[0m\u001b[0;34m,\u001b[0m \u001b[0mseed\u001b[0m\u001b[0;34m=\u001b[0m\u001b[0mseed\u001b[0m\u001b[0;34m,\u001b[0m \u001b[0mdecay\u001b[0m\u001b[0;34m=\u001b[0m\u001b[0;36m.8\u001b[0m\u001b[0;34m)\u001b[0m\u001b[0;34m\u001b[0m\u001b[0;34m\u001b[0m\u001b[0m\n\u001b[0m\u001b[1;32m      5\u001b[0m \u001b[0mx\u001b[0m \u001b[0;34m=\u001b[0m \u001b[0msample_from_cov\u001b[0m\u001b[0;34m(\u001b[0m\u001b[0mn\u001b[0m\u001b[0;34m=\u001b[0m\u001b[0;36m30\u001b[0m\u001b[0;34m*\u001b[0m\u001b[0mp\u001b[0m\u001b[0;34m**\u001b[0m\u001b[0;36m2\u001b[0m\u001b[0;34m,\u001b[0m \u001b[0mcov\u001b[0m\u001b[0;34m=\u001b[0m\u001b[0mtheta_truth\u001b[0m\u001b[0;34m)\u001b[0m\u001b[0;34m\u001b[0m\u001b[0;34m\u001b[0m\u001b[0m\n\u001b[1;32m      6\u001b[0m \u001b[0;34m\u001b[0m\u001b[0m\n",
      "\u001b[0;31mTypeError\u001b[0m: overlap_covariance_matrix() got an unexpected keyword argument 'decay'"
     ]
    }
   ],
   "source": [
    "p = 5\n",
    "seed = 1\n",
    "\n",
    "theta_truth = overlap_covariance_matrix(n=p, seed=seed, decay=.8)\n",
    "x = sample_from_cov(n=30*p**2, cov=theta_truth)\n",
    "\n",
    "_, _, _, _, Y, _ = synthetic.preprocess(x, assume_centered=False, cholesky=True)\n",
    "\n",
    "possible_active_set = np.where(np.abs(np.triu(theta_truth, k=1)) > 0)\n",
    "\n",
    "full_super_active_set = np.asarray(possible_active_set).T\n",
    "idx = np.random.randint(full_super_active_set.shape[0], size=1)\n",
    "initial_super_active_set = full_super_active_set[idx, :]\n",
    "\n",
    "results = fit(Y, **lXs, initial_active_set=np.inf, super_active_set=initial_super_active_set,\n",
    "              max_active_set_size=p**2)\n",
    "\n",
    "cd_indices = top_n_triu_indicies(results.theta, 1)"
   ]
  },
  {
   "cell_type": "code",
   "execution_count": null,
   "id": "819c0e98-018d-4b62-83cc-d727a9383961",
   "metadata": {},
   "outputs": [],
   "source": []
  }
 ],
 "metadata": {
  "kernelspec": {
   "display_name": "Python 3 (ipykernel)",
   "language": "python",
   "name": "python3"
  },
  "language_info": {
   "codemirror_mode": {
    "name": "ipython",
    "version": 3
   },
   "file_extension": ".py",
   "mimetype": "text/x-python",
   "name": "python",
   "nbconvert_exporter": "python",
   "pygments_lexer": "ipython3",
   "version": "3.9.7"
  }
 },
 "nbformat": 4,
 "nbformat_minor": 5
}
