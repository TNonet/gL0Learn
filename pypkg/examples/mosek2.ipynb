{
 "cells": [
  {
   "cell_type": "code",
   "execution_count": 84,
   "id": "6d5b26e4-4705-4600-ac31-2641ef2107ea",
   "metadata": {},
   "outputs": [],
   "source": [
    "from sys import stdout\n",
    "from time import perf_counter\n",
    "from collections import namedtuple\n",
    "\n",
    "import numpy as np\n",
    "\n",
    "\n",
    "def diag_index(i):\n",
    "    return (i + 1) * (i + 2) // 2 - 1\n"
   ]
  },
  {
   "cell_type": "code",
   "execution_count": 114,
   "id": "29262e3a-c6bb-40b9-aa8d-f20bcafd4d9d",
   "metadata": {},
   "outputs": [
    {
     "data": {
      "text/plain": [
       "(14, 20)"
      ]
     },
     "execution_count": 114,
     "metadata": {},
     "output_type": "execute_result"
    }
   ],
   "source": [
    "diag_index(4), diag_index(5)"
   ]
  },
  {
   "cell_type": "code",
   "execution_count": 85,
   "id": "42e02b47-5aa1-49c0-afcc-1d58b59adbb5",
   "metadata": {},
   "outputs": [],
   "source": [
    "from gl0learn import fit, synthetic\n",
    "from gl0learn.utils import check_make_valid_coordinate_matrix\n",
    "from gl0learn.metrics import false_positives, prediction_error\n",
    "import numpy as np\n",
    "import time"
   ]
  },
  {
   "cell_type": "code",
   "execution_count": 362,
   "id": "6bb748fc-b831-4a48-9a45-b841b520d3c8",
   "metadata": {},
   "outputs": [],
   "source": [
    "n = 40\n",
    "p = 10\n",
    "model = \"AR1\"\n",
    "rng = 1\n",
    "rho = 0.5\n",
    "normalize=\"covariance\"\n",
    "X, Sigma_truth, Theta_truth = synthetic.generate_synthetic(n,p,model,normalize, rng=rng, rho=rho)"
   ]
  },
  {
   "cell_type": "code",
   "execution_count": 363,
   "id": "fe0d98ab-d0ef-4b9d-b545-951099b42b4d",
   "metadata": {},
   "outputs": [],
   "source": [
    "_, _, _,_,Y,_ = synthetic.preprocess(X, assume_centered = False, cholesky=False)"
   ]
  },
  {
   "cell_type": "code",
   "execution_count": 364,
   "id": "d5068715-5d4f-4422-989d-eb8a7e7ecc78",
   "metadata": {},
   "outputs": [],
   "source": [
    "l0=0.2\n",
    "l2=0.5\n",
    "M = np.max(np.abs(Theta_truth*(1-np.eye(p))))\n",
    "int_tol = 1e-4\n",
    "mio_gap = 1e-4\n",
    "maxtime=30"
   ]
  },
  {
   "cell_type": "code",
   "execution_count": 365,
   "id": "ea9732b3-030e-4dba-b9e8-3754732a0a29",
   "metadata": {},
   "outputs": [],
   "source": [
    "n, p = Y.shape\n",
    "num_coeffs = p * (p + 1) // 2\n",
    "num_l0 =  p * (p - 1) // 2\n",
    "try:\n",
    "    import mosek.fusion as msk\n",
    "    import mosek\n",
    "except ModuleNotFoundError:\n",
    "    raise Exception(\n",
    "        f\"`mosek` is not installed. Refer ot installation documentation about how to install `mosek`\"\n",
    "    )\n",
    "\n",
    "model = msk.Model()\n",
    "model.acceptedSolutionStatus(msk.AccSolutionStatus.Feasible)\n",
    "\n",
    "theta_tril = model.variable(\"theta_tril\", num_coeffs, msk.Domain.unbounded())\n",
    "\n",
    "s = model.variable(\"s\", num_coeffs, msk.Domain.greaterThan(0))\n",
    "z = model.variable(\"z\", num_coeffs, msk.Domain.integral(msk.Domain.inRange(0, 1)))\n",
    "t  = model.variable(\"t\", p, msk.Domain.greaterThan(0))\n",
    "lg = model.variable(\"lg\", p, msk.Domain.unbounded())\n",
    "residuals = model.variable(\"residuals\", [min(n, p), p], msk.Domain.unbounded())\n",
    "\n",
    "theta = theta_tril.fromTril(p)\n",
    "if n <= p:\n",
    "    expr = msk.Expr.mul(msk.Matrix.dense(Y), theta)\n",
    "else:\n",
    "    C = np.linalg.cholesky(Y.T @ Y)\n",
    "    expr = msk.Expr.mul(msk.Matrix.dense(C.T), theta)\n",
    "model.constraint(msk.Expr.sub(residuals, expr), msk.Domain.equalsTo(0))\n",
    "\n",
    "for i in range(p):\n",
    "    model.constraint(\n",
    "        msk.Expr.vstack(\n",
    "            theta_tril.index(diag_index(i)),\n",
    "            msk.Expr.mul(0.5, t.index(i)),\n",
    "            residuals.slice([0, i], [min(n, p), i + 1]).reshape(min(n, p)), # This grabs columns of residuals!\n",
    "        ),\n",
    "        msk.Domain.inRotatedQCone(),\n",
    "    )\n",
    "    model.constraint(\n",
    "        msk.Expr.vstack(\n",
    "            theta_tril.index(diag_index(i)), msk.Expr.constTerm(1), lg.index(i)\n",
    "        ),\n",
    "        msk.Domain.inPExpCone(),\n",
    "    )\n",
    "\n",
    "z_expr = msk.Expr.constTerm(0)\n",
    "s_expr = msk.Expr.constTerm(0)\n",
    "for i in range(1, p):\n",
    "    theta_tmp = theta_tril.slice(diag_index(i - 1) + 1, diag_index(i))\n",
    "    z_tmp = z.slice(diag_index(i - 1) + 1, diag_index(i))\n",
    "    s_tmp = s.slice(diag_index(i - 1) + 1, diag_index(i))\n",
    "    expr = msk.Expr.mul(z_tmp, M)\n",
    "    model.constraint(msk.Expr.sub(expr, theta_tmp), msk.Domain.greaterThan(0))\n",
    "    model.constraint(msk.Expr.add(theta_tmp, expr), msk.Domain.greaterThan(0))\n",
    "    expr = msk.Expr.hstack(msk.Expr.mul(0.5, s_tmp), z_tmp, theta_tmp)\n",
    "    model.constraint(expr, msk.Domain.inRotatedQCone())\n",
    "    z_expr = msk.Expr.add(z_expr, msk.Expr.sum(z_tmp))\n",
    "    s_expr = msk.Expr.add(s_expr, msk.Expr.sum(s_tmp))\n",
    "\n",
    "z_expr = msk.Expr.mul(l0, z_expr)\n",
    "s_expr = msk.Expr.mul(l2, s_expr)\n",
    "t_expr = msk.Expr.sum(msk.Expr.sub(t, lg))\n",
    "\n",
    "model.residual(msk.ObjectiveSense.Minimize, msk.Expr.add([t_expr, z_expr, s_expr]))\n",
    "\n",
    "model.setSolverParam(\"log\", 0)\n",
    "model.setSolverParam(\"mioTolAbsRelaxInt\", int_tol)\n",
    "model.setSolverParam(\"mioTolAbsGap\", mio_gap)\n",
    "model.setSolverParam(\"mioTolRelGap\", mio_gap)\n",
    "model.setSolverParam(\"mioRelGapConst\", 1)\n",
    "\n",
    "if maxtime is not None:\n",
    "    model.setSolverParam(\"mioMaxTime\", maxtime)\n",
    "model.setLogHandler(stdout)\n",
    "\n",
    "\n",
    "# if initial_theta_tril is not None:\n",
    "#     theta_tril.setLevel(initial_theta_tril)\n",
    "#     z.setLevel(np.asarray(initial_theta_tril > int_tol, dtype=float))\n",
    "\n",
    "model.solve()\n",
    "\n",
    "status = model.getProblemStatus()\n",
    "\n",
    "lower_bound = model.getSolverDoubleInfo(\"mioObjBound\")\n",
    "upper_bound = model.getSolverDoubleInfo(\"mioObjInt\")\n",
    "gap = (upper_bound - lower_bound) / max(1, abs(upper_bound))"
   ]
  },
  {
   "cell_type": "code",
   "execution_count": 366,
   "id": "b860327e-eaca-405a-99f5-5e407d35bc54",
   "metadata": {},
   "outputs": [
    {
     "data": {
      "text/plain": [
       "array([0., 0., 0., 0., 1., 0., 0., 0., 1., 0., 0., 0., 0., 0., 0., 0., 0.,\n",
       "       0., 0., 0., 0., 0., 0., 0., 0., 0., 1., 0., 0., 0., 0., 0., 0., 0.,\n",
       "       1., 0., 0., 0., 0., 0., 0., 0., 0., 1., 0., 0., 0., 0., 0., 0., 0.,\n",
       "       0., 0., 1., 0.])"
      ]
     },
     "execution_count": 366,
     "metadata": {},
     "output_type": "execute_result"
    }
   ],
   "source": [
    "z.level()"
   ]
  },
  {
   "cell_type": "code",
   "execution_count": 367,
   "id": "5f3fac62-4866-4d42-847e-e27033e72d0e",
   "metadata": {},
   "outputs": [
    {
     "data": {
      "text/plain": [
       "array([0. , 0. , 0. , 0. , 0.2, 0. , 0. , 0. , 0.2, 0. , 0. , 0. , 0. ,\n",
       "       0. , 0. , 0. , 0. , 0. , 0. , 0. , 0. , 0. , 0. , 0. , 0. , 0. ,\n",
       "       0.2, 0. , 0. , 0. , 0. , 0. , 0. , 0. , 0.2, 0. , 0. , 0. , 0. ,\n",
       "       0. , 0. , 0. , 0. , 0.3, 0. , 0. , 0. , 0. , 0. , 0. , 0. , 0. ,\n",
       "       0. , 0.1, 0. ])"
      ]
     },
     "execution_count": 367,
     "metadata": {},
     "output_type": "execute_result"
    }
   ],
   "source": [
    "np.round(s.level(), decimals=1)"
   ]
  },
  {
   "cell_type": "code",
   "execution_count": 369,
   "id": "1ead5dbb-2eda-455e-afba-634a66a5aab4",
   "metadata": {},
   "outputs": [
    {
     "data": {
      "text/plain": [
       "array([1.00000365, 0.91623328, 0.83573794, 0.88892605, 1.00000236,\n",
       "       0.86234282, 0.78800168, 0.76727179, 0.82111819, 0.91037464])"
      ]
     },
     "execution_count": 369,
     "metadata": {},
     "output_type": "execute_result"
    }
   ],
   "source": [
    "t.level()"
   ]
  },
  {
   "cell_type": "code",
   "execution_count": 370,
   "id": "c19deff4-b3b1-4d75-88c1-0b40a25b8da2",
   "metadata": {},
   "outputs": [],
   "source": [
    "residual_level = residuals.level().reshape(10, 10)"
   ]
  },
  {
   "cell_type": "code",
   "execution_count": 385,
   "id": "786faaf9-cb33-4952-b43e-8aea95ede78c",
   "metadata": {},
   "outputs": [
    {
     "data": {
      "text/plain": [
       "1.0000036477019787"
      ]
     },
     "execution_count": 385,
     "metadata": {},
     "output_type": "execute_result"
    }
   ],
   "source": [
    "np.linalg.norm(Y@theta.level().reshape(p, p)[0, :])**2/theta.level().reshape(p, p)[0, 0]"
   ]
  },
  {
   "cell_type": "code",
   "execution_count": 380,
   "id": "f831deef-203a-4b9e-b9df-9da565663a4d",
   "metadata": {},
   "outputs": [
    {
     "data": {
      "text/plain": [
       "array([0.88458705, 0.79201575, 0.81456896, 0.8356928 , 0.82383743,\n",
       "       0.71937452, 0.75867759, 0.69874218, 0.8378979 , 0.83100237])"
      ]
     },
     "execution_count": 380,
     "metadata": {},
     "output_type": "execute_result"
    }
   ],
   "source": [
    "np.linalg.norm(Y@theta.level().reshape(p, p), axis=0)/np.diag(theta.level().reshape(p, p))"
   ]
  },
  {
   "cell_type": "code",
   "execution_count": 374,
   "id": "7a07e6c6-fad9-4bf9-9227-2639739ae3fb",
   "metadata": {},
   "outputs": [
    {
     "data": {
      "text/plain": [
       "array([[ 1.27796932e+00,  0.00000000e+00, -5.95608468e-09,\n",
       "         2.08874777e-08, -4.68026209e-09, -1.20221225e-08,\n",
       "        -4.00598684e-09, -4.63787435e-11,  0.00000000e+00,\n",
       "         0.00000000e+00],\n",
       "       [ 0.00000000e+00,  1.46062398e+00, -3.89264587e-01,\n",
       "        -1.79572924e-09, -1.14038858e-09,  7.64697708e-10,\n",
       "         0.00000000e+00,  1.18631642e-08,  0.00000000e+00,\n",
       "         6.00072135e-09],\n",
       "       [-5.95608468e-09, -3.89264587e-01,  1.25954706e+00,\n",
       "        -4.55616586e-01,  0.00000000e+00,  0.00000000e+00,\n",
       "        -4.91910835e-09, -9.77635950e-09,  1.14020447e-09,\n",
       "        -3.06171383e-09],\n",
       "       [ 2.08874777e-08, -1.79572924e-09, -4.55616586e-01,\n",
       "         1.27283560e+00,  0.00000000e+00,  2.50276610e-09,\n",
       "         1.39801698e-08, -2.21407844e-08,  0.00000000e+00,\n",
       "        -1.29421099e-08],\n",
       "       [-4.68026209e-09, -1.14038858e-09,  0.00000000e+00,\n",
       "         0.00000000e+00,  1.47339091e+00, -6.34265120e-09,\n",
       "        -1.04235083e-08, -5.26010466e-09,  0.00000000e+00,\n",
       "         0.00000000e+00],\n",
       "       [-1.20221225e-08,  7.64697708e-10,  0.00000000e+00,\n",
       "         2.50276610e-09, -6.34265120e-09,  1.66636388e+00,\n",
       "        -4.86341773e-01, -1.12333123e-08,  7.37921831e-09,\n",
       "         2.02665076e-08],\n",
       "       [-4.00598684e-09,  0.00000000e+00, -4.91910835e-09,\n",
       "         1.39801698e-08, -1.04235083e-08, -4.86341773e-01,\n",
       "         1.36902895e+00, -4.50372242e-01,  0.00000000e+00,\n",
       "         0.00000000e+00],\n",
       "       [-4.63787435e-11,  1.18631642e-08, -9.77635950e-09,\n",
       "        -2.21407844e-08, -5.26010466e-09, -1.12333123e-08,\n",
       "        -4.50372242e-01,  1.57150337e+00, -5.39793455e-01,\n",
       "         0.00000000e+00],\n",
       "       [ 0.00000000e+00,  0.00000000e+00,  1.14020447e-09,\n",
       "         0.00000000e+00,  0.00000000e+00,  7.37921831e-09,\n",
       "         0.00000000e+00, -5.39793455e-01,  1.16956260e+00,\n",
       "        -3.46653688e-01],\n",
       "       [ 0.00000000e+00,  6.00072135e-09, -3.06171383e-09,\n",
       "        -1.29421099e-08,  0.00000000e+00,  2.02665076e-08,\n",
       "         0.00000000e+00,  0.00000000e+00, -3.46653688e-01,\n",
       "         1.31830417e+00]])"
      ]
     },
     "execution_count": 374,
     "metadata": {},
     "output_type": "execute_result"
    }
   ],
   "source": [
    "theta.level().reshape(p, p)"
   ]
  },
  {
   "cell_type": "code",
   "execution_count": 230,
   "id": "adc97190-ed82-43d9-b2d0-cebd22550fc3",
   "metadata": {},
   "outputs": [
    {
     "data": {
      "text/plain": [
       "array([ 9.13798462e-02,  1.02686293e-01,  9.48132643e-01, -3.67152563e-01,\n",
       "       -3.28531822e-10, -4.13955326e-09, -7.51527503e-09, -8.31132151e-09,\n",
       "        3.73244883e-10, -2.14411917e-09])"
      ]
     },
     "execution_count": 230,
     "metadata": {},
     "output_type": "execute_result"
    }
   ],
   "source": [
    "i = 2\n",
    "residuals.slice([0, i], [min(n, p), i + 1]).level()"
   ]
  },
  {
   "cell_type": "code",
   "execution_count": 204,
   "id": "51bba1aa-303b-43a0-b002-c2e715f12650",
   "metadata": {},
   "outputs": [
    {
     "data": {
      "text/plain": [
       "array([1.27796932])"
      ]
     },
     "execution_count": 204,
     "metadata": {},
     "output_type": "execute_result"
    }
   ],
   "source": [
    "theta_tril.index(diag_index(0)).level()"
   ]
  },
  {
   "cell_type": "code",
   "execution_count": 188,
   "id": "b1b2daf5-84c3-473c-9464-47cdae868137",
   "metadata": {
    "tags": []
   },
   "outputs": [],
   "source": [
    "theta_level = theta.level().reshape(p,p)"
   ]
  },
  {
   "cell_type": "code",
   "execution_count": 168,
   "id": "5e1a5484-9164-4afe-8062-5dc724577259",
   "metadata": {},
   "outputs": [
    {
     "ename": "NameError",
     "evalue": "name 'non_zero_values' is not defined",
     "output_type": "error",
     "traceback": [
      "\u001b[0;31m---------------------------------------------------------------------------\u001b[0m",
      "\u001b[0;31mNameError\u001b[0m                                 Traceback (most recent call last)",
      "\u001b[0;32m/var/folders/xq/mwcnpp0j5ls5jjcyx7nsdwyh0000gn/T/ipykernel_16035/3025246074.py\u001b[0m in \u001b[0;36m<module>\u001b[0;34m\u001b[0m\n\u001b[0;32m----> 1\u001b[0;31m \u001b[0mtheta_level\u001b[0m\u001b[0;34m[\u001b[0m\u001b[0mnp\u001b[0m\u001b[0;34m.\u001b[0m\u001b[0mtril_indices\u001b[0m\u001b[0;34m(\u001b[0m\u001b[0;36m10\u001b[0m\u001b[0;34m,\u001b[0m \u001b[0mk\u001b[0m\u001b[0;34m=\u001b[0m\u001b[0;36m0\u001b[0m\u001b[0;34m)\u001b[0m\u001b[0;34m]\u001b[0m\u001b[0;34m[\u001b[0m\u001b[0mnon_zero_values\u001b[0m\u001b[0;34m]\u001b[0m\u001b[0;34m\u001b[0m\u001b[0;34m\u001b[0m\u001b[0m\n\u001b[0m",
      "\u001b[0;31mNameError\u001b[0m: name 'non_zero_values' is not defined"
     ]
    }
   ],
   "source": [
    "theta_level[np.tril_indices(10, k=0)][non_zero_values]"
   ]
  },
  {
   "cell_type": "code",
   "execution_count": 141,
   "id": "87a36f50-de93-4316-8cc7-2e0841540992",
   "metadata": {},
   "outputs": [
    {
     "data": {
      "text/plain": [
       "(0, 2)"
      ]
     },
     "execution_count": 141,
     "metadata": {},
     "output_type": "execute_result"
    }
   ],
   "source": [
    "diag_index(0), diag_index(1)"
   ]
  },
  {
   "cell_type": "code",
   "execution_count": 333,
   "id": "389c671c-acbe-45a6-818f-14e3aa0bd38d",
   "metadata": {},
   "outputs": [],
   "source": [
    "C = np.linalg.cholesky(Y.T @ Y)\n",
    "#expr = msk.Expr.mul(msk.Matrix.dense(C.T), theta)"
   ]
  },
  {
   "cell_type": "code",
   "execution_count": 340,
   "id": "0c447f88-26f7-49d5-aa94-79dac5a96daf",
   "metadata": {},
   "outputs": [
    {
     "data": {
      "text/plain": [
       "array([1.13047511, 1.15683719, 1.02598795, 1.06369954, 1.21383458,\n",
       "       1.19873972, 1.03865158, 1.09807568, 0.97997405, 1.09551389])"
      ]
     },
     "execution_count": 340,
     "metadata": {},
     "output_type": "execute_result"
    }
   ],
   "source": [
    "np.linalg.norm(C.T@theta_level, axis=0)"
   ]
  },
  {
   "cell_type": "code",
   "execution_count": 339,
   "id": "79f9dadd-547a-4d3a-b518-f71b9940a5b6",
   "metadata": {},
   "outputs": [
    {
     "data": {
      "text/plain": [
       "array([1.00000365, 0.91623328, 0.83573794, 0.88892605, 1.00000236,\n",
       "       0.86234282, 0.78800168, 0.76727179, 0.82111819, 0.91037464])"
      ]
     },
     "execution_count": 339,
     "metadata": {},
     "output_type": "execute_result"
    }
   ],
   "source": [
    "t.level()"
   ]
  },
  {
   "cell_type": "code",
   "execution_count": 179,
   "id": "e4c4702b-2316-4c65-ac95-5ae6a1fcee24",
   "metadata": {},
   "outputs": [
    {
     "data": {
      "text/plain": [
       "array([0.00000000e+00, 0.00000000e+00, 0.00000000e+00, 3.54749447e-17,\n",
       "       1.51526919e-01, 0.00000000e+00, 4.36286723e-16, 3.22464351e-18,\n",
       "       2.07586474e-01, 0.00000000e+00, 2.19048532e-17, 1.30048610e-18,\n",
       "       0.00000000e+00, 0.00000000e+00, 0.00000000e+00, 1.44531431e-16,\n",
       "       5.84762584e-19, 0.00000000e+00, 6.26383817e-18, 4.02292242e-17,\n",
       "       0.00000000e+00, 1.60479306e-17, 0.00000000e+00, 2.41976270e-17,\n",
       "       1.95445148e-16, 1.08649526e-16, 2.36528320e-01, 0.00000000e+00,\n",
       "       2.15098785e-21, 1.40734664e-16, 9.55772050e-17, 4.90214333e-16,\n",
       "       2.76687010e-17, 1.26187306e-16, 2.02835157e-01, 0.00000000e+00,\n",
       "       0.00000000e+00, 0.00000000e+00, 1.30006623e-18, 0.00000000e+00,\n",
       "       0.00000000e+00, 5.44528629e-17, 0.00000000e+00, 2.91376974e-01,\n",
       "       0.00000000e+00, 0.00000000e+00, 3.60086567e-17, 9.37409160e-18,\n",
       "       1.67498209e-16, 0.00000000e+00, 4.10731330e-16, 0.00000000e+00,\n",
       "       0.00000000e+00, 1.20168779e-01, 0.00000000e+00])"
      ]
     },
     "execution_count": 179,
     "metadata": {},
     "output_type": "execute_result"
    }
   ],
   "source": [
    "s_values = theta_level[np.tril_indices(p, k=0)]**2\n",
    "s_values"
   ]
  },
  {
   "cell_type": "code",
   "execution_count": 183,
   "id": "7faee223-e5bf-4f9d-8c04-b620e598c6b7",
   "metadata": {},
   "outputs": [
    {
     "data": {
      "text/plain": [
       "0.0"
      ]
     },
     "execution_count": 183,
     "metadata": {},
     "output_type": "execute_result"
    }
   ],
   "source": [
    "np.min(s.level() - s_values)"
   ]
  },
  {
   "cell_type": "code",
   "execution_count": 170,
   "id": "14343d7c-7fe6-4906-bcbe-797b47d2980a",
   "metadata": {},
   "outputs": [
    {
     "data": {
      "text/plain": [
       "array([ 1.27796932e+00,  0.00000000e+00,  1.46062398e+00, -5.95608468e-09,\n",
       "       -3.89264587e-01,  1.25954706e+00,  2.08874777e-08, -1.79572924e-09,\n",
       "       -4.55616586e-01,  1.27283560e+00, -4.68026209e-09, -1.14038858e-09,\n",
       "        0.00000000e+00,  0.00000000e+00,  1.47339091e+00, -1.20221225e-08,\n",
       "        7.64697708e-10,  0.00000000e+00,  2.50276610e-09, -6.34265120e-09,\n",
       "        1.66636388e+00, -4.00598684e-09,  0.00000000e+00, -4.91910835e-09,\n",
       "        1.39801698e-08, -1.04235083e-08, -4.86341773e-01,  1.36902895e+00,\n",
       "       -4.63787435e-11,  1.18631642e-08, -9.77635950e-09, -2.21407844e-08,\n",
       "       -5.26010466e-09, -1.12333123e-08, -4.50372242e-01,  1.57150337e+00,\n",
       "        0.00000000e+00,  0.00000000e+00,  1.14020447e-09,  0.00000000e+00,\n",
       "        0.00000000e+00,  7.37921831e-09,  0.00000000e+00, -5.39793455e-01,\n",
       "        1.16956260e+00,  0.00000000e+00,  6.00072135e-09, -3.06171383e-09,\n",
       "       -1.29421099e-08,  0.00000000e+00,  2.02665076e-08,  0.00000000e+00,\n",
       "        0.00000000e+00, -3.46653688e-01,  1.31830417e+00])"
      ]
     },
     "execution_count": 170,
     "metadata": {},
     "output_type": "execute_result"
    }
   ],
   "source": [
    "theta_level[np.tril_indices(10, k=0)]"
   ]
  },
  {
   "cell_type": "code",
   "execution_count": 135,
   "id": "941c3f2c-4d76-4162-8ce3-8d74695a4f84",
   "metadata": {},
   "outputs": [
    {
     "ename": "SyntaxError",
     "evalue": "EOF while scanning triple-quoted string literal (2153480393.py, line 1)",
     "output_type": "error",
     "traceback": [
      "\u001b[0;36m  File \u001b[0;32m\"/var/folders/xq/mwcnpp0j5ls5jjcyx7nsdwyh0000gn/T/ipykernel_16035/2153480393.py\"\u001b[0;36m, line \u001b[0;32m1\u001b[0m\n\u001b[0;31m    \"\"\"\u001b[0m\n\u001b[0m       ^\u001b[0m\n\u001b[0;31mSyntaxError\u001b[0m\u001b[0;31m:\u001b[0m EOF while scanning triple-quoted string literal\n"
     ]
    }
   ],
   "source": [
    "def mosek_levels_from_theta(theta, Y, int_tol: float = 1e-4):\n",
    "    \"\"\"\n",
    "    \n",
    "    Parameters\n",
    "    ----------\n",
    "    theta : (p, p) symmetric matrix\n",
    "        The lower triangular will be selected automatically\n",
    "        \n",
    "    Returns\n",
    "    -------\n",
    "    theta: (p, p) array\n",
    "        returns `theta` as passed\n",
    "    theta_tril: (p*(p+1)//2, ) array\n",
    "        Lower triangular section of theta including the main diagonal\n",
    "    z_values: (p*(p+1)//2, ) array\n",
    "        Indicator matrix of lower triangular section of theta including the main diagonal where:\n",
    "            Any non zero item of the matrix is located \n",
    "                AND\n",
    "            Is not located on the main diagonal. \n",
    "    s_values: (p*(p+1)//2, ) array\n",
    "        Derived matrix of triangular section of theta including the main diagonal where the value is:\n",
    "            theta[i, j]**2 if i != j else 0!\n",
    "    t_values: (p, ) array\n",
    "        t_values[i] <- 1/theta[i,i]||Ytheta[:, i]||^2\n",
    "\n",
    "    lg: (p, ) array\n",
    "        natural log of the main diagonal\n",
    "    residuals:\n",
    "    \"\"\"\n",
    "    n, p = Y.shape\n",
    "    \n",
    "    assert n > p\n",
    "    \n",
    "    assert theta.shape == (p, p), \"Initial Theta must be passed as a (p by p matrix)!\"\n",
    "    np.testing.asset_approx_equal(theta, theta.T)\n",
    "    \n",
    "    tril_indicies = np.tril_indices(p, k=0) # Used to select the lower triangular values including the main diagonal\n",
    "    \n",
    "    theta_level = theta[tril_indicies]\n",
    "    # Since mosek keeps main diagonal in the l0 and l2 variables. \n",
    "    # We create a copy and set diagonal to zero to make l0, and l2 calculations easier!\n",
    "    theta_level_copy = np.copy(theta_level) \n",
    "    \n",
    "    np.fill_diagonal(theta_level_copy, 0)\n",
    "    \n",
    "    non_zero_values = np.abs(theta_level) > int_tol\n",
    "    \n",
    "    theta_tril = theta[tril_indicies]\n",
    "    theta = theta\n",
    "    z_values = np.asarray(non_zero_values, dtype=float)[tril_indicies]\n",
    "    s_values = theta_level_copy[tril_indicies]**2\n",
    "    \n",
    "    t_values = np.linalg.norm(Y@theta)**2/np.diag(theta)\n",
    "    \n",
    "    lg_values = np.log(np.diag(theta))\n",
    "    \n",
    "    YtY = np.linalg.cholesky(Y.T @ Y)\n",
    "    residuals = YtY@theta\n",
    "    \n",
    "    return theta, theta_tril, z_values, s_values, lg_values, residuals\n",
    "    \n",
    "    "
   ]
  },
  {
   "cell_type": "code",
   "execution_count": 199,
   "id": "441b21e2-d75e-469f-84be-06919929df30",
   "metadata": {},
   "outputs": [
    {
     "data": {
      "text/plain": [
       "array([1.00000365, 0.91623328, 0.83573794, 0.88892605, 1.00000236,\n",
       "       0.86234282, 0.78800168, 0.76727179, 0.82111819, 0.91037464])"
      ]
     },
     "execution_count": 199,
     "metadata": {},
     "output_type": "execute_result"
    }
   ],
   "source": [
    "t.level()"
   ]
  },
  {
   "cell_type": "code",
   "execution_count": 191,
   "id": "18435aeb-df15-462a-a225-9d7ca58edbf9",
   "metadata": {},
   "outputs": [
    {
     "data": {
      "text/plain": [
       "array([1.27796932, 1.46062398, 1.25954706, 1.2728356 , 1.47339091,\n",
       "       1.66636388, 1.36902895, 1.57150337, 1.1695626 , 1.31830417])"
      ]
     },
     "execution_count": 191,
     "metadata": {},
     "output_type": "execute_result"
    }
   ],
   "source": [
    "np.diag(theta_level)"
   ]
  },
  {
   "cell_type": "code",
   "execution_count": 28,
   "id": "b80e9441-c151-4ced-a424-a29a233c6c6b",
   "metadata": {},
   "outputs": [],
   "source": [
    "theta_tril = results.theta_hat[np.tril_indices(p)]"
   ]
  },
  {
   "cell_type": "code",
   "execution_count": 37,
   "id": "8e6707eb-73e6-4102-9647-3ff9a883b6bd",
   "metadata": {},
   "outputs": [],
   "source": [
    "results2 = MIO_mosek(Y, l0, l2, M, initial_theta_tril=theta_tril)"
   ]
  },
  {
   "cell_type": "code",
   "execution_count": 38,
   "id": "24899bd7-67cf-4ca2-bec7-6adec39a278f",
   "metadata": {},
   "outputs": [
    {
     "data": {
      "text/plain": [
       "4.783151411999938"
      ]
     },
     "execution_count": 38,
     "metadata": {},
     "output_type": "execute_result"
    }
   ],
   "source": [
    "results2.elapsed"
   ]
  },
  {
   "cell_type": "code",
   "execution_count": 360,
   "id": "923221fb-3179-4da3-939c-a57fd0073646",
   "metadata": {},
   "outputs": [
    {
     "data": {
      "text/plain": [
       "array([0.88458705, 0.79201575, 0.81456896, 0.8356928 , 0.82383743,\n",
       "       0.71937452, 0.75867759, 0.69874218, 0.8378979 , 0.83100237])"
      ]
     },
     "execution_count": 360,
     "metadata": {},
     "output_type": "execute_result"
    }
   ],
   "source": [
    "np.linalg.norm(Y@theta_level, axis=0)/np.diag(theta_level) "
   ]
  },
  {
   "cell_type": "code",
   "execution_count": 361,
   "id": "9a691889-910b-40c5-8abd-e71a720d5a65",
   "metadata": {},
   "outputs": [
    {
     "data": {
      "text/plain": [
       "array([1.00000365, 0.91623328, 0.83573794, 0.88892605, 1.00000236,\n",
       "       0.86234282, 0.78800168, 0.76727179, 0.82111819, 0.91037464])"
      ]
     },
     "execution_count": 361,
     "metadata": {},
     "output_type": "execute_result"
    }
   ],
   "source": [
    "t.level()"
   ]
  },
  {
   "cell_type": "code",
   "execution_count": 281,
   "id": "5d72a63c-314a-4ff3-a9a4-e698ce0b0f28",
   "metadata": {},
   "outputs": [
    {
     "data": {
      "text/plain": [
       "array([0.24527235, 0.37886373, 0.23075218, 0.24124717, 0.38756649,\n",
       "       0.51064394, 0.31410169, 0.45203272, 0.15662984, 0.27634619])"
      ]
     },
     "execution_count": 281,
     "metadata": {},
     "output_type": "execute_result"
    }
   ],
   "source": [
    "lg.level()"
   ]
  },
  {
   "cell_type": "code",
   "execution_count": 323,
   "id": "59303b8e-733e-4b5e-a80e-f007a0ea48ba",
   "metadata": {},
   "outputs": [
    {
     "data": {
      "text/plain": [
       "array([0.24527235, 0.37886372, 0.23075218, 0.24124717, 0.38756649,\n",
       "       0.51064394, 0.31410169, 0.45203272, 0.15662984, 0.27634619])"
      ]
     },
     "execution_count": 323,
     "metadata": {},
     "output_type": "execute_result"
    }
   ],
   "source": [
    "np.log(np.diag(theta_level))"
   ]
  },
  {
   "cell_type": "code",
   "execution_count": 341,
   "id": "96f9c1c4-c2d2-4856-9e03-def0f92078b8",
   "metadata": {},
   "outputs": [
    {
     "name": "stderr",
     "output_type": "stream",
     "text": [
      "/var/folders/xq/mwcnpp0j5ls5jjcyx7nsdwyh0000gn/T/ipykernel_16035/14622586.py:1: RuntimeWarning: invalid value encountered in sqrt\n",
      "  np.sqrt(4*(np.diag(np.linalg.cholesky(theta_level))**2 - np.square(residual_level).sum(axis=1)))\n"
     ]
    },
    {
     "data": {
      "text/plain": [
       "array([       nan, 0.98964934,        nan,        nan, 0.6016303 ,\n",
       "       1.32112065, 0.77238792, 1.04301566, 1.03103298, 1.06242524])"
      ]
     },
     "execution_count": 341,
     "metadata": {},
     "output_type": "execute_result"
    }
   ],
   "source": [
    "np.sqrt(4*(np.diag(np.linalg.cholesky(theta_level))**2 - np.square(residual_level).sum(axis=1)))"
   ]
  },
  {
   "cell_type": "code",
   "execution_count": 310,
   "id": "035891d4-5c41-4de0-934f-60cba621670f",
   "metadata": {},
   "outputs": [
    {
     "data": {
      "text/plain": [
       "1.4606239756368669"
      ]
     },
     "execution_count": 310,
     "metadata": {},
     "output_type": "execute_result"
    }
   ],
   "source": [
    "theta_level[1, 1]"
   ]
  },
  {
   "cell_type": "code",
   "execution_count": 313,
   "id": "914500b1-556c-4035-8c30-cba35cb33dca",
   "metadata": {},
   "outputs": [
    {
     "data": {
      "text/plain": [
       "1.6036136499595322"
      ]
     },
     "execution_count": 313,
     "metadata": {},
     "output_type": "execute_result"
    }
   ],
   "source": [
    "sum(np.square(residual_level[0, :]))"
   ]
  },
  {
   "cell_type": "code",
   "execution_count": 289,
   "id": "f8b30cde-3dff-488e-800b-64a9f05d21e7",
   "metadata": {},
   "outputs": [
    {
     "data": {
      "text/plain": [
       "(10, 10)"
      ]
     },
     "execution_count": 289,
     "metadata": {},
     "output_type": "execute_result"
    }
   ],
   "source": [
    "residual_level.shape"
   ]
  },
  {
   "cell_type": "code",
   "execution_count": 318,
   "id": "d2a2be84-4113-4a11-a8ed-4c8ccafba949",
   "metadata": {},
   "outputs": [
    {
     "data": {
      "text/plain": [
       "array([1.00000365, 0.91623328, 0.83573794, 0.88892605, 1.00000236,\n",
       "       0.86234282, 0.78800168, 0.76727179, 0.82111819, 0.91037464])"
      ]
     },
     "execution_count": 318,
     "metadata": {},
     "output_type": "execute_result"
    }
   ],
   "source": [
    "t.level()"
   ]
  },
  {
   "cell_type": "code",
   "execution_count": 327,
   "id": "b8622b4d-2a4e-4fb2-83d7-0bcc3d30a3e8",
   "metadata": {},
   "outputs": [
    {
     "data": {
      "text/plain": [
       "array([1.27796932, 1.46062398, 1.25954706, 1.2728356 , 1.47339091,\n",
       "       1.66636388, 1.36902895, 1.57150337, 1.1695626 , 1.31830417])"
      ]
     },
     "execution_count": 327,
     "metadata": {},
     "output_type": "execute_result"
    }
   ],
   "source": [
    "np.diag(theta_level)"
   ]
  },
  {
   "cell_type": "code",
   "execution_count": 408,
   "id": "0c64a19e-3248-4f79-bb55-0cf2396fe0ff",
   "metadata": {},
   "outputs": [],
   "source": [
    "\n",
    "possible_active_set = np.where(np.abs(np.triu(theta_level, k=1)) > 0)\n",
    "\n",
    "possible_active_set = np.asarray(possible_active_set).T\n",
    "if possible_active_set.shape[0] > 1:\n",
    "    idx = np.sort(np.random.choice(np.arange(31),\n",
    "                                       size=np.random.randint(1, 31),\n",
    "                                       replace=False))\n",
    "else:\n",
    "    idx = 0\n",
    "\n",
    "initial_super_active_set = possible_active_set[[0], :]"
   ]
  },
  {
   "cell_type": "code",
   "execution_count": 409,
   "id": "2aef928c-c051-4e2a-b977-e58a11d771f2",
   "metadata": {},
   "outputs": [
    {
     "data": {
      "text/plain": [
       "62"
      ]
     },
     "execution_count": 409,
     "metadata": {},
     "output_type": "execute_result"
    }
   ],
   "source": [
    "possible_active_set.size"
   ]
  },
  {
   "cell_type": "code",
   "execution_count": 410,
   "id": "88e1677e-d7c4-4af2-a72c-59e539d444f8",
   "metadata": {},
   "outputs": [
    {
     "data": {
      "text/plain": [
       "array([ 0, 21, 25, 29])"
      ]
     },
     "execution_count": 410,
     "metadata": {},
     "output_type": "execute_result"
    }
   ],
   "source": [
    "idx"
   ]
  },
  {
   "cell_type": "code",
   "execution_count": 411,
   "id": "c6ca6239-3d66-4beb-8979-e214818d9caf",
   "metadata": {},
   "outputs": [
    {
     "name": "stdout",
     "output_type": "stream",
     "text": [
      "[0 2]\n"
     ]
    }
   ],
   "source": [
    "for row in initial_super_active_set:\n",
    "    print(row)"
   ]
  },
  {
   "cell_type": "code",
   "execution_count": 412,
   "id": "b7fdb341-43f4-4647-a09c-8e54005bf1db",
   "metadata": {},
   "outputs": [
    {
     "data": {
      "text/plain": [
       "array([[0, 2]])"
      ]
     },
     "execution_count": 412,
     "metadata": {},
     "output_type": "execute_result"
    }
   ],
   "source": [
    "initial_super_active_set"
   ]
  },
  {
   "cell_type": "code",
   "execution_count": null,
   "id": "925681f6-db80-4058-801e-8179f7fcd524",
   "metadata": {},
   "outputs": [],
   "source": []
  }
 ],
 "metadata": {
  "kernelspec": {
   "display_name": "Python 3 (ipykernel)",
   "language": "python",
   "name": "python3"
  },
  "language_info": {
   "codemirror_mode": {
    "name": "ipython",
    "version": 3
   },
   "file_extension": ".py",
   "mimetype": "text/x-python",
   "name": "python",
   "nbconvert_exporter": "python",
   "pygments_lexer": "ipython3",
   "version": "3.9.7"
  }
 },
 "nbformat": 4,
 "nbformat_minor": 5
}
