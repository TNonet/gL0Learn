{
 "cells": [
  {
   "cell_type": "code",
   "execution_count": 1,
   "metadata": {
    "collapsed": false,
    "jupyter": {
     "outputs_hidden": false
    },
    "pycharm": {
     "name": "#%%\n"
    }
   },
   "outputs": [],
   "source": [
    "import numpy as np\n",
    "from gl0learn import fit, opt, synthetic"
   ]
  },
  {
   "cell_type": "code",
   "execution_count": 2,
   "metadata": {
    "collapsed": false,
    "jupyter": {
     "outputs_hidden": false
    },
    "pycharm": {
     "name": "#%%\n"
    }
   },
   "outputs": [],
   "source": [
    "def _sample_data(n: int = 1000, seed: int = 0):\n",
    "    \"\"\"\n",
    "\n",
    "\n",
    "    Example Data!\n",
    "\n",
    "    >>>from tabulate import tabulate\n",
    "    ...import numpy as np\n",
    "    ...coords = np.array([str(t).replace('(','').replace(')','') for t in zip(*np.nonzero(np.ones([5,5])))]).reshape(5,5)\n",
    "    ...table = tabulate(coords, tablefmt=\"fancy_grid\")\n",
    "    ...print(table)\n",
    "    ╒══════╤══════╤══════╤══════╤══════╕\n",
    "    │ 0, 0 │ 0, 1 │ 0, 2 │ 0, 3 │ 0, 4 │\n",
    "    ├──────┼──────┼──────┼──────┼──────┤\n",
    "    │ 1, 0 │ 1, 1 │ 1, 2 │ 1, 3 │ 1, 4 │\n",
    "    ├──────┼──────┼──────┼──────┼──────┤\n",
    "    │ 2, 0 │ 2, 1 │ 2, 2 │ 2, 3 │ 2, 4 │\n",
    "    ├──────┼──────┼──────┼──────┼──────┤\n",
    "    │ 3, 0 │ 3, 1 │ 3, 2 │ 3, 3 │ 3, 4 │\n",
    "    ├──────┼──────┼──────┼──────┼──────┤\n",
    "    │ 4, 0 │ 4, 1 │ 4, 2 │ 4, 3 │ 4, 4 │\n",
    "    ╘══════╧══════╧══════╧══════╧══════╛\n",
    "\n",
    "    Suppose:\n",
    "        Coordinates (0,1) and (1,2) are the initial support\n",
    "        Coordinates (0,2) and (1,3) are also in the active set\n",
    "        Coordinates (0,3) and (1,4) are also in the super active set\n",
    "\n",
    "    Supplying `theta_truth` as a upper triangular diagonally dominate matrix, we can set which of `theta_hat` should be learned first.\n",
    "\n",
    "    This allows us to check if fit is behaving as expected!\n",
    "    \"\"\"\n",
    "    N = 5\n",
    "    mu = np.zeros(N)\n",
    "\n",
    "    theta_truth_tril = (1/8)*np.asarray([[8, 0, 0, 0, 1],\n",
    "                                         [0, 8, 4, 2, 3],\n",
    "                                         [0, 0, 8, 6, 5],\n",
    "                                         [0, 0, 0, 8, 7],\n",
    "                                         [0, 0, 0, 0, 8]])\n",
    "\n",
    "    theta_truth = (theta_truth_tril + theta_truth_tril.T)/2\n",
    "\n",
    "    rng = np.random.default_rng(seed)\n",
    "    x = rng.multivariate_normal(mu, cov=np.linalg.inv(theta_truth), size=n)\n",
    "\n",
    "    return theta_truth, x"
   ]
  },
  {
   "cell_type": "code",
   "execution_count": 3,
   "metadata": {
    "collapsed": false,
    "jupyter": {
     "outputs_hidden": false
    },
    "pycharm": {
     "name": "#%%\n"
    }
   },
   "outputs": [],
   "source": [
    "theta_truth, x = _sample_data()"
   ]
  },
  {
   "cell_type": "code",
   "execution_count": 4,
   "metadata": {
    "collapsed": false,
    "jupyter": {
     "outputs_hidden": false
    },
    "pycharm": {
     "name": "#%%\n"
    }
   },
   "outputs": [
    {
     "data": {
      "text/plain": [
       "array([[1.    , 0.    , 0.    , 0.    , 0.0625],\n",
       "       [0.    , 1.    , 0.25  , 0.125 , 0.1875],\n",
       "       [0.    , 0.25  , 1.    , 0.375 , 0.3125],\n",
       "       [0.    , 0.125 , 0.375 , 1.    , 0.4375],\n",
       "       [0.0625, 0.1875, 0.3125, 0.4375, 1.    ]])"
      ]
     },
     "execution_count": 4,
     "metadata": {},
     "output_type": "execute_result"
    }
   ],
   "source": [
    "theta_truth"
   ]
  },
  {
   "cell_type": "code",
   "execution_count": 5,
   "metadata": {
    "collapsed": false,
    "jupyter": {
     "outputs_hidden": false
    },
    "pycharm": {
     "name": "#%%\n"
    }
   },
   "outputs": [],
   "source": [
    "_, _, _,_,Y,_ = synthetic.preprocess(x, assume_centered = False, cholesky=True)\n",
    "default_theta_init = np.eye(5)\n",
    "M = np.max(np.abs(theta_truth*(1-default_theta_init)))"
   ]
  },
  {
   "cell_type": "markdown",
   "metadata": {
    "pycharm": {
     "name": "#%% md\n"
    }
   },
   "source": [
    "# Fit with mosek to find optimal soultion!"
   ]
  },
  {
   "cell_type": "code",
   "execution_count": 6,
   "metadata": {
    "collapsed": false,
    "jupyter": {
     "outputs_hidden": false
    },
    "pycharm": {
     "name": "#%%\n"
    }
   },
   "outputs": [],
   "source": [
    "fit_mosek = opt.MIO_mosek(Y, l0=0.03, l2=0.1, M=M)"
   ]
  },
  {
   "cell_type": "markdown",
   "metadata": {
    "pycharm": {
     "name": "#%% md\n"
    }
   },
   "source": [
    "Since mosek is an Mixed Integer Optimization tool, it often returns values very close to integers, but not exactly."
   ]
  },
  {
   "cell_type": "code",
   "execution_count": 7,
   "metadata": {
    "collapsed": false,
    "jupyter": {
     "outputs_hidden": false
    },
    "pycharm": {
     "name": "#%%\n"
    }
   },
   "outputs": [
    {
     "data": {
      "text/plain": [
       "array([[ 9.78421211e-01, -1.61876031e-07,  0.00000000e+00,\n",
       "         0.00000000e+00,  0.00000000e+00],\n",
       "       [-1.61876031e-07,  1.06405858e+00,  2.64101050e-01,\n",
       "         1.17383104e-01,  1.47151643e-01],\n",
       "       [ 0.00000000e+00,  2.64101050e-01,  9.59100877e-01,\n",
       "         2.97619745e-01,  2.86025672e-01],\n",
       "       [ 0.00000000e+00,  1.17383104e-01,  2.97619745e-01,\n",
       "         9.37329207e-01,  4.37499979e-01],\n",
       "       [ 0.00000000e+00,  1.47151643e-01,  2.86025672e-01,\n",
       "         4.37499979e-01,  1.01872561e+00]])"
      ]
     },
     "execution_count": 7,
     "metadata": {},
     "output_type": "execute_result"
    }
   ],
   "source": [
    "fit_mosek.theta_hat"
   ]
  },
  {
   "cell_type": "code",
   "execution_count": 8,
   "metadata": {
    "collapsed": false,
    "jupyter": {
     "outputs_hidden": false
    },
    "pycharm": {
     "name": "#%%\n"
    }
   },
   "outputs": [],
   "source": [
    "fit_mosek.theta_hat[np.abs(fit_mosek.theta_hat) < 1e-6] = 0"
   ]
  },
  {
   "cell_type": "code",
   "execution_count": 9,
   "metadata": {
    "collapsed": false,
    "jupyter": {
     "outputs_hidden": false
    },
    "pycharm": {
     "name": "#%%\n"
    }
   },
   "outputs": [
    {
     "data": {
      "text/plain": [
       "array([[0.97842121, 0.        , 0.        , 0.        , 0.        ],\n",
       "       [0.        , 1.06405858, 0.26410105, 0.1173831 , 0.14715164],\n",
       "       [0.        , 0.26410105, 0.95910088, 0.29761974, 0.28602567],\n",
       "       [0.        , 0.1173831 , 0.29761974, 0.93732921, 0.43749998],\n",
       "       [0.        , 0.14715164, 0.28602567, 0.43749998, 1.01872561]])"
      ]
     },
     "execution_count": 9,
     "metadata": {},
     "output_type": "execute_result"
    }
   ],
   "source": [
    "fit_mosek.theta_hat"
   ]
  },
  {
   "cell_type": "code",
   "execution_count": 93,
   "metadata": {},
   "outputs": [
    {
     "data": {
      "text/plain": [
       "array([15, 16,  1,  9, 10, 20, 11, 21,  8,  7, 12, 23,  5, 13, 14,  4,  3,\n",
       "       17, 18, 19,  2, 22,  0,  6, 24])"
      ]
     },
     "execution_count": 93,
     "metadata": {},
     "output_type": "execute_result"
    }
   ],
   "source": [
    "np.matrix.argpartition(fit_mosek.theta_hat, 3, axis=None)"
   ]
  },
  {
   "cell_type": "code",
   "execution_count": 174,
   "metadata": {},
   "outputs": [],
   "source": [
    "def top_n_triu_indicies(x, n):\n",
    "    p = x.shape[1]\n",
    "    x = np.copy(x)\n",
    "    x[np.tril_indices(p, k=0)] = 0\n",
    "    value = np.sort(x.flatten())[::-1][n-1]\n",
    "    \n",
    "    return np.where(x >= value)"
   ]
  },
  {
   "cell_type": "code",
   "execution_count": 175,
   "metadata": {},
   "outputs": [],
   "source": [
    "test[np.tril_indices(5, k=0)] = 0"
   ]
  },
  {
   "cell_type": "code",
   "execution_count": 176,
   "metadata": {},
   "outputs": [
    {
     "data": {
      "text/plain": [
       "array([[0.97842551, 0.        , 0.        , 0.        , 0.        ],\n",
       "       [0.        , 0.98844736, 0.        , 0.        , 0.        ],\n",
       "       [0.        , 0.        , 0.90512582, 0.28451871, 0.26571506],\n",
       "       [0.        , 0.        , 0.28451871, 0.9402875 , 0.43749997],\n",
       "       [0.        , 0.        , 0.26571506, 0.43749997, 1.01442219]])"
      ]
     },
     "execution_count": 176,
     "metadata": {},
     "output_type": "execute_result"
    }
   ],
   "source": [
    "fit_mosek.theta_hat"
   ]
  },
  {
   "cell_type": "code",
   "execution_count": 180,
   "metadata": {},
   "outputs": [
    {
     "data": {
      "text/plain": [
       "<function numpy.testing._private.utils.assert_array_equal(x, y, err_msg='', verbose=True)>"
      ]
     },
     "execution_count": 180,
     "metadata": {},
     "output_type": "execute_result"
    }
   ],
   "source": [
    "np.testing.assert_array_equal"
   ]
  },
  {
   "cell_type": "code",
   "execution_count": 178,
   "metadata": {},
   "outputs": [
    {
     "name": "stdout",
     "output_type": "stream",
     "text": [
      "[[0.         0.         0.         0.         0.        ]\n",
      " [0.         0.         0.         0.         0.        ]\n",
      " [0.         0.         0.         0.28451871 0.26571506]\n",
      " [0.         0.         0.         0.         0.43749997]\n",
      " [0.         0.         0.         0.         0.        ]]\n",
      "[0.43749997 0.28451871 0.26571506 0.         0.         0.\n",
      " 0.         0.         0.         0.         0.         0.\n",
      " 0.         0.         0.         0.         0.         0.\n",
      " 0.         0.         0.         0.         0.         0.\n",
      " 0.        ]\n"
     ]
    },
    {
     "ename": "TypeError",
     "evalue": "unhashable type: 'numpy.ndarray'",
     "output_type": "error",
     "traceback": [
      "\u001b[0;31m---------------------------------------------------------------------------\u001b[0m",
      "\u001b[0;31mTypeError\u001b[0m                                 Traceback (most recent call last)",
      "\u001b[0;32m/var/folders/xq/mwcnpp0j5ls5jjcyx7nsdwyh0000gn/T/ipykernel_75578/4256491567.py\u001b[0m in \u001b[0;36m<module>\u001b[0;34m\u001b[0m\n\u001b[0;32m----> 1\u001b[0;31m \u001b[0mset\u001b[0m\u001b[0;34m(\u001b[0m\u001b[0mtop_n_triu_indicies\u001b[0m\u001b[0;34m(\u001b[0m\u001b[0mfit_mosek\u001b[0m\u001b[0;34m.\u001b[0m\u001b[0mtheta_hat\u001b[0m\u001b[0;34m,\u001b[0m \u001b[0;36m3\u001b[0m\u001b[0;34m)\u001b[0m\u001b[0;34m)\u001b[0m\u001b[0;34m\u001b[0m\u001b[0;34m\u001b[0m\u001b[0m\n\u001b[0m",
      "\u001b[0;31mTypeError\u001b[0m: unhashable type: 'numpy.ndarray'"
     ]
    }
   ],
   "source": [
    "top_n_triu_indicies(fit_mosek.theta_hat, 3)"
   ]
  },
  {
   "cell_type": "markdown",
   "metadata": {
    "pycharm": {
     "name": "#%% md\n"
    }
   },
   "source": [
    "# Finding a similar solution with gL0Learn"
   ]
  },
  {
   "cell_type": "code",
   "execution_count": 10,
   "metadata": {
    "collapsed": false,
    "jupyter": {
     "outputs_hidden": false
    },
    "pycharm": {
     "name": "#%%\n"
    }
   },
   "outputs": [
    {
     "name": "stdout",
     "output_type": "stream",
     "text": [
      "gL0LearnFit 1\n",
      "gL0LearnFit 2\n",
      "gL0LearnFit 2\n",
      "fit 1\n",
      "fit loop0\n",
      "current_iter: 1 cur_objective = 5.16347\n",
      "fit loop1\n",
      "current_iter: 2 cur_objective = 5.14856\n",
      "fit loop2\n",
      "current_iter: 3 cur_objective = 5.14692\n",
      "fit loop3\n",
      "current_iter: 4 cur_objective = 5.14662\n",
      "fit loop4\n",
      "current_iter: 5 cur_objective = 5.14367\n",
      "fit loop5\n",
      "current_iter: 6 cur_objective = 5.14326\n",
      "fit loop6\n",
      "current_iter: 7 cur_objective = 5.14319\n",
      "fit loop7\n",
      "current_iter: 8 cur_objective = 5.14317\n",
      "fit loop8\n",
      "current_iter: 9 cur_objective = 5.14317\n"
     ]
    },
    {
     "data": {
      "text/plain": [
       "array([[ 0.97842588, -0.        ,  0.        , -0.        ,  0.        ],\n",
       "       [-0.        ,  1.0644279 ,  0.26460968,  0.11852766,  0.14812423],\n",
       "       [ 0.        ,  0.26460968,  0.96123445,  0.30073056,  0.28921988],\n",
       "       [-0.        ,  0.11852766,  0.30073056,  0.94812956,  0.45365061],\n",
       "       [ 0.        ,  0.14812423,  0.28921988,  0.45365061,  1.03049072]])"
      ]
     },
     "execution_count": 10,
     "metadata": {},
     "output_type": "execute_result"
    }
   ],
   "source": [
    "# TODO: Why are we seeing this slight bias on CD l0?\n",
    "fit_cd = fit(Y, l0=0.0285, l2=0.1, scale_x=False, max_active_set_size=10, initial_active_set=0., super_active_set=0.)\n",
    "fit_cd.theta"
   ]
  },
  {
   "cell_type": "markdown",
   "metadata": {
    "pycharm": {
     "name": "#%% md\n"
    }
   },
   "source": [
    "In this case, we see very similar solutions between MOSEK and gL0Learn. However, with certain parameters this is mnot always the case.\n",
    "For example, when we are looking for a much sparser solution. We start seeing peculiarities with gL0Learn's CD iteraiton order."
   ]
  },
  {
   "cell_type": "markdown",
   "metadata": {
    "pycharm": {
     "name": "#%% md\n"
    }
   },
   "source": [
    "Using `scipy`'s biscet method, we can quickly find solutions with close to a specified number of non-zeros!"
   ]
  },
  {
   "cell_type": "code",
   "execution_count": 11,
   "metadata": {
    "collapsed": false,
    "jupyter": {
     "outputs_hidden": false
    },
    "pycharm": {
     "name": "#%%\n"
    }
   },
   "outputs": [],
   "source": [
    "from scipy.optimize import bisect"
   ]
  },
  {
   "cell_type": "code",
   "execution_count": 12,
   "metadata": {
    "collapsed": false,
    "jupyter": {
     "outputs_hidden": false
    },
    "pycharm": {
     "name": "#%%\n"
    }
   },
   "outputs": [],
   "source": [
    "def make_bisect_paritial_func(desired_nnz: int, Y: np.ndarray, fixed_l2: float, M, tol=1e-6, verbose: bool = True):\n",
    "\n",
    "    def inner_bisect(l0):\n",
    "        fit_mosek = opt.MIO_mosek(Y, l0=l0, l2=fixed_l2, M=M)\n",
    "        theta_hat = fit_mosek.theta_hat\n",
    "        theta_hat[np.abs(fit_mosek.theta_hat) < tol] = 0\n",
    "        np.fill_diagonal(theta_hat, 0)\n",
    "\n",
    "        nnz = np.count_nonzero(theta_hat)//2\n",
    "        cost = desired_nnz - nnz\n",
    "        if verbose:\n",
    "            print(f\"MOSEK found solution with {nnz} non-zeros with parameters:\")\n",
    "            print(f\"\\t l0 = {l0})\")\n",
    "            print(f\"\\t cost = {cost}\")\n",
    "        return cost\n",
    "\n",
    "    return inner_bisect\n",
    "\n"
   ]
  },
  {
   "cell_type": "code",
   "execution_count": 13,
   "metadata": {
    "collapsed": false,
    "jupyter": {
     "outputs_hidden": false
    },
    "pycharm": {
     "name": "#%%\n"
    }
   },
   "outputs": [
    {
     "name": "stdout",
     "output_type": "stream",
     "text": [
      "MOSEK found solution with 10 non-zeros with parameters:\n",
      "\t l0 = 0.0)\n",
      "\t cost = -7\n",
      "MOSEK found solution with 0 non-zeros with parameters:\n",
      "\t l0 = 10.0)\n",
      "\t cost = 3\n",
      "MOSEK found solution with 0 non-zeros with parameters:\n",
      "\t l0 = 5.0)\n",
      "\t cost = 3\n",
      "MOSEK found solution with 0 non-zeros with parameters:\n",
      "\t l0 = 2.5)\n",
      "\t cost = 3\n",
      "MOSEK found solution with 0 non-zeros with parameters:\n",
      "\t l0 = 1.25)\n",
      "\t cost = 3\n",
      "MOSEK found solution with 0 non-zeros with parameters:\n",
      "\t l0 = 0.625)\n",
      "\t cost = 3\n",
      "MOSEK found solution with 1 non-zeros with parameters:\n",
      "\t l0 = 0.3125)\n",
      "\t cost = 2\n",
      "MOSEK found solution with 1 non-zeros with parameters:\n",
      "\t l0 = 0.15625)\n",
      "\t cost = 2\n",
      "MOSEK found solution with 4 non-zeros with parameters:\n",
      "\t l0 = 0.078125)\n",
      "\t cost = -1\n",
      "MOSEK found solution with 4 non-zeros with parameters:\n",
      "\t l0 = 0.1171875)\n",
      "\t cost = -1\n",
      "MOSEK found solution with 3 non-zeros with parameters:\n",
      "\t l0 = 0.13671875)\n",
      "\t cost = 0\n"
     ]
    }
   ],
   "source": [
    "fixed_l2 = 0.01\n",
    "f = make_bisect_paritial_func(3, Y, fixed_l2=fixed_l2, M=M, tol=1e-6)\n",
    "opt_l0 = bisect(f, a=0, b=10)"
   ]
  },
  {
   "cell_type": "code",
   "execution_count": 14,
   "metadata": {
    "collapsed": false,
    "jupyter": {
     "outputs_hidden": false
    },
    "pycharm": {
     "name": "#%%\n"
    }
   },
   "outputs": [
    {
     "data": {
      "text/plain": [
       "array([[0.97842551, 0.        , 0.        , 0.        , 0.        ],\n",
       "       [0.        , 0.98844736, 0.        , 0.        , 0.        ],\n",
       "       [0.        , 0.        , 0.90512582, 0.28451871, 0.26571506],\n",
       "       [0.        , 0.        , 0.28451871, 0.9402875 , 0.43749997],\n",
       "       [0.        , 0.        , 0.26571506, 0.43749997, 1.01442219]])"
      ]
     },
     "execution_count": 14,
     "metadata": {},
     "output_type": "execute_result"
    }
   ],
   "source": [
    "fit_mosek = opt.MIO_mosek(Y, l0=opt_l0, l2=fixed_l2, M=M)\n",
    "fit_mosek.theta_hat[np.abs(fit_mosek.theta_hat) < 1e-6] = 0\n",
    "fit_mosek.theta_hat"
   ]
  },
  {
   "cell_type": "markdown",
   "metadata": {
    "pycharm": {
     "name": "#%% md\n"
    }
   },
   "source": [
    "gL0Learn again matches!\n",
    "\n",
    "Since `max_active_set_size` is large enough to allow CD to iterate and change values!"
   ]
  },
  {
   "cell_type": "code",
   "execution_count": 15,
   "metadata": {
    "collapsed": false,
    "jupyter": {
     "outputs_hidden": false
    },
    "pycharm": {
     "name": "#%%\n"
    }
   },
   "outputs": [
    {
     "name": "stdout",
     "output_type": "stream",
     "text": [
      "gL0LearnFit 1\n",
      "gL0LearnFit 2\n",
      "gL0LearnFit 2\n",
      "fit 1\n",
      "fit loop0\n",
      "current_iter: 1 cur_objective = 5.58232\n",
      "fit loop1\n",
      "current_iter: 2 cur_objective = 5.57984\n",
      "fit loop2\n",
      "current_iter: 3 cur_objective = 5.57961\n",
      "fit loop3\n",
      "current_iter: 4 cur_objective = 5.57959\n",
      "fit loop4\n",
      "current_iter: 5 cur_objective = 5.57959\n"
     ]
    },
    {
     "data": {
      "text/plain": [
       "array([[ 0.97842588, -0.        ,  0.        , -0.        ,  0.        ],\n",
       "       [-0.        ,  0.98844773,  0.        ,  0.        ,  0.        ],\n",
       "       [ 0.        ,  0.        ,  0.80047801,  0.        ,  0.        ],\n",
       "       [-0.        ,  0.        ,  0.        ,  0.8677137 ,  0.37966987],\n",
       "       [ 0.        ,  0.        ,  0.        ,  0.37966987,  0.95505299]])"
      ]
     },
     "execution_count": 15,
     "metadata": {},
     "output_type": "execute_result"
    }
   ],
   "source": [
    "# TODO: Why are we seeing this slight bias on CD l0?\n",
    "fit_cd = fit(Y, l0=opt_l0, l2=fixed_l2, scale_x=False, max_active_set_size=10, initial_active_set=0., super_active_set=0.)\n",
    "fit_cd.theta"
   ]
  },
  {
   "cell_type": "markdown",
   "metadata": {
    "pycharm": {
     "name": "#%% md\n"
    }
   },
   "source": [
    "However, if we limit `gL0Learn`'s CD algorithim to just find 2 NNZs (which MOSEK is unable to do!), we find the solution is surprisingly different! However, look at the value of theta (3, 4) it is very different than the perviosuly learned theta (3,4)"
   ]
  },
  {
   "cell_type": "code",
   "execution_count": 16,
   "metadata": {
    "collapsed": false,
    "jupyter": {
     "outputs_hidden": false
    },
    "pycharm": {
     "name": "#%%\n"
    }
   },
   "outputs": [
    {
     "name": "stdout",
     "output_type": "stream",
     "text": [
      "gL0LearnFit 1\n",
      "gL0LearnFit 2\n",
      "gL0LearnFit 2\n",
      "fit 1\n",
      "fit loop0\n",
      "current_iter: 1 cur_objective = 5.82604\n",
      "fit loop1\n",
      "current_iter: 2 cur_objective = 5.82604\n",
      "fit loop2\n",
      "current_iter: 3 cur_objective = 5.58894\n",
      "fit loop3\n",
      "current_iter: 4 cur_objective = 5.5803\n",
      "fit loop4\n",
      "current_iter: 5 cur_objective = 5.57965\n",
      "fit loop5\n",
      "current_iter: 6 cur_objective = 5.57959\n",
      "fit loop6\n",
      "current_iter: 7 cur_objective = 5.57959\n"
     ]
    },
    {
     "data": {
      "text/plain": [
       "array([[0.97842588, 0.        , 0.        , 0.        , 0.        ],\n",
       "       [0.        , 0.98844773, 0.        , 0.        , 0.        ],\n",
       "       [0.        , 0.        , 0.80047801, 0.        , 0.        ],\n",
       "       [0.        , 0.        , 0.        , 0.86720233, 0.37891446],\n",
       "       [0.        , 0.        , 0.        , 0.37891446, 0.95449015]])"
      ]
     },
     "execution_count": 16,
     "metadata": {},
     "output_type": "execute_result"
    }
   ],
   "source": [
    "# TODO: Why are we seeing this slight bias on CD l0?\n",
    "fit_cd = fit(Y, l0=opt_l0, l2=fixed_l2, scale_x=False, max_active_set_size=3, initial_active_set=np.inf, super_active_set=0.)\n",
    "fit_cd.theta"
   ]
  },
  {
   "cell_type": "code",
   "execution_count": 17,
   "metadata": {
    "collapsed": false,
    "jupyter": {
     "outputs_hidden": false
    },
    "pycharm": {
     "name": "#%%\n"
    }
   },
   "outputs": [
    {
     "data": {
      "text/plain": [
       "[0, 0, 1, 1, 1, 1, 1]"
      ]
     },
     "execution_count": 17,
     "metadata": {},
     "output_type": "execute_result"
    }
   ],
   "source": [
    "fit_cd.active_set_size"
   ]
  },
  {
   "cell_type": "markdown",
   "metadata": {
    "pycharm": {
     "name": "#%% md\n"
    }
   },
   "source": [
    "# Why do we only see 1 NNZ?\n",
    "\n",
    "Since the `max_active_set_size` is set to 3. The CD algorithim iterates and brings in (3,4) first. Which it should as (3,4) is the largest item in theta_star.\n",
    "However, now. No other item is worth adding as it first optimized (3,4) in isolation."
   ]
  },
  {
   "cell_type": "markdown",
   "metadata": {
    "pycharm": {
     "name": "#%% md\n"
    }
   },
   "source": [
    "If instead, we start it with the l0 penalty to 0 to allow CD to learn over a contious loss function. It still doesn't finds the correct solution! This is becuase of the order at which gL0Learn iterats! Row by Row left to right downwards!"
   ]
  },
  {
   "cell_type": "code",
   "execution_count": 18,
   "metadata": {
    "collapsed": false,
    "jupyter": {
     "outputs_hidden": false
    },
    "pycharm": {
     "name": "#%%\n"
    }
   },
   "outputs": [
    {
     "name": "stdout",
     "output_type": "stream",
     "text": [
      "gL0LearnFit 1\n",
      "gL0LearnFit 2\n",
      "gL0LearnFit 2\n",
      "fit 1\n",
      "fit loop0\n",
      "current_iter: 1 cur_objective = 5.82604\n",
      "fit loop1\n",
      "current_iter: 2 cur_objective = 5.82604\n",
      "this->params.max_active_set_size = 3\n",
      "this->active_set.size() = 0\n",
      "n_to_keep = 3\n",
      "fit loop2\n",
      "current_iter: 3 cur_objective = 5.20801\n",
      "fit loop3\n",
      "current_iter: 4 cur_objective = 5.18829\n",
      "fit loop4\n",
      "current_iter: 5 cur_objective = 5.18635\n",
      "fit loop5\n",
      "current_iter: 6 cur_objective = 5.18615\n",
      "fit loop6\n",
      "current_iter: 7 cur_objective = 5.18613\n",
      "fit loop7\n",
      "current_iter: 8 cur_objective = 5.18613\n",
      "this->params.max_active_set_size = 3\n",
      "this->active_set.size() = 3\n",
      "n_to_keep = 0\n"
     ]
    },
    {
     "data": {
      "text/plain": [
       "array([[0.97842588, 0.        , 0.        , 0.        , 0.        ],\n",
       "       [0.        , 1.05102699, 0.23079159, 0.        , 0.        ],\n",
       "       [0.        , 0.23079159, 0.90862251, 0.22450104, 0.        ],\n",
       "       [0.        , 0.        , 0.22450104, 0.90546316, 0.40966985],\n",
       "       [0.        , 0.        , 0.        , 0.40966985, 0.97783669]])"
      ]
     },
     "execution_count": 18,
     "metadata": {},
     "output_type": "execute_result"
    }
   ],
   "source": [
    "# TODO: Why are we seeing this slight bias on CD l0?\n",
    "fit_cd = fit(Y, l0=0, l2=0.01, scale_x=False, max_active_set_size=3, initial_active_set=np.inf, super_active_set=0., algorithm='CD')\n",
    "fit_cd.theta"
   ]
  },
  {
   "cell_type": "code",
   "execution_count": 19,
   "metadata": {
    "collapsed": false,
    "jupyter": {
     "outputs_hidden": false
    },
    "pycharm": {
     "name": "#%%\n"
    }
   },
   "outputs": [
    {
     "name": "stdout",
     "output_type": "stream",
     "text": [
      "gL0LearnFit 1\n",
      "gL0LearnFit 2\n",
      "gL0LearnFit 2\n",
      "fitpsi called \n",
      "fit 1\n",
      "fit loop0\n",
      "current_iter: 1 cur_objective = 5.82604\n",
      "fit loop1\n",
      "current_iter: 2 cur_objective = 5.82604\n",
      "fit loop2\n",
      "current_iter: 3 cur_objective = 5.60222\n",
      "fit loop3\n",
      "current_iter: 4 cur_objective = 5.59358\n",
      "fit loop4\n",
      "current_iter: 5 cur_objective = 5.59293\n",
      "fit loop5\n",
      "current_iter: 6 cur_objective = 5.59287\n",
      "fit loop6\n",
      "current_iter: 7 cur_objective = 5.59287\n",
      "Pre psi cost: 5.59287 \n",
      "PSI iter: 0 \n",
      "PSI iter: 0 Swapping row: 0\n",
      "psi_row_fit row =  0 \n",
      "selected super_active_set start =  {0, 1} \n",
      "selected super_active_set end =  {1, 2} \n",
      "PSI iter: 0 Swapping row: 1\n",
      "psi_row_fit row =  1 \n",
      "selected super_active_set start =  {1, 2} \n",
      "selected super_active_set end =  {2, 3} \n",
      "PSI iter: 0 Swapping row: 2\n",
      "psi_row_fit row =  2 \n",
      "selected super_active_set start =  {2, 3} \n",
      "selected super_active_set end =  {3, 4} \n",
      "PSI iter: 0 Swapping row: 3\n",
      "psi_row_fit row =  3 \n",
      "selected super_active_set start =  {3, 4} \n",
      "selected super_active_set end =  {103824001895872, 13} \n"
     ]
    },
    {
     "data": {
      "text/plain": [
       "array([[0.97842588, 0.        , 0.        , 0.        , 0.        ],\n",
       "       [0.        , 0.98844773, 0.        , 0.        , 0.        ],\n",
       "       [0.        , 0.        , 0.80047801, 0.        , 0.        ],\n",
       "       [0.        , 0.        , 0.        , 0.86720233, 0.37891446],\n",
       "       [0.        , 0.        , 0.        , 0.37891446, 0.95449015]])"
      ]
     },
     "execution_count": 19,
     "metadata": {},
     "output_type": "execute_result"
    }
   ],
   "source": [
    "# TODO: Why are we seeing this slight bias on CD l0?\n",
    "fit_cd = fit(Y, l0=0.15, l2=0.01, scale_x=False, max_active_set_size=5, initial_active_set=np.inf, super_active_set=0., algorithm='CDPSI')\n",
    "fit_cd.theta"
   ]
  },
  {
   "cell_type": "code",
   "execution_count": 20,
   "metadata": {
    "collapsed": false,
    "jupyter": {
     "outputs_hidden": false
    },
    "pycharm": {
     "name": "#%%\n"
    }
   },
   "outputs": [],
   "source": [
    "# If we specify the starting inital_active_set, then it works!"
   ]
  },
  {
   "cell_type": "code",
   "execution_count": 51,
   "metadata": {},
   "outputs": [],
   "source": [
    "def make_bisect_func(desired_nnz: int, Y: np.ndarray, verbose: bool = True, **kwargs):\n",
    "\n",
    "    def inner_bisect(l0):\n",
    "        fit_gl0learn = fit(Y, l0=l0, **kwargs)\n",
    "        theta_hat = fit_gl0learn.theta\n",
    "        np.fill_diagonal(theta_hat, 0)\n",
    "\n",
    "        nnz = np.count_nonzero(theta_hat)//2\n",
    "        cost = desired_nnz - nnz\n",
    "        if verbose:\n",
    "            print(f\"gl0Learn found solution with {nnz} non-zeros with parameters:\")\n",
    "            print(f\"\\t l0 = {l0})\")\n",
    "            print(f\"\\t cost = {cost}\")\n",
    "        return cost\n",
    "\n",
    "    return inner_bisect"
   ]
  },
  {
   "cell_type": "code",
   "execution_count": 234,
   "metadata": {
    "tags": []
   },
   "outputs": [
    {
     "name": "stdout",
     "output_type": "stream",
     "text": [
      "gL0LearnFit 1\n",
      "gL0LearnFit 2\n",
      "gL0LearnFit 2\n",
      "fit 1\n",
      "fit loop0\n",
      "current_iter: 1 cur_objective = 5.82604\n",
      "fit loop1\n",
      "current_iter: 2 cur_objective = 5.82604\n",
      "fit loop2\n",
      "current_iter: 3 cur_objective = 5.02138\n",
      "fit loop3\n",
      "current_iter: 4 cur_objective = 4.9325\n",
      "fit loop4\n",
      "current_iter: 5 cur_objective = 4.91523\n",
      "fit loop5\n",
      "current_iter: 6 cur_objective = 4.91158\n",
      "fit loop6\n",
      "current_iter: 7 cur_objective = 4.91073\n",
      "fit loop7\n",
      "current_iter: 8 cur_objective = 4.91051\n",
      "fit loop8\n",
      "current_iter: 9 cur_objective = 4.91045\n",
      "fit loop9\n",
      "current_iter: 10 cur_objective = 4.91044\n",
      "fit loop10\n",
      "current_iter: 11 cur_objective = 4.91044\n",
      "gl0Learn found solution with 10 non-zeros with parameters:\n",
      "\t l0 = 0.0)\n",
      "\t cost = -8\n",
      "gL0LearnFit 1\n",
      "gL0LearnFit 2\n",
      "gL0LearnFit 2\n",
      "fit 1\n",
      "fit loop0\n",
      "current_iter: 1 cur_objective = 5.82604\n",
      "fit loop1\n",
      "current_iter: 2 cur_objective = 5.82604\n",
      "gl0Learn found solution with 0 non-zeros with parameters:\n",
      "\t l0 = 10.0)\n",
      "\t cost = 2\n",
      "gL0LearnFit 1\n",
      "gL0LearnFit 2\n",
      "gL0LearnFit 2\n",
      "fit 1\n",
      "fit loop0\n",
      "current_iter: 1 cur_objective = 5.82604\n",
      "fit loop1\n",
      "current_iter: 2 cur_objective = 5.82604\n",
      "gl0Learn found solution with 0 non-zeros with parameters:\n",
      "\t l0 = 5.0)\n",
      "\t cost = 2\n",
      "gL0LearnFit 1\n",
      "gL0LearnFit 2\n",
      "gL0LearnFit 2\n",
      "fit 1\n",
      "fit loop0\n",
      "current_iter: 1 cur_objective = 5.82604\n",
      "fit loop1\n",
      "current_iter: 2 cur_objective = 5.82604\n",
      "gl0Learn found solution with 0 non-zeros with parameters:\n",
      "\t l0 = 2.5)\n",
      "\t cost = 2\n",
      "gL0LearnFit 1\n",
      "gL0LearnFit 2\n",
      "gL0LearnFit 2\n",
      "fit 1\n",
      "fit loop0\n",
      "current_iter: 1 cur_objective = 5.82604\n",
      "fit loop1\n",
      "current_iter: 2 cur_objective = 5.82604\n",
      "gl0Learn found solution with 0 non-zeros with parameters:\n",
      "\t l0 = 1.25)\n",
      "\t cost = 2\n",
      "gL0LearnFit 1\n",
      "gL0LearnFit 2\n",
      "gL0LearnFit 2\n",
      "fit 1\n",
      "fit loop0\n",
      "current_iter: 1 cur_objective = 5.82604\n",
      "fit loop1\n",
      "current_iter: 2 cur_objective = 5.82604\n",
      "gl0Learn found solution with 0 non-zeros with parameters:\n",
      "\t l0 = 0.625)\n",
      "\t cost = 2\n",
      "gL0LearnFit 1\n",
      "gL0LearnFit 2\n",
      "gL0LearnFit 2\n",
      "fit 1\n",
      "fit loop0\n",
      "current_iter: 1 cur_objective = 5.82604\n",
      "fit loop1\n",
      "current_iter: 2 cur_objective = 5.82604\n",
      "fit loop2\n",
      "current_iter: 3 cur_objective = 5.76472\n",
      "fit loop3\n",
      "current_iter: 4 cur_objective = 5.75608\n",
      "fit loop4\n",
      "current_iter: 5 cur_objective = 5.75543\n",
      "fit loop5\n",
      "current_iter: 6 cur_objective = 5.75537\n",
      "fit loop6\n",
      "current_iter: 7 cur_objective = 5.75537\n",
      "gl0Learn found solution with 1 non-zeros with parameters:\n",
      "\t l0 = 0.3125)\n",
      "\t cost = 1\n",
      "gL0LearnFit 1\n",
      "gL0LearnFit 2\n",
      "gL0LearnFit 2\n",
      "fit 1\n",
      "fit loop0\n",
      "current_iter: 1 cur_objective = 5.82604\n",
      "fit loop1\n",
      "current_iter: 2 cur_objective = 5.82604\n",
      "fit loop2\n",
      "current_iter: 3 cur_objective = 5.60847\n",
      "fit loop3\n",
      "current_iter: 4 cur_objective = 5.59983\n",
      "fit loop4\n",
      "current_iter: 5 cur_objective = 5.59918\n",
      "fit loop5\n",
      "current_iter: 6 cur_objective = 5.59912\n",
      "fit loop6\n",
      "current_iter: 7 cur_objective = 5.59912\n",
      "gl0Learn found solution with 1 non-zeros with parameters:\n",
      "\t l0 = 0.15625)\n",
      "\t cost = 1\n",
      "gL0LearnFit 1\n",
      "gL0LearnFit 2\n",
      "gL0LearnFit 2\n",
      "fit 1\n",
      "fit loop0\n",
      "current_iter: 1 cur_objective = 5.82604\n",
      "fit loop1\n",
      "current_iter: 2 cur_objective = 5.82604\n",
      "fit loop2\n",
      "current_iter: 3 cur_objective = 5.44238\n",
      "fit loop3\n",
      "current_iter: 4 cur_objective = 5.42266\n",
      "fit loop4\n",
      "current_iter: 5 cur_objective = 5.42073\n",
      "fit loop5\n",
      "current_iter: 6 cur_objective = 5.42053\n",
      "fit loop6\n",
      "current_iter: 7 cur_objective = 5.4205\n",
      "fit loop7\n",
      "current_iter: 8 cur_objective = 5.4205\n",
      "fit loop8\n",
      "current_iter: 9 cur_objective = 5.31319\n",
      "fit loop9\n",
      "current_iter: 10 cur_objective = 5.31015\n",
      "fit loop10\n",
      "current_iter: 11 cur_objective = 5.30947\n",
      "fit loop11\n",
      "current_iter: 12 cur_objective = 5.30932\n",
      "fit loop12\n",
      "current_iter: 13 cur_objective = 5.30929\n",
      "fit loop13\n",
      "current_iter: 14 cur_objective = 5.30929\n",
      "fit loop14\n",
      "current_iter: 15 cur_objective = 5.30929\n",
      "gl0Learn found solution with 4 non-zeros with parameters:\n",
      "\t l0 = 0.078125)\n",
      "\t cost = -2\n",
      "gL0LearnFit 1\n",
      "gL0LearnFit 2\n",
      "gL0LearnFit 2\n",
      "fit 1\n",
      "fit loop0\n",
      "current_iter: 1 cur_objective = 5.82604\n",
      "fit loop1\n",
      "current_iter: 2 cur_objective = 5.82604\n",
      "fit loop2\n",
      "current_iter: 3 cur_objective = 5.56941\n",
      "fit loop3\n",
      "current_iter: 4 cur_objective = 5.56077\n",
      "fit loop4\n",
      "current_iter: 5 cur_objective = 5.56012\n",
      "fit loop5\n",
      "current_iter: 6 cur_objective = 5.56006\n",
      "fit loop6\n",
      "current_iter: 7 cur_objective = 5.56006\n",
      "fit loop7\n",
      "current_iter: 8 cur_objective = 5.54217\n",
      "fit loop8\n",
      "current_iter: 9 cur_objective = 5.54042\n",
      "fit loop9\n",
      "current_iter: 10 cur_objective = 5.54023\n",
      "fit loop10\n",
      "current_iter: 11 cur_objective = 5.54021\n",
      "fit loop11\n",
      "current_iter: 12 cur_objective = 5.5402\n",
      "fit loop12\n",
      "current_iter: 13 cur_objective = 5.49767\n",
      "fit loop13\n",
      "current_iter: 14 cur_objective = 5.48402\n",
      "fit loop14\n",
      "current_iter: 15 cur_objective = 5.48233\n",
      "fit loop15\n",
      "current_iter: 16 cur_objective = 5.48198\n",
      "fit loop16\n",
      "current_iter: 17 cur_objective = 5.48191\n",
      "fit loop17\n",
      "current_iter: 18 cur_objective = 5.4819\n",
      "fit loop18\n",
      "current_iter: 19 cur_objective = 5.48189\n",
      "fit loop19\n",
      "current_iter: 20 cur_objective = 5.46611\n",
      "fit loop20\n",
      "current_iter: 21 cur_objective = 5.46559\n",
      "fit loop21\n",
      "current_iter: 22 cur_objective = 5.46555\n",
      "fit loop22\n",
      "current_iter: 23 cur_objective = 5.46554\n",
      "fit loop23\n",
      "current_iter: 24 cur_objective = 5.46554\n",
      "gl0Learn found solution with 4 non-zeros with parameters:\n",
      "\t l0 = 0.1171875)\n",
      "\t cost = -2\n",
      "gL0LearnFit 1\n",
      "gL0LearnFit 2\n",
      "gL0LearnFit 2\n",
      "fit 1\n",
      "fit loop0\n",
      "current_iter: 1 cur_objective = 5.82604\n",
      "fit loop1\n",
      "current_iter: 2 cur_objective = 5.82604\n",
      "fit loop2\n",
      "current_iter: 3 cur_objective = 5.58894\n",
      "fit loop3\n",
      "current_iter: 4 cur_objective = 5.5803\n",
      "fit loop4\n",
      "current_iter: 5 cur_objective = 5.57965\n",
      "fit loop5\n",
      "current_iter: 6 cur_objective = 5.57959\n",
      "fit loop6\n",
      "current_iter: 7 cur_objective = 5.57959\n",
      "gl0Learn found solution with 1 non-zeros with parameters:\n",
      "\t l0 = 0.13671875)\n",
      "\t cost = 1\n",
      "gL0LearnFit 1\n",
      "gL0LearnFit 2\n",
      "gL0LearnFit 2\n",
      "fit 1\n",
      "fit loop0\n",
      "current_iter: 1 cur_objective = 5.82604\n",
      "fit loop1\n",
      "current_iter: 2 cur_objective = 5.82604\n",
      "fit loop2\n",
      "current_iter: 3 cur_objective = 5.57918\n",
      "fit loop3\n",
      "current_iter: 4 cur_objective = 5.57054\n",
      "fit loop4\n",
      "current_iter: 5 cur_objective = 5.56988\n",
      "fit loop5\n",
      "current_iter: 6 cur_objective = 5.56983\n",
      "fit loop6\n",
      "current_iter: 7 cur_objective = 5.56982\n",
      "fit loop7\n",
      "current_iter: 8 cur_objective = 5.56044\n",
      "fit loop8\n",
      "current_iter: 9 cur_objective = 5.5598\n",
      "fit loop9\n",
      "current_iter: 10 cur_objective = 5.55974\n",
      "fit loop10\n",
      "current_iter: 11 cur_objective = 5.55974\n",
      "fit loop11\n",
      "current_iter: 12 cur_objective = 5.55973\n",
      "fit loop12\n",
      "current_iter: 13 cur_objective = 5.51445\n",
      "fit loop13\n",
      "current_iter: 14 cur_objective = 5.51177\n",
      "fit loop14\n",
      "current_iter: 15 cur_objective = 5.51131\n",
      "fit loop15\n",
      "current_iter: 16 cur_objective = 5.51121\n",
      "fit loop16\n",
      "current_iter: 17 cur_objective = 5.51119\n",
      "fit loop17\n",
      "current_iter: 18 cur_objective = 5.51119\n",
      "fit loop18\n",
      "current_iter: 19 cur_objective = 5.50546\n",
      "fit loop19\n",
      "current_iter: 20 cur_objective = 5.5047\n",
      "fit loop20\n",
      "current_iter: 21 cur_objective = 5.50462\n",
      "fit loop21\n",
      "current_iter: 22 cur_objective = 5.5046\n",
      "fit loop22\n",
      "current_iter: 23 cur_objective = 5.5046\n",
      "gl0Learn found solution with 4 non-zeros with parameters:\n",
      "\t l0 = 0.126953125)\n",
      "\t cost = -2\n",
      "gL0LearnFit 1\n",
      "gL0LearnFit 2\n",
      "gL0LearnFit 2\n",
      "fit 1\n",
      "fit loop0\n",
      "current_iter: 1 cur_objective = 5.82604\n",
      "fit loop1\n",
      "current_iter: 2 cur_objective = 5.82604\n",
      "fit loop2\n",
      "current_iter: 3 cur_objective = 5.58406\n",
      "fit loop3\n",
      "current_iter: 4 cur_objective = 5.57542\n",
      "fit loop4\n",
      "current_iter: 5 cur_objective = 5.57477\n",
      "fit loop5\n",
      "current_iter: 6 cur_objective = 5.57471\n",
      "fit loop6\n",
      "current_iter: 7 cur_objective = 5.57471\n",
      "fit loop7\n",
      "current_iter: 8 cur_objective = 5.57021\n",
      "fit loop8\n",
      "current_iter: 9 cur_objective = 5.56957\n",
      "fit loop9\n",
      "current_iter: 10 cur_objective = 5.56951\n",
      "fit loop10\n",
      "current_iter: 11 cur_objective = 5.5695\n",
      "fit loop11\n",
      "current_iter: 12 cur_objective = 5.5695\n",
      "fit loop12\n",
      "current_iter: 13 cur_objective = 5.54161\n",
      "fit loop13\n",
      "current_iter: 14 cur_objective = 5.52772\n",
      "fit loop14\n",
      "current_iter: 15 cur_objective = 5.52618\n",
      "fit loop15\n",
      "current_iter: 16 cur_objective = 5.5259\n",
      "fit loop16\n",
      "current_iter: 17 cur_objective = 5.52585\n",
      "fit loop17\n",
      "current_iter: 18 cur_objective = 5.52584\n",
      "fit loop18\n",
      "current_iter: 19 cur_objective = 5.52584\n",
      "gl0Learn found solution with 3 non-zeros with parameters:\n",
      "\t l0 = 0.1318359375)\n",
      "\t cost = -1\n",
      "gL0LearnFit 1\n",
      "gL0LearnFit 2\n",
      "gL0LearnFit 2\n",
      "fit 1\n",
      "fit loop0\n",
      "current_iter: 1 cur_objective = 5.82604\n",
      "fit loop1\n",
      "current_iter: 2 cur_objective = 5.82604\n",
      "fit loop2\n",
      "current_iter: 3 cur_objective = 5.5865\n",
      "fit loop3\n",
      "current_iter: 4 cur_objective = 5.57786\n",
      "fit loop4\n",
      "current_iter: 5 cur_objective = 5.57721\n",
      "fit loop5\n",
      "current_iter: 6 cur_objective = 5.57715\n",
      "fit loop6\n",
      "current_iter: 7 cur_objective = 5.57715\n",
      "gl0Learn found solution with 1 non-zeros with parameters:\n",
      "\t l0 = 0.13427734375)\n",
      "\t cost = 1\n",
      "gL0LearnFit 1\n",
      "gL0LearnFit 2\n",
      "gL0LearnFit 2\n",
      "fit 1\n",
      "fit loop0\n",
      "current_iter: 1 cur_objective = 5.82604\n",
      "fit loop1\n",
      "current_iter: 2 cur_objective = 5.82604\n",
      "fit loop2\n",
      "current_iter: 3 cur_objective = 5.58528\n",
      "fit loop3\n",
      "current_iter: 4 cur_objective = 5.57664\n",
      "fit loop4\n",
      "current_iter: 5 cur_objective = 5.57599\n",
      "fit loop5\n",
      "current_iter: 6 cur_objective = 5.57593\n",
      "fit loop6\n",
      "current_iter: 7 cur_objective = 5.57593\n",
      "gl0Learn found solution with 1 non-zeros with parameters:\n",
      "\t l0 = 0.133056640625)\n",
      "\t cost = 1\n",
      "gL0LearnFit 1\n",
      "gL0LearnFit 2\n",
      "gL0LearnFit 2\n",
      "fit 1\n",
      "fit loop0\n",
      "current_iter: 1 cur_objective = 5.82604\n",
      "fit loop1\n",
      "current_iter: 2 cur_objective = 5.82604\n",
      "fit loop2\n",
      "current_iter: 3 cur_objective = 5.58467\n",
      "fit loop3\n",
      "current_iter: 4 cur_objective = 5.57603\n",
      "fit loop4\n",
      "current_iter: 5 cur_objective = 5.57538\n",
      "fit loop5\n",
      "current_iter: 6 cur_objective = 5.57532\n",
      "fit loop6\n",
      "current_iter: 7 cur_objective = 5.57532\n",
      "fit loop7\n",
      "current_iter: 8 cur_objective = 5.57143\n",
      "fit loop8\n",
      "current_iter: 9 cur_objective = 5.57079\n",
      "fit loop9\n",
      "current_iter: 10 cur_objective = 5.57073\n",
      "fit loop10\n",
      "current_iter: 11 cur_objective = 5.57072\n",
      "fit loop11\n",
      "current_iter: 12 cur_objective = 5.57072\n",
      "fit loop12\n",
      "current_iter: 13 cur_objective = 5.54344\n",
      "fit loop13\n",
      "current_iter: 14 cur_objective = 5.52955\n",
      "fit loop14\n",
      "current_iter: 15 cur_objective = 5.52801\n",
      "fit loop15\n",
      "current_iter: 16 cur_objective = 5.52774\n",
      "fit loop16\n",
      "current_iter: 17 cur_objective = 5.52768\n",
      "fit loop17\n",
      "current_iter: 18 cur_objective = 5.52767\n",
      "fit loop18\n",
      "current_iter: 19 cur_objective = 5.52767\n",
      "gl0Learn found solution with 3 non-zeros with parameters:\n",
      "\t l0 = 0.1324462890625)\n",
      "\t cost = -1\n",
      "gL0LearnFit 1\n",
      "gL0LearnFit 2\n",
      "gL0LearnFit 2\n",
      "fit 1\n",
      "fit loop0\n",
      "current_iter: 1 cur_objective = 5.82604\n",
      "fit loop1\n",
      "current_iter: 2 cur_objective = 5.82604\n",
      "fit loop2\n",
      "current_iter: 3 cur_objective = 5.58498\n",
      "fit loop3\n",
      "current_iter: 4 cur_objective = 5.57634\n",
      "fit loop4\n",
      "current_iter: 5 cur_objective = 5.57568\n",
      "fit loop5\n",
      "current_iter: 6 cur_objective = 5.57563\n",
      "fit loop6\n",
      "current_iter: 7 cur_objective = 5.57562\n",
      "gl0Learn found solution with 1 non-zeros with parameters:\n",
      "\t l0 = 0.13275146484375)\n",
      "\t cost = 1\n",
      "gL0LearnFit 1\n",
      "gL0LearnFit 2\n",
      "gL0LearnFit 2\n",
      "fit 1\n",
      "fit loop0\n",
      "current_iter: 1 cur_objective = 5.82604\n",
      "fit loop1\n",
      "current_iter: 2 cur_objective = 5.82604\n",
      "fit loop2\n",
      "current_iter: 3 cur_objective = 5.58482\n",
      "fit loop3\n",
      "current_iter: 4 cur_objective = 5.57618\n",
      "fit loop4\n",
      "current_iter: 5 cur_objective = 5.57553\n",
      "fit loop5\n",
      "current_iter: 6 cur_objective = 5.57547\n",
      "fit loop6\n",
      "current_iter: 7 cur_objective = 5.57547\n",
      "gl0Learn found solution with 1 non-zeros with parameters:\n",
      "\t l0 = 0.132598876953125)\n",
      "\t cost = 1\n",
      "gL0LearnFit 1\n",
      "gL0LearnFit 2\n",
      "gL0LearnFit 2\n",
      "fit 1\n",
      "fit loop0\n",
      "current_iter: 1 cur_objective = 5.82604\n",
      "fit loop1\n",
      "current_iter: 2 cur_objective = 5.82604\n",
      "fit loop2\n",
      "current_iter: 3 cur_objective = 5.58475\n",
      "fit loop3\n",
      "current_iter: 4 cur_objective = 5.57611\n",
      "fit loop4\n",
      "current_iter: 5 cur_objective = 5.57545\n",
      "fit loop5\n",
      "current_iter: 6 cur_objective = 5.5754\n",
      "fit loop6\n",
      "current_iter: 7 cur_objective = 5.57539\n",
      "gl0Learn found solution with 1 non-zeros with parameters:\n",
      "\t l0 = 0.1325225830078125)\n",
      "\t cost = 1\n",
      "gL0LearnFit 1\n",
      "gL0LearnFit 2\n",
      "gL0LearnFit 2\n",
      "fit 1\n",
      "fit loop0\n",
      "current_iter: 1 cur_objective = 5.82604\n",
      "fit loop1\n",
      "current_iter: 2 cur_objective = 5.82604\n",
      "fit loop2\n",
      "current_iter: 3 cur_objective = 5.58471\n",
      "fit loop3\n",
      "current_iter: 4 cur_objective = 5.57607\n",
      "fit loop4\n",
      "current_iter: 5 cur_objective = 5.57541\n",
      "fit loop5\n",
      "current_iter: 6 cur_objective = 5.57536\n",
      "fit loop6\n",
      "current_iter: 7 cur_objective = 5.57535\n",
      "gl0Learn found solution with 1 non-zeros with parameters:\n",
      "\t l0 = 0.13248443603515625)\n",
      "\t cost = 1\n",
      "gL0LearnFit 1\n",
      "gL0LearnFit 2\n",
      "gL0LearnFit 2\n",
      "fit 1\n",
      "fit loop0\n",
      "current_iter: 1 cur_objective = 5.82604\n",
      "fit loop1\n",
      "current_iter: 2 cur_objective = 5.82604\n",
      "fit loop2\n",
      "current_iter: 3 cur_objective = 5.58469\n",
      "fit loop3\n",
      "current_iter: 4 cur_objective = 5.57605\n",
      "fit loop4\n",
      "current_iter: 5 cur_objective = 5.57539\n",
      "fit loop5\n",
      "current_iter: 6 cur_objective = 5.57534\n",
      "fit loop6\n",
      "current_iter: 7 cur_objective = 5.57533\n",
      "gl0Learn found solution with 1 non-zeros with parameters:\n",
      "\t l0 = 0.13246536254882812)\n",
      "\t cost = 1\n",
      "gL0LearnFit 1\n",
      "gL0LearnFit 2\n",
      "gL0LearnFit 2\n",
      "fit 1\n",
      "fit loop0\n",
      "current_iter: 1 cur_objective = 5.82604\n",
      "fit loop1\n",
      "current_iter: 2 cur_objective = 5.82604\n",
      "fit loop2\n",
      "current_iter: 3 cur_objective = 5.58468\n",
      "fit loop3\n",
      "current_iter: 4 cur_objective = 5.57604\n",
      "fit loop4\n",
      "current_iter: 5 cur_objective = 5.57538\n",
      "fit loop5\n",
      "current_iter: 6 cur_objective = 5.57533\n",
      "fit loop6\n",
      "current_iter: 7 cur_objective = 5.57533\n",
      "gl0Learn found solution with 1 non-zeros with parameters:\n",
      "\t l0 = 0.13245582580566406)\n",
      "\t cost = 1\n",
      "gL0LearnFit 1\n",
      "gL0LearnFit 2\n",
      "gL0LearnFit 2\n",
      "fit 1\n",
      "fit loop0\n",
      "current_iter: 1 cur_objective = 5.82604\n",
      "fit loop1\n",
      "current_iter: 2 cur_objective = 5.82604\n",
      "fit loop2\n",
      "current_iter: 3 cur_objective = 5.58468\n",
      "fit loop3\n",
      "current_iter: 4 cur_objective = 5.57604\n",
      "fit loop4\n",
      "current_iter: 5 cur_objective = 5.57538\n",
      "fit loop5\n",
      "current_iter: 6 cur_objective = 5.57533\n",
      "fit loop6\n",
      "current_iter: 7 cur_objective = 5.57532\n",
      "gl0Learn found solution with 1 non-zeros with parameters:\n",
      "\t l0 = 0.13245105743408203)\n",
      "\t cost = 1\n",
      "gL0LearnFit 1\n",
      "gL0LearnFit 2\n",
      "gL0LearnFit 2\n",
      "fit 1\n",
      "fit loop0\n",
      "current_iter: 1 cur_objective = 5.82604\n",
      "fit loop1\n",
      "current_iter: 2 cur_objective = 5.82604\n",
      "fit loop2\n",
      "current_iter: 3 cur_objective = 5.58467\n",
      "fit loop3\n",
      "current_iter: 4 cur_objective = 5.57603\n",
      "fit loop4\n",
      "current_iter: 5 cur_objective = 5.57538\n",
      "fit loop5\n",
      "current_iter: 6 cur_objective = 5.57532\n",
      "fit loop6\n",
      "current_iter: 7 cur_objective = 5.57532\n",
      "fit loop7\n",
      "current_iter: 8 cur_objective = 5.57143\n",
      "fit loop8\n",
      "current_iter: 9 cur_objective = 5.57078\n",
      "fit loop9\n",
      "current_iter: 10 cur_objective = 5.57073\n",
      "fit loop10\n",
      "current_iter: 11 cur_objective = 5.57073\n",
      "fit loop11\n",
      "current_iter: 12 cur_objective = 5.53467\n",
      "fit loop12\n",
      "current_iter: 13 cur_objective = 5.52903\n",
      "fit loop13\n",
      "current_iter: 14 cur_objective = 5.52795\n",
      "fit loop14\n",
      "current_iter: 15 cur_objective = 5.52774\n",
      "fit loop15\n",
      "current_iter: 16 cur_objective = 5.52769\n",
      "fit loop16\n",
      "current_iter: 17 cur_objective = 5.52768\n",
      "fit loop17\n",
      "current_iter: 18 cur_objective = 5.52768\n",
      "gl0Learn found solution with 3 non-zeros with parameters:\n",
      "\t l0 = 0.13244867324829102)\n",
      "\t cost = -1\n",
      "gL0LearnFit 1\n",
      "gL0LearnFit 2\n",
      "gL0LearnFit 2\n",
      "fit 1\n",
      "fit loop0\n",
      "current_iter: 1 cur_objective = 5.82604\n",
      "fit loop1\n",
      "current_iter: 2 cur_objective = 5.82604\n",
      "fit loop2\n",
      "current_iter: 3 cur_objective = 5.58467\n",
      "fit loop3\n",
      "current_iter: 4 cur_objective = 5.57603\n",
      "fit loop4\n",
      "current_iter: 5 cur_objective = 5.57538\n",
      "fit loop5\n",
      "current_iter: 6 cur_objective = 5.57532\n",
      "fit loop6\n",
      "current_iter: 7 cur_objective = 5.57532\n",
      "gl0Learn found solution with 1 non-zeros with parameters:\n",
      "\t l0 = 0.13244986534118652)\n",
      "\t cost = 1\n",
      "gL0LearnFit 1\n",
      "gL0LearnFit 2\n",
      "gL0LearnFit 2\n",
      "fit 1\n",
      "fit loop0\n",
      "current_iter: 1 cur_objective = 5.82604\n",
      "fit loop1\n",
      "current_iter: 2 cur_objective = 5.82604\n",
      "fit loop2\n",
      "current_iter: 3 cur_objective = 5.58467\n",
      "fit loop3\n",
      "current_iter: 4 cur_objective = 5.57603\n",
      "fit loop4\n",
      "current_iter: 5 cur_objective = 5.57538\n",
      "fit loop5\n",
      "current_iter: 6 cur_objective = 5.57532\n",
      "fit loop6\n",
      "current_iter: 7 cur_objective = 5.57532\n",
      "gl0Learn found solution with 1 non-zeros with parameters:\n",
      "\t l0 = 0.13244926929473877)\n",
      "\t cost = 1\n",
      "gL0LearnFit 1\n",
      "gL0LearnFit 2\n",
      "gL0LearnFit 2\n",
      "fit 1\n",
      "fit loop0\n",
      "current_iter: 1 cur_objective = 5.82604\n",
      "fit loop1\n",
      "current_iter: 2 cur_objective = 5.82604\n",
      "fit loop2\n",
      "current_iter: 3 cur_objective = 5.58467\n",
      "fit loop3\n",
      "current_iter: 4 cur_objective = 5.57603\n",
      "fit loop4\n",
      "current_iter: 5 cur_objective = 5.57538\n",
      "fit loop5\n",
      "current_iter: 6 cur_objective = 5.57532\n",
      "fit loop6\n",
      "current_iter: 7 cur_objective = 5.57532\n",
      "gl0Learn found solution with 1 non-zeros with parameters:\n",
      "\t l0 = 0.1324489712715149)\n",
      "\t cost = 1\n",
      "gL0LearnFit 1\n",
      "gL0LearnFit 2\n",
      "gL0LearnFit 2\n",
      "fit 1\n",
      "fit loop0\n",
      "current_iter: 1 cur_objective = 5.82604\n",
      "fit loop1\n",
      "current_iter: 2 cur_objective = 5.82604\n",
      "fit loop2\n",
      "current_iter: 3 cur_objective = 5.58467\n",
      "fit loop3\n",
      "current_iter: 4 cur_objective = 5.57603\n",
      "fit loop4\n",
      "current_iter: 5 cur_objective = 5.57538\n",
      "fit loop5\n",
      "current_iter: 6 cur_objective = 5.57532\n",
      "fit loop6\n",
      "current_iter: 7 cur_objective = 5.57532\n",
      "fit loop7\n",
      "current_iter: 8 cur_objective = 5.57143\n",
      "fit loop8\n",
      "current_iter: 9 cur_objective = 5.57079\n",
      "fit loop9\n",
      "current_iter: 10 cur_objective = 5.57073\n",
      "fit loop10\n",
      "current_iter: 11 cur_objective = 5.57073\n",
      "fit loop11\n",
      "current_iter: 12 cur_objective = 5.57073\n",
      "fit loop12\n",
      "current_iter: 13 cur_objective = 5.54103\n",
      "fit loop13\n",
      "current_iter: 14 cur_objective = 5.52908\n",
      "fit loop14\n",
      "current_iter: 15 cur_objective = 5.52797\n",
      "fit loop15\n",
      "current_iter: 16 cur_objective = 5.52773\n",
      "fit loop16\n",
      "current_iter: 17 cur_objective = 5.52769\n",
      "fit loop17\n",
      "current_iter: 18 cur_objective = 5.52768\n",
      "fit loop18\n",
      "current_iter: 19 cur_objective = 5.52768\n",
      "gl0Learn found solution with 3 non-zeros with parameters:\n",
      "\t l0 = 0.13244882225990295)\n",
      "\t cost = -1\n",
      "gL0LearnFit 1\n",
      "gL0LearnFit 2\n",
      "gL0LearnFit 2\n",
      "fit 1\n",
      "fit loop0\n",
      "current_iter: 1 cur_objective = 5.82604\n",
      "fit loop1\n",
      "current_iter: 2 cur_objective = 5.82604\n",
      "fit loop2\n",
      "current_iter: 3 cur_objective = 5.58467\n",
      "fit loop3\n",
      "current_iter: 4 cur_objective = 5.57603\n",
      "fit loop4\n",
      "current_iter: 5 cur_objective = 5.57538\n",
      "fit loop5\n",
      "current_iter: 6 cur_objective = 5.57532\n",
      "fit loop6\n",
      "current_iter: 7 cur_objective = 5.57532\n",
      "gl0Learn found solution with 1 non-zeros with parameters:\n",
      "\t l0 = 0.13244889676570892)\n",
      "\t cost = 1\n",
      "gL0LearnFit 1\n",
      "gL0LearnFit 2\n",
      "gL0LearnFit 2\n",
      "fit 1\n",
      "fit loop0\n",
      "current_iter: 1 cur_objective = 5.82604\n",
      "fit loop1\n",
      "current_iter: 2 cur_objective = 5.82604\n",
      "fit loop2\n",
      "current_iter: 3 cur_objective = 5.58467\n",
      "fit loop3\n",
      "current_iter: 4 cur_objective = 5.57603\n",
      "fit loop4\n",
      "current_iter: 5 cur_objective = 5.57538\n",
      "fit loop5\n",
      "current_iter: 6 cur_objective = 5.57532\n",
      "fit loop6\n",
      "current_iter: 7 cur_objective = 5.57532\n",
      "gl0Learn found solution with 1 non-zeros with parameters:\n",
      "\t l0 = 0.13244885951280594)\n",
      "\t cost = 1\n",
      "gL0LearnFit 1\n",
      "gL0LearnFit 2\n",
      "gL0LearnFit 2\n",
      "fit 1\n",
      "fit loop0\n",
      "current_iter: 1 cur_objective = 5.82604\n",
      "fit loop1\n",
      "current_iter: 2 cur_objective = 5.82604\n",
      "fit loop2\n",
      "current_iter: 3 cur_objective = 5.58467\n",
      "fit loop3\n",
      "current_iter: 4 cur_objective = 5.57603\n",
      "fit loop4\n",
      "current_iter: 5 cur_objective = 5.57538\n",
      "fit loop5\n",
      "current_iter: 6 cur_objective = 5.57532\n",
      "fit loop6\n",
      "current_iter: 7 cur_objective = 5.57532\n",
      "fit loop7\n",
      "current_iter: 8 cur_objective = 5.57143\n",
      "fit loop8\n",
      "current_iter: 9 cur_objective = 5.57078\n",
      "fit loop9\n",
      "current_iter: 10 cur_objective = 5.57073\n",
      "fit loop10\n",
      "current_iter: 11 cur_objective = 5.57073\n",
      "fit loop11\n",
      "current_iter: 12 cur_objective = 5.53467\n",
      "fit loop12\n",
      "current_iter: 13 cur_objective = 5.52892\n",
      "fit loop13\n",
      "current_iter: 14 cur_objective = 5.52792\n",
      "fit loop14\n",
      "current_iter: 15 cur_objective = 5.52773\n",
      "fit loop15\n",
      "current_iter: 16 cur_objective = 5.52769\n",
      "fit loop16\n",
      "current_iter: 17 cur_objective = 5.52768\n",
      "fit loop17\n",
      "current_iter: 18 cur_objective = 5.52768\n",
      "gl0Learn found solution with 3 non-zeros with parameters:\n",
      "\t l0 = 0.13244884088635445)\n",
      "\t cost = -1\n",
      "gL0LearnFit 1\n",
      "gL0LearnFit 2\n",
      "gL0LearnFit 2\n",
      "fit 1\n",
      "fit loop0\n",
      "current_iter: 1 cur_objective = 5.82604\n",
      "fit loop1\n",
      "current_iter: 2 cur_objective = 5.82604\n",
      "fit loop2\n",
      "current_iter: 3 cur_objective = 5.58467\n",
      "fit loop3\n",
      "current_iter: 4 cur_objective = 5.57603\n",
      "fit loop4\n",
      "current_iter: 5 cur_objective = 5.57538\n",
      "fit loop5\n",
      "current_iter: 6 cur_objective = 5.57532\n",
      "fit loop6\n",
      "current_iter: 7 cur_objective = 5.57532\n",
      "fit loop7\n",
      "current_iter: 8 cur_objective = 5.5727\n",
      "fit loop8\n",
      "current_iter: 9 cur_objective = 5.57094\n",
      "fit loop9\n",
      "current_iter: 10 cur_objective = 5.57075\n",
      "fit loop10\n",
      "current_iter: 11 cur_objective = 5.57073\n",
      "fit loop11\n",
      "current_iter: 12 cur_objective = 5.57073\n",
      "fit loop12\n",
      "current_iter: 13 cur_objective = 5.54104\n",
      "fit loop13\n",
      "current_iter: 14 cur_objective = 5.52883\n",
      "fit loop14\n",
      "current_iter: 15 cur_objective = 5.52792\n",
      "fit loop15\n",
      "current_iter: 16 cur_objective = 5.52773\n",
      "fit loop16\n",
      "current_iter: 17 cur_objective = 5.52769\n",
      "fit loop17\n",
      "current_iter: 18 cur_objective = 5.52768\n",
      "fit loop18\n",
      "current_iter: 19 cur_objective = 5.52768\n",
      "gl0Learn found solution with 3 non-zeros with parameters:\n",
      "\t l0 = 0.1324488501995802)\n",
      "\t cost = -1\n",
      "gL0LearnFit 1\n",
      "gL0LearnFit 2\n",
      "gL0LearnFit 2\n",
      "fit 1\n",
      "fit loop0\n",
      "current_iter: 1 cur_objective = 5.82604\n",
      "fit loop1\n",
      "current_iter: 2 cur_objective = 5.82604\n",
      "fit loop2\n",
      "current_iter: 3 cur_objective = 5.58467\n",
      "fit loop3\n",
      "current_iter: 4 cur_objective = 5.57603\n",
      "fit loop4\n",
      "current_iter: 5 cur_objective = 5.57538\n",
      "fit loop5\n",
      "current_iter: 6 cur_objective = 5.57532\n",
      "fit loop6\n",
      "current_iter: 7 cur_objective = 5.57532\n",
      "gl0Learn found solution with 1 non-zeros with parameters:\n",
      "\t l0 = 0.13244885485619307)\n",
      "\t cost = 1\n",
      "gL0LearnFit 1\n",
      "gL0LearnFit 2\n",
      "gL0LearnFit 2\n",
      "fit 1\n",
      "fit loop0\n",
      "current_iter: 1 cur_objective = 5.82604\n",
      "fit loop1\n",
      "current_iter: 2 cur_objective = 5.82604\n",
      "fit loop2\n",
      "current_iter: 3 cur_objective = 5.58467\n",
      "fit loop3\n",
      "current_iter: 4 cur_objective = 5.57603\n",
      "fit loop4\n",
      "current_iter: 5 cur_objective = 5.57538\n",
      "fit loop5\n",
      "current_iter: 6 cur_objective = 5.57532\n",
      "fit loop6\n",
      "current_iter: 7 cur_objective = 5.57532\n",
      "gl0Learn found solution with 1 non-zeros with parameters:\n",
      "\t l0 = 0.13244885252788663)\n",
      "\t cost = 1\n",
      "gL0LearnFit 1\n",
      "gL0LearnFit 2\n",
      "gL0LearnFit 2\n",
      "fit 1\n",
      "fit loop0\n",
      "current_iter: 1 cur_objective = 5.82604\n",
      "fit loop1\n",
      "current_iter: 2 cur_objective = 5.82604\n",
      "fit loop2\n",
      "current_iter: 3 cur_objective = 5.58467\n",
      "fit loop3\n",
      "current_iter: 4 cur_objective = 5.57603\n",
      "fit loop4\n",
      "current_iter: 5 cur_objective = 5.57538\n",
      "fit loop5\n",
      "current_iter: 6 cur_objective = 5.57532\n",
      "fit loop6\n",
      "current_iter: 7 cur_objective = 5.57532\n",
      "fit loop7\n",
      "current_iter: 8 cur_objective = 5.5727\n",
      "fit loop8\n",
      "current_iter: 9 cur_objective = 5.57094\n",
      "fit loop9\n",
      "current_iter: 10 cur_objective = 5.57075\n",
      "fit loop10\n",
      "current_iter: 11 cur_objective = 5.57073\n",
      "fit loop11\n",
      "current_iter: 12 cur_objective = 5.57073\n",
      "fit loop12\n",
      "current_iter: 13 cur_objective = 5.54346\n",
      "fit loop13\n",
      "current_iter: 14 cur_objective = 5.5307\n",
      "fit loop14\n",
      "current_iter: 15 cur_objective = 5.52817\n",
      "fit loop15\n",
      "current_iter: 16 cur_objective = 5.52777\n",
      "fit loop16\n",
      "current_iter: 17 cur_objective = 5.5277\n",
      "fit loop17\n",
      "current_iter: 18 cur_objective = 5.52768\n",
      "fit loop18\n",
      "current_iter: 19 cur_objective = 5.52768\n",
      "gl0Learn found solution with 3 non-zeros with parameters:\n",
      "\t l0 = 0.1324488513637334)\n",
      "\t cost = -1\n",
      "gL0LearnFit 1\n",
      "gL0LearnFit 2\n",
      "gL0LearnFit 2\n",
      "fit 1\n",
      "fit loop0\n",
      "current_iter: 1 cur_objective = 5.82604\n",
      "fit loop1\n",
      "current_iter: 2 cur_objective = 5.82604\n",
      "fit loop2\n",
      "current_iter: 3 cur_objective = 5.58467\n",
      "fit loop3\n",
      "current_iter: 4 cur_objective = 5.57603\n",
      "fit loop4\n",
      "current_iter: 5 cur_objective = 5.57538\n",
      "fit loop5\n",
      "current_iter: 6 cur_objective = 5.57532\n",
      "fit loop6\n",
      "current_iter: 7 cur_objective = 5.57532\n",
      "gl0Learn found solution with 1 non-zeros with parameters:\n",
      "\t l0 = 0.13244885194581002)\n",
      "\t cost = 1\n",
      "gL0LearnFit 1\n",
      "gL0LearnFit 2\n",
      "gL0LearnFit 2\n",
      "fit 1\n",
      "fit loop0\n",
      "current_iter: 1 cur_objective = 5.82604\n",
      "fit loop1\n",
      "current_iter: 2 cur_objective = 5.82604\n",
      "fit loop2\n",
      "current_iter: 3 cur_objective = 5.58467\n",
      "fit loop3\n",
      "current_iter: 4 cur_objective = 5.57603\n",
      "fit loop4\n",
      "current_iter: 5 cur_objective = 5.57538\n",
      "fit loop5\n",
      "current_iter: 6 cur_objective = 5.57532\n",
      "fit loop6\n",
      "current_iter: 7 cur_objective = 5.57532\n",
      "gl0Learn found solution with 1 non-zeros with parameters:\n",
      "\t l0 = 0.13244885165477172)\n",
      "\t cost = 1\n",
      "gL0LearnFit 1\n",
      "gL0LearnFit 2\n",
      "gL0LearnFit 2\n",
      "fit 1\n",
      "fit loop0\n",
      "current_iter: 1 cur_objective = 5.82604\n",
      "fit loop1\n",
      "current_iter: 2 cur_objective = 5.82604\n",
      "fit loop2\n",
      "current_iter: 3 cur_objective = 5.58467\n",
      "fit loop3\n",
      "current_iter: 4 cur_objective = 5.57603\n",
      "fit loop4\n",
      "current_iter: 5 cur_objective = 5.57538\n",
      "fit loop5\n",
      "current_iter: 6 cur_objective = 5.57532\n",
      "fit loop6\n",
      "current_iter: 7 cur_objective = 5.57532\n",
      "gl0Learn found solution with 1 non-zeros with parameters:\n",
      "\t l0 = 0.13244885150925256)\n",
      "\t cost = 1\n",
      "gL0LearnFit 1\n",
      "gL0LearnFit 2\n",
      "gL0LearnFit 2\n",
      "fit 1\n",
      "fit loop0\n",
      "current_iter: 1 cur_objective = 5.82604\n",
      "fit loop1\n",
      "current_iter: 2 cur_objective = 5.82604\n",
      "fit loop2\n",
      "current_iter: 3 cur_objective = 5.58467\n",
      "fit loop3\n",
      "current_iter: 4 cur_objective = 5.57603\n",
      "fit loop4\n",
      "current_iter: 5 cur_objective = 5.57538\n",
      "fit loop5\n",
      "current_iter: 6 cur_objective = 5.57532\n",
      "fit loop6\n",
      "current_iter: 7 cur_objective = 5.57532\n",
      "fit loop7\n",
      "current_iter: 8 cur_objective = 5.5727\n",
      "fit loop8\n",
      "current_iter: 9 cur_objective = 5.57094\n",
      "fit loop9\n",
      "current_iter: 10 cur_objective = 5.57075\n",
      "fit loop10\n",
      "current_iter: 11 cur_objective = 5.57073\n",
      "fit loop11\n",
      "current_iter: 12 cur_objective = 5.57073\n",
      "fit loop12\n",
      "current_iter: 13 cur_objective = 5.54346\n",
      "fit loop13\n",
      "current_iter: 14 cur_objective = 5.5298\n",
      "fit loop14\n",
      "current_iter: 15 cur_objective = 5.52807\n",
      "fit loop15\n",
      "current_iter: 16 cur_objective = 5.52776\n",
      "fit loop16\n",
      "current_iter: 17 cur_objective = 5.52769\n",
      "fit loop17\n",
      "current_iter: 18 cur_objective = 5.52768\n",
      "fit loop18\n",
      "current_iter: 19 cur_objective = 5.52768\n",
      "gl0Learn found solution with 3 non-zeros with parameters:\n",
      "\t l0 = 0.132448851436493)\n",
      "\t cost = -1\n",
      "gL0LearnFit 1\n",
      "gL0LearnFit 2\n",
      "gL0LearnFit 2\n",
      "fit 1\n",
      "fit loop0\n",
      "current_iter: 1 cur_objective = 5.82604\n",
      "fit loop1\n",
      "current_iter: 2 cur_objective = 5.82604\n",
      "fit loop2\n",
      "current_iter: 3 cur_objective = 5.58467\n",
      "fit loop3\n",
      "current_iter: 4 cur_objective = 5.57603\n",
      "fit loop4\n",
      "current_iter: 5 cur_objective = 5.57538\n",
      "fit loop5\n",
      "current_iter: 6 cur_objective = 5.57532\n",
      "fit loop6\n",
      "current_iter: 7 cur_objective = 5.57532\n",
      "fit loop7\n",
      "current_iter: 8 cur_objective = 5.5727\n",
      "fit loop8\n",
      "current_iter: 9 cur_objective = 5.57094\n",
      "fit loop9\n",
      "current_iter: 10 cur_objective = 5.57075\n",
      "fit loop10\n",
      "current_iter: 11 cur_objective = 5.57073\n",
      "fit loop11\n",
      "current_iter: 12 cur_objective = 5.57073\n",
      "fit loop12\n",
      "current_iter: 13 cur_objective = 5.54346\n",
      "fit loop13\n",
      "current_iter: 14 cur_objective = 5.53046\n",
      "fit loop14\n",
      "current_iter: 15 cur_objective = 5.52826\n",
      "fit loop15\n",
      "current_iter: 16 cur_objective = 5.5278\n",
      "fit loop16\n",
      "current_iter: 17 cur_objective = 5.5277\n",
      "fit loop17\n",
      "current_iter: 18 cur_objective = 5.52768\n",
      "fit loop18\n",
      "current_iter: 19 cur_objective = 5.52768\n",
      "gl0Learn found solution with 3 non-zeros with parameters:\n",
      "\t l0 = 0.13244885147287278)\n",
      "\t cost = -1\n",
      "gL0LearnFit 1\n",
      "gL0LearnFit 2\n",
      "gL0LearnFit 2\n",
      "fit 1\n",
      "fit loop0\n",
      "current_iter: 1 cur_objective = 5.82604\n",
      "fit loop1\n",
      "current_iter: 2 cur_objective = 5.82604\n",
      "fit loop2\n",
      "current_iter: 3 cur_objective = 5.58467\n",
      "fit loop3\n",
      "current_iter: 4 cur_objective = 5.57603\n",
      "fit loop4\n",
      "current_iter: 5 cur_objective = 5.57538\n",
      "fit loop5\n",
      "current_iter: 6 cur_objective = 5.57532\n",
      "fit loop6\n",
      "current_iter: 7 cur_objective = 5.57532\n",
      "gl0Learn found solution with 1 non-zeros with parameters:\n",
      "\t l0 = 0.13244885149106267)\n",
      "\t cost = 1\n",
      "gL0LearnFit 1\n",
      "gL0LearnFit 2\n",
      "gL0LearnFit 2\n",
      "fit 1\n",
      "fit loop0\n",
      "current_iter: 1 cur_objective = 5.82604\n",
      "fit loop1\n",
      "current_iter: 2 cur_objective = 5.82604\n",
      "fit loop2\n",
      "current_iter: 3 cur_objective = 5.58467\n",
      "fit loop3\n",
      "current_iter: 4 cur_objective = 5.57603\n",
      "fit loop4\n",
      "current_iter: 5 cur_objective = 5.57538\n",
      "fit loop5\n",
      "current_iter: 6 cur_objective = 5.57532\n",
      "fit loop6\n",
      "current_iter: 7 cur_objective = 5.57532\n",
      "fit loop7\n",
      "current_iter: 8 cur_objective = 5.57143\n",
      "fit loop8\n",
      "current_iter: 9 cur_objective = 5.57079\n",
      "fit loop9\n",
      "current_iter: 10 cur_objective = 5.57073\n",
      "fit loop10\n",
      "current_iter: 11 cur_objective = 5.57073\n",
      "fit loop11\n",
      "current_iter: 12 cur_objective = 5.57073\n",
      "fit loop12\n",
      "current_iter: 13 cur_objective = 5.53119\n",
      "fit loop13\n",
      "current_iter: 14 cur_objective = 5.52843\n",
      "fit loop14\n",
      "current_iter: 15 cur_objective = 5.52781\n",
      "fit loop15\n",
      "current_iter: 16 cur_objective = 5.5277\n",
      "fit loop16\n",
      "current_iter: 17 cur_objective = 5.52768\n",
      "fit loop17\n",
      "current_iter: 18 cur_objective = 5.52768\n",
      "gl0Learn found solution with 3 non-zeros with parameters:\n",
      "\t l0 = 0.13244885148196772)\n",
      "\t cost = -1\n",
      "gL0LearnFit 1\n",
      "gL0LearnFit 2\n",
      "gL0LearnFit 2\n",
      "fit 1\n",
      "fit loop0\n",
      "current_iter: 1 cur_objective = 5.82604\n",
      "fit loop1\n",
      "current_iter: 2 cur_objective = 5.82604\n",
      "fit loop2\n",
      "current_iter: 3 cur_objective = 5.58467\n",
      "fit loop3\n",
      "current_iter: 4 cur_objective = 5.57603\n",
      "fit loop4\n",
      "current_iter: 5 cur_objective = 5.57538\n",
      "fit loop5\n",
      "current_iter: 6 cur_objective = 5.57532\n",
      "fit loop6\n",
      "current_iter: 7 cur_objective = 5.57532\n",
      "fit loop7\n",
      "current_iter: 8 cur_objective = 5.5727\n",
      "fit loop8\n",
      "current_iter: 9 cur_objective = 5.57094\n",
      "fit loop9\n",
      "current_iter: 10 cur_objective = 5.57075\n",
      "fit loop10\n",
      "current_iter: 11 cur_objective = 5.57073\n",
      "fit loop11\n",
      "current_iter: 12 cur_objective = 5.57073\n",
      "fit loop12\n",
      "current_iter: 13 cur_objective = 5.54346\n",
      "fit loop13\n",
      "current_iter: 14 cur_objective = 5.52955\n",
      "fit loop14\n",
      "current_iter: 15 cur_objective = 5.52803\n",
      "fit loop15\n",
      "current_iter: 16 cur_objective = 5.52775\n",
      "fit loop16\n",
      "current_iter: 17 cur_objective = 5.52769\n",
      "fit loop17\n",
      "current_iter: 18 cur_objective = 5.52768\n",
      "fit loop18\n",
      "current_iter: 19 cur_objective = 5.52768\n",
      "gl0Learn found solution with 3 non-zeros with parameters:\n",
      "\t l0 = 0.1324488514865152)\n",
      "\t cost = -1\n",
      "gL0LearnFit 1\n",
      "gL0LearnFit 2\n",
      "gL0LearnFit 2\n",
      "fit 1\n",
      "fit loop0\n",
      "current_iter: 1 cur_objective = 5.82604\n",
      "fit loop1\n",
      "current_iter: 2 cur_objective = 5.82604\n",
      "fit loop2\n",
      "current_iter: 3 cur_objective = 5.58467\n",
      "fit loop3\n",
      "current_iter: 4 cur_objective = 5.57603\n",
      "fit loop4\n",
      "current_iter: 5 cur_objective = 5.57538\n",
      "fit loop5\n",
      "current_iter: 6 cur_objective = 5.57532\n",
      "fit loop6\n",
      "current_iter: 7 cur_objective = 5.57532\n",
      "gl0Learn found solution with 1 non-zeros with parameters:\n",
      "\t l0 = 0.13244885148878893)\n",
      "\t cost = 1\n",
      "gL0LearnFit 1\n",
      "gL0LearnFit 2\n",
      "gL0LearnFit 2\n",
      "fit 1\n",
      "fit loop0\n",
      "current_iter: 1 cur_objective = 5.82604\n",
      "fit loop1\n",
      "current_iter: 2 cur_objective = 5.82604\n",
      "fit loop2\n",
      "current_iter: 3 cur_objective = 5.58467\n",
      "fit loop3\n",
      "current_iter: 4 cur_objective = 5.57603\n",
      "fit loop4\n",
      "current_iter: 5 cur_objective = 5.57538\n",
      "fit loop5\n",
      "current_iter: 6 cur_objective = 5.57532\n",
      "fit loop6\n",
      "current_iter: 7 cur_objective = 5.57532\n",
      "gl0Learn found solution with 1 non-zeros with parameters:\n",
      "\t l0 = 0.13244885148765206)\n",
      "\t cost = 1\n"
     ]
    }
   ],
   "source": [
    "fixed_l2 = 0.01\n",
    "f = make_bisect_func(2, Y, l2=0.01, scale_x=False, max_active_set_size=10, initial_active_set=np.inf, super_active_set=0., algorithm='CD')\n",
    "opt_l0, r = bisect(f, a=0, b=10, full_output=True)"
   ]
  },
  {
   "cell_type": "code",
   "execution_count": 235,
   "metadata": {},
   "outputs": [
    {
     "data": {
      "text/plain": [
       "      converged: True\n",
       "           flag: 'converged'\n",
       " function_calls: 45\n",
       "     iterations: 43\n",
       "           root: 0.13244885148765206"
      ]
     },
     "execution_count": 235,
     "metadata": {},
     "output_type": "execute_result"
    }
   ],
   "source": [
    "r"
   ]
  },
  {
   "cell_type": "code",
   "execution_count": null,
   "metadata": {},
   "outputs": [],
   "source": []
  },
  {
   "cell_type": "code",
   "execution_count": 186,
   "metadata": {
    "collapsed": false,
    "jupyter": {
     "outputs_hidden": false
    },
    "pycharm": {
     "name": "#%%\n"
    }
   },
   "outputs": [
    {
     "name": "stdout",
     "output_type": "stream",
     "text": [
      "gL0LearnFit 1\n",
      "gL0LearnFit 2\n",
      "gL0LearnFit 2\n",
      "fitpsi called \n",
      "fit 1\n",
      "fit loop0\n",
      "current_iter: 1 cur_objective = 5.82604\n",
      "fit loop1\n",
      "current_iter: 2 cur_objective = 5.82604\n",
      "fit loop2\n",
      "current_iter: 3 cur_objective = 5.07144\n",
      "fit loop3\n",
      "current_iter: 4 cur_objective = 4.9977\n",
      "fit loop4\n",
      "current_iter: 5 cur_objective = 4.98545\n",
      "fit loop5\n",
      "current_iter: 6 cur_objective = 4.9831\n",
      "fit loop6\n",
      "current_iter: 7 cur_objective = 4.9826\n",
      "fit loop7\n",
      "current_iter: 8 cur_objective = 4.98251\n",
      "fit loop8\n",
      "current_iter: 9 cur_objective = 4.98249\n",
      "fit loop9\n",
      "current_iter: 10 cur_objective = 4.98248\n",
      "fit loop10\n",
      "current_iter: 11 cur_objective = 4.9506\n",
      "fit loop11\n",
      "current_iter: 12 cur_objective = 4.95022\n",
      "fit loop12\n",
      "current_iter: 13 cur_objective = 4.95016\n",
      "fit loop13\n",
      "current_iter: 14 cur_objective = 4.95014\n",
      "fit loop14\n",
      "current_iter: 15 cur_objective = 4.95014\n",
      "Pre psi cost: 4.95014 \n",
      "PSI iter: 0 \n",
      "PSI iter: 0 Swapping row: 0\n",
      "psi_row_fit row =  0 \n",
      "selected super_active_set start =  {0, 1} \n",
      "selected super_active_set end =  {1, 2} \n",
      "zero_indices =          1\n",
      "        2\n",
      "        3\n",
      " \n",
      "non_zero_indices =          4\n",
      " \n",
      "Non Zero Index Loop: (0, 4) \n",
      "No swap for (0, 4) \n",
      "PSI iter: 0 Swapping row: 1\n",
      "psi_row_fit row =  1 \n",
      "selected super_active_set start =  {1, 2} \n",
      "selected super_active_set end =  {2, 3} \n",
      "PSI iter: 0 Swapping row: 2\n",
      "psi_row_fit row =  2 \n",
      "selected super_active_set start =  {2, 3} \n",
      "selected super_active_set end =  {3, 4} \n",
      "PSI iter: 0 Swapping row: 3\n",
      "psi_row_fit row =  3 \n",
      "selected super_active_set start =  {3, 4} \n",
      "selected super_active_set end =  {103824001880128, 28} \n"
     ]
    },
    {
     "data": {
      "text/plain": [
       "array([[ 0.98346772,  0.        ,  0.        , -0.        ,  0.06323082],\n",
       "       [ 0.        ,  1.07533387,  0.28315539,  0.13221527,  0.16325069],\n",
       "       [ 0.        ,  0.28315539,  0.98365381,  0.32496826,  0.31540576],\n",
       "       [-0.        ,  0.13221527,  0.32496826,  0.97484845,  0.48427529],\n",
       "       [ 0.06323082,  0.16325069,  0.31540576,  0.48427529,  1.06499503]])"
      ]
     },
     "execution_count": 186,
     "metadata": {},
     "output_type": "execute_result"
    }
   ],
   "source": [
    "# TODO: Why are we seeing this slight bias on CD l0?\n",
    "fit_cd = fit(Y, l0=opt_l0, l2=fixed_l2, scale_x=False, max_active_set_size=10, initial_active_set=np.inf, super_active_set=0., algorithm='CDPSI')\n",
    "fit_cd.theta"
   ]
  },
  {
   "cell_type": "code",
   "execution_count": 225,
   "metadata": {
    "collapsed": true,
    "jupyter": {
     "outputs_hidden": true
    },
    "tags": []
   },
   "outputs": [
    {
     "name": "stdout",
     "output_type": "stream",
     "text": [
      "gL0LearnFit 1\n",
      "gL0LearnFit 2\n",
      "gL0LearnFit 2\n",
      "fit 1\n",
      "fit loop0\n",
      "current_iter: 1 cur_objective = 5.82604\n",
      "fit loop1\n",
      "current_iter: 2 cur_objective = 5.82604\n",
      "fit loop2\n",
      "current_iter: 3 cur_objective = 5.03236\n",
      "fit loop3\n",
      "current_iter: 4 cur_objective = 4.93107\n",
      "fit loop4\n",
      "current_iter: 5 cur_objective = 4.91545\n",
      "fit loop5\n",
      "current_iter: 6 cur_objective = 4.9115\n",
      "fit loop6\n",
      "current_iter: 7 cur_objective = 4.91068\n",
      "fit loop7\n",
      "current_iter: 8 cur_objective = 4.9105\n",
      "fit loop8\n",
      "current_iter: 9 cur_objective = 4.91045\n",
      "fit loop9\n",
      "current_iter: 10 cur_objective = 4.91044\n",
      "fit loop10\n",
      "current_iter: 11 cur_objective = 4.91044\n",
      "gl0Learn found solution with 10 non-zeros with parameters:\n",
      "\t l0 = 0.0)\n",
      "\t cost = -2\n",
      "gL0LearnFit 1\n",
      "gL0LearnFit 2\n",
      "gL0LearnFit 2\n",
      "fit 1\n",
      "fit loop0\n",
      "current_iter: 1 cur_objective = 5.82604\n",
      "fit loop1\n",
      "current_iter: 2 cur_objective = 5.82604\n",
      "gl0Learn found solution with 0 non-zeros with parameters:\n",
      "\t l0 = 10.0)\n",
      "\t cost = 8\n",
      "gL0LearnFit 1\n",
      "gL0LearnFit 2\n",
      "gL0LearnFit 2\n",
      "fit 1\n",
      "fit loop0\n",
      "current_iter: 1 cur_objective = 5.82604\n",
      "fit loop1\n",
      "current_iter: 2 cur_objective = 5.82604\n",
      "gl0Learn found solution with 0 non-zeros with parameters:\n",
      "\t l0 = 5.0)\n",
      "\t cost = 8\n",
      "gL0LearnFit 1\n",
      "gL0LearnFit 2\n",
      "gL0LearnFit 2\n",
      "fit 1\n",
      "fit loop0\n",
      "current_iter: 1 cur_objective = 5.82604\n",
      "fit loop1\n",
      "current_iter: 2 cur_objective = 5.82604\n",
      "gl0Learn found solution with 0 non-zeros with parameters:\n",
      "\t l0 = 2.5)\n",
      "\t cost = 8\n",
      "gL0LearnFit 1\n",
      "gL0LearnFit 2\n",
      "gL0LearnFit 2\n",
      "fit 1\n",
      "fit loop0\n",
      "current_iter: 1 cur_objective = 5.82604\n",
      "fit loop1\n",
      "current_iter: 2 cur_objective = 5.82604\n",
      "gl0Learn found solution with 0 non-zeros with parameters:\n",
      "\t l0 = 1.25)\n",
      "\t cost = 8\n",
      "gL0LearnFit 1\n",
      "gL0LearnFit 2\n",
      "gL0LearnFit 2\n",
      "fit 1\n",
      "fit loop0\n",
      "current_iter: 1 cur_objective = 5.82604\n",
      "fit loop1\n",
      "current_iter: 2 cur_objective = 5.82604\n",
      "gl0Learn found solution with 0 non-zeros with parameters:\n",
      "\t l0 = 0.625)\n",
      "\t cost = 8\n",
      "gL0LearnFit 1\n",
      "gL0LearnFit 2\n",
      "gL0LearnFit 2\n",
      "fit 1\n",
      "fit loop0\n",
      "current_iter: 1 cur_objective = 5.82604\n",
      "fit loop1\n",
      "current_iter: 2 cur_objective = 5.82604\n",
      "fit loop2\n",
      "current_iter: 3 cur_objective = 5.76472\n",
      "fit loop3\n",
      "current_iter: 4 cur_objective = 5.75608\n",
      "fit loop4\n",
      "current_iter: 5 cur_objective = 5.75543\n",
      "fit loop5\n",
      "current_iter: 6 cur_objective = 5.75537\n",
      "fit loop6\n",
      "current_iter: 7 cur_objective = 5.75537\n",
      "gl0Learn found solution with 1 non-zeros with parameters:\n",
      "\t l0 = 0.3125)\n",
      "\t cost = 7\n",
      "gL0LearnFit 1\n",
      "gL0LearnFit 2\n",
      "gL0LearnFit 2\n",
      "fit 1\n",
      "fit loop0\n",
      "current_iter: 1 cur_objective = 5.82604\n",
      "fit loop1\n",
      "current_iter: 2 cur_objective = 5.82604\n",
      "fit loop2\n",
      "current_iter: 3 cur_objective = 5.60847\n",
      "fit loop3\n",
      "current_iter: 4 cur_objective = 5.59983\n",
      "fit loop4\n",
      "current_iter: 5 cur_objective = 5.59918\n",
      "fit loop5\n",
      "current_iter: 6 cur_objective = 5.59912\n",
      "fit loop6\n",
      "current_iter: 7 cur_objective = 5.59912\n",
      "gl0Learn found solution with 1 non-zeros with parameters:\n",
      "\t l0 = 0.15625)\n",
      "\t cost = 7\n",
      "gL0LearnFit 1\n",
      "gL0LearnFit 2\n",
      "gL0LearnFit 2\n",
      "fit 1\n",
      "fit loop0\n",
      "current_iter: 1 cur_objective = 5.82604\n",
      "fit loop1\n",
      "current_iter: 2 cur_objective = 5.82604\n",
      "fit loop2\n",
      "current_iter: 3 cur_objective = 5.44238\n",
      "fit loop3\n",
      "current_iter: 4 cur_objective = 5.42266\n",
      "fit loop4\n",
      "current_iter: 5 cur_objective = 5.42073\n",
      "fit loop5\n",
      "current_iter: 6 cur_objective = 5.42053\n",
      "fit loop6\n",
      "current_iter: 7 cur_objective = 5.4205\n",
      "fit loop7\n",
      "current_iter: 8 cur_objective = 5.4205\n",
      "fit loop8\n",
      "current_iter: 9 cur_objective = 5.31739\n",
      "fit loop9\n",
      "current_iter: 10 cur_objective = 5.31073\n",
      "fit loop10\n",
      "current_iter: 11 cur_objective = 5.30957\n",
      "fit loop11\n",
      "current_iter: 12 cur_objective = 5.30934\n",
      "fit loop12\n",
      "current_iter: 13 cur_objective = 5.3093\n",
      "fit loop13\n",
      "current_iter: 14 cur_objective = 5.30929\n",
      "fit loop14\n",
      "current_iter: 15 cur_objective = 5.30929\n",
      "gl0Learn found solution with 4 non-zeros with parameters:\n",
      "\t l0 = 0.078125)\n",
      "\t cost = 4\n",
      "gL0LearnFit 1\n",
      "gL0LearnFit 2\n",
      "gL0LearnFit 2\n",
      "fit 1\n",
      "fit loop0\n",
      "current_iter: 1 cur_objective = 5.82604\n",
      "fit loop1\n",
      "current_iter: 2 cur_objective = 5.82604\n",
      "fit loop2\n",
      "current_iter: 3 cur_objective = 5.22058\n",
      "fit loop3\n",
      "current_iter: 4 cur_objective = 5.16398\n",
      "fit loop4\n",
      "current_iter: 5 cur_objective = 5.15523\n",
      "fit loop5\n",
      "current_iter: 6 cur_objective = 5.15352\n",
      "fit loop6\n",
      "current_iter: 7 cur_objective = 5.15314\n",
      "fit loop7\n",
      "current_iter: 8 cur_objective = 5.15306\n",
      "fit loop8\n",
      "current_iter: 9 cur_objective = 5.15304\n",
      "fit loop9\n",
      "current_iter: 10 cur_objective = 5.15304\n",
      "gl0Learn found solution with 4 non-zeros with parameters:\n",
      "\t l0 = 0.0390625)\n",
      "\t cost = 4\n",
      "gL0LearnFit 1\n",
      "gL0LearnFit 2\n",
      "gL0LearnFit 2\n",
      "fit 1\n",
      "fit loop0\n",
      "current_iter: 1 cur_objective = 5.82604\n",
      "fit loop1\n",
      "current_iter: 2 cur_objective = 5.82604\n",
      "fit loop2\n",
      "current_iter: 3 cur_objective = 5.1514\n",
      "fit loop3\n",
      "current_iter: 4 cur_objective = 5.08755\n",
      "fit loop4\n",
      "current_iter: 5 cur_objective = 5.07749\n",
      "fit loop5\n",
      "current_iter: 6 cur_objective = 5.07539\n",
      "fit loop6\n",
      "current_iter: 7 cur_objective = 5.075\n",
      "fit loop7\n",
      "current_iter: 8 cur_objective = 5.07493\n",
      "fit loop8\n",
      "current_iter: 9 cur_objective = 5.07492\n",
      "fit loop9\n",
      "current_iter: 10 cur_objective = 5.07491\n",
      "fit loop10\n",
      "current_iter: 11 cur_objective = 5.06038\n",
      "fit loop11\n",
      "current_iter: 12 cur_objective = 5.05995\n",
      "fit loop12\n",
      "current_iter: 13 cur_objective = 5.05992\n",
      "fit loop13\n",
      "current_iter: 14 cur_objective = 5.05991\n",
      "fit loop14\n",
      "current_iter: 15 cur_objective = 5.04518\n",
      "fit loop15\n",
      "current_iter: 16 cur_objective = 5.04253\n",
      "fit loop16\n",
      "current_iter: 17 cur_objective = 5.0422\n",
      "fit loop17\n",
      "current_iter: 18 cur_objective = 5.04215\n",
      "fit loop18\n",
      "current_iter: 19 cur_objective = 5.04214\n",
      "fit loop19\n",
      "current_iter: 20 cur_objective = 5.04214\n",
      "gl0Learn found solution with 6 non-zeros with parameters:\n",
      "\t l0 = 0.01953125)\n",
      "\t cost = 2\n",
      "gL0LearnFit 1\n",
      "gL0LearnFit 2\n",
      "gL0LearnFit 2\n",
      "fit 1\n",
      "fit loop0\n",
      "current_iter: 1 cur_objective = 5.82604\n",
      "fit loop1\n",
      "current_iter: 2 cur_objective = 5.82604\n",
      "fit loop2\n",
      "current_iter: 3 cur_objective = 5.1181\n",
      "fit loop3\n",
      "current_iter: 4 cur_objective = 5.04665\n",
      "fit loop4\n",
      "current_iter: 5 cur_objective = 5.03782\n",
      "fit loop5\n",
      "current_iter: 6 cur_objective = 5.03628\n",
      "fit loop6\n",
      "current_iter: 7 cur_objective = 5.03593\n",
      "fit loop7\n",
      "current_iter: 8 cur_objective = 5.03587\n",
      "fit loop8\n",
      "current_iter: 9 cur_objective = 5.03585\n",
      "fit loop9\n",
      "current_iter: 10 cur_objective = 5.03585\n",
      "fit loop10\n",
      "current_iter: 11 cur_objective = 4.98745\n",
      "fit loop11\n",
      "current_iter: 12 cur_objective = 4.98388\n",
      "fit loop12\n",
      "current_iter: 13 cur_objective = 4.98361\n",
      "fit loop13\n",
      "current_iter: 14 cur_objective = 4.98356\n",
      "fit loop14\n",
      "current_iter: 15 cur_objective = 4.98354\n",
      "fit loop15\n",
      "current_iter: 16 cur_objective = 4.98354\n",
      "gl0Learn found solution with 6 non-zeros with parameters:\n",
      "\t l0 = 0.009765625)\n",
      "\t cost = 2\n",
      "gL0LearnFit 1\n",
      "gL0LearnFit 2\n",
      "gL0LearnFit 2\n",
      "fit 1\n",
      "fit loop0\n",
      "current_iter: 1 cur_objective = 5.82604\n",
      "fit loop1\n",
      "current_iter: 2 cur_objective = 5.82604\n",
      "fit loop2\n",
      "current_iter: 3 cur_objective = 5.07692\n",
      "fit loop3\n",
      "current_iter: 4 cur_objective = 4.99764\n",
      "fit loop4\n",
      "current_iter: 5 cur_objective = 4.98579\n",
      "fit loop5\n",
      "current_iter: 6 cur_objective = 4.98305\n",
      "fit loop6\n",
      "current_iter: 7 cur_objective = 4.98261\n",
      "fit loop7\n",
      "current_iter: 8 cur_objective = 4.98251\n",
      "fit loop8\n",
      "current_iter: 9 cur_objective = 4.98249\n",
      "fit loop9\n",
      "current_iter: 10 cur_objective = 4.98248\n",
      "fit loop10\n",
      "current_iter: 11 cur_objective = 4.95317\n",
      "fit loop11\n",
      "current_iter: 12 cur_objective = 4.95043\n",
      "fit loop12\n",
      "current_iter: 13 cur_objective = 4.9502\n",
      "fit loop13\n",
      "current_iter: 14 cur_objective = 4.95016\n",
      "fit loop14\n",
      "current_iter: 15 cur_objective = 4.95014\n",
      "fit loop15\n",
      "current_iter: 16 cur_objective = 4.95014\n",
      "gl0Learn found solution with 7 non-zeros with parameters:\n",
      "\t l0 = 0.0048828125)\n",
      "\t cost = 1\n",
      "gL0LearnFit 1\n",
      "gL0LearnFit 2\n",
      "gL0LearnFit 2\n",
      "fit 1\n",
      "fit loop0\n",
      "current_iter: 1 cur_objective = 5.82604\n",
      "fit loop1\n",
      "current_iter: 2 cur_objective = 5.82604\n",
      "fit loop2\n",
      "current_iter: 3 cur_objective = 5.04846\n",
      "fit loop3\n",
      "current_iter: 4 cur_objective = 4.98091\n",
      "fit loop4\n",
      "current_iter: 5 cur_objective = 4.96912\n",
      "fit loop5\n",
      "current_iter: 6 cur_objective = 4.9666\n",
      "fit loop6\n",
      "current_iter: 7 cur_objective = 4.96611\n",
      "fit loop7\n",
      "current_iter: 8 cur_objective = 4.96601\n",
      "fit loop8\n",
      "current_iter: 9 cur_objective = 4.96599\n",
      "fit loop9\n",
      "current_iter: 10 cur_objective = 4.96599\n",
      "fit loop10\n",
      "current_iter: 11 cur_objective = 4.93231\n",
      "fit loop11\n",
      "current_iter: 12 cur_objective = 4.93114\n",
      "fit loop12\n",
      "current_iter: 13 cur_objective = 4.93102\n",
      "fit loop13\n",
      "current_iter: 14 cur_objective = 4.93099\n",
      "fit loop14\n",
      "current_iter: 15 cur_objective = 4.93099\n",
      "fit loop15\n",
      "current_iter: 16 cur_objective = 4.93099\n",
      "gl0Learn found solution with 8 non-zeros with parameters:\n",
      "\t l0 = 0.00244140625)\n",
      "\t cost = 0\n",
      "gL0LearnFit 1\n",
      "gL0LearnFit 2\n",
      "gL0LearnFit 2\n",
      "fit 1\n",
      "fit loop0\n",
      "current_iter: 1 cur_objective = 5.82604\n",
      "fit loop1\n",
      "current_iter: 2 cur_objective = 5.82604\n",
      "fit loop2\n",
      "current_iter: 3 cur_objective = 5.04446\n",
      "fit loop3\n",
      "current_iter: 4 cur_objective = 4.97953\n",
      "fit loop4\n",
      "current_iter: 5 cur_objective = 4.96849\n",
      "fit loop5\n",
      "current_iter: 6 cur_objective = 4.96652\n",
      "fit loop6\n",
      "current_iter: 7 cur_objective = 4.9661\n",
      "fit loop7\n",
      "current_iter: 8 cur_objective = 4.96601\n",
      "fit loop8\n",
      "current_iter: 9 cur_objective = 4.96599\n",
      "fit loop9\n",
      "current_iter: 10 cur_objective = 4.96599\n",
      "fit loop10\n",
      "current_iter: 11 cur_objective = 4.96599\n",
      "fit loop11\n",
      "current_iter: 12 cur_objective = 4.93443\n",
      "fit loop12\n",
      "current_iter: 13 cur_objective = 4.93147\n",
      "fit loop13\n",
      "current_iter: 14 cur_objective = 4.93109\n",
      "fit loop14\n",
      "current_iter: 15 cur_objective = 4.93101\n",
      "fit loop15\n",
      "current_iter: 16 cur_objective = 4.93099\n",
      "fit loop16\n",
      "current_iter: 17 cur_objective = 4.93099\n"
     ]
    }
   ],
   "source": [
    "theta_truth, x = _sample_data()\n",
    "\n",
    "from scipy.optimize import bisect\n",
    "\n",
    "fixed_l2 = 0.01\n",
    "_, _, _, _, Y, _ = synthetic.preprocess(x, assume_centered=False, cholesky=True)\n",
    "f = make_bisect_func(8, Y, l2=fixed_l2, scale_x=False, max_active_set_size=10, initial_active_set=np.inf,\n",
    "                     super_active_set=0.)\n",
    "opt_l0 = bisect(f, a=0, b=10)\n",
    "\n",
    "results = fit(Y, l0=opt_l0, l2=fixed_l2, scale_x=False, max_active_set_size=10, initial_active_set=np.inf,\n",
    "              super_active_set=0.)\n",
    "theta = results.theta"
   ]
  },
  {
   "cell_type": "code",
   "execution_count": 226,
   "metadata": {},
   "outputs": [
    {
     "data": {
      "text/plain": [
       "array([[ 0.98708951,  0.        ,  0.        , -0.04409201,  0.05227623],\n",
       "       [ 0.        ,  1.07535383,  0.28317347,  0.13260801,  0.16326327],\n",
       "       [ 0.        ,  0.28317347,  0.98345263,  0.32467686,  0.31504568],\n",
       "       [-0.04409201,  0.13260801,  0.32467686,  0.97761037,  0.48311292],\n",
       "       [ 0.05227623,  0.16326327,  0.31504568,  0.48311292,  1.06277992]])"
      ]
     },
     "execution_count": 226,
     "metadata": {},
     "output_type": "execute_result"
    }
   ],
   "source": [
    "theta"
   ]
  },
  {
   "cell_type": "code",
   "execution_count": 227,
   "metadata": {},
   "outputs": [
    {
     "data": {
      "text/plain": [
       "array([[1.    , 0.    , 0.    , 0.    , 0.0625],\n",
       "       [0.    , 1.    , 0.25  , 0.125 , 0.1875],\n",
       "       [0.    , 0.25  , 1.    , 0.375 , 0.3125],\n",
       "       [0.    , 0.125 , 0.375 , 1.    , 0.4375],\n",
       "       [0.0625, 0.1875, 0.3125, 0.4375, 1.    ]])"
      ]
     },
     "execution_count": 227,
     "metadata": {},
     "output_type": "execute_result"
    }
   ],
   "source": [
    "theta_truth"
   ]
  },
  {
   "cell_type": "code",
   "execution_count": 224,
   "metadata": {},
   "outputs": [
    {
     "data": {
      "text/plain": [
       "array([ 0.        ,  0.        ,  0.28316425, -0.        ,  0.13230798,\n",
       "        0.32488579,  0.06323236,  0.16328137,  0.31544008,  0.48438003])"
      ]
     },
     "execution_count": 224,
     "metadata": {},
     "output_type": "execute_result"
    }
   ],
   "source": [
    "theta[np.tril_indices(5, k=-1)]"
   ]
  },
  {
   "cell_type": "markdown",
   "metadata": {
    "pycharm": {
     "name": "#%% md\n"
    }
   },
   "source": [
    "# What if we rearamnge theta so that CD algorithims hit the proper values first? Does it find the right values?"
   ]
  },
  {
   "cell_type": "code",
   "execution_count": 22,
   "metadata": {
    "collapsed": false,
    "jupyter": {
     "outputs_hidden": false
    },
    "pycharm": {
     "name": "#%%\n"
    }
   },
   "outputs": [],
   "source": [
    "theta_truth_tril = (1/8)*np.asarray([[8, 0, 0, 0, 1],\n",
    "                                     [0, 8, 4, 2, 3],\n",
    "                                     [0, 0, 8, 6, 5],\n",
    "                                     [0, 0, 0, 8, 7],\n",
    "                                     [0, 0, 0, 0, 8]])\n"
   ]
  },
  {
   "cell_type": "code",
   "execution_count": 23,
   "metadata": {
    "collapsed": false,
    "jupyter": {
     "outputs_hidden": false
    },
    "pycharm": {
     "name": "#%%\n"
    }
   },
   "outputs": [
    {
     "data": {
      "text/plain": [
       "array([[1.   , 0.875, 0.625, 0.375, 0.125],\n",
       "       [0.   , 1.   , 0.75 , 0.25 , 0.   ],\n",
       "       [0.   , 0.   , 1.   , 0.5  , 0.   ],\n",
       "       [0.   , 0.   , 0.   , 1.   , 0.   ],\n",
       "       [0.   , 0.   , 0.   , 0.   , 1.   ]])"
      ]
     },
     "execution_count": 23,
     "metadata": {},
     "output_type": "execute_result"
    }
   ],
   "source": [
    "theta_truth_tril[::-1,::-1].T"
   ]
  },
  {
   "cell_type": "code",
   "execution_count": 24,
   "metadata": {
    "collapsed": false,
    "jupyter": {
     "outputs_hidden": false
    },
    "pycharm": {
     "name": "#%%\n"
    }
   },
   "outputs": [],
   "source": [
    "N = 5\n",
    "mu2 = np.zeros(N)\n",
    "\n",
    "theta_truth_tril = (1/8)*np.asarray([[8, 0, 0, 0, 1],\n",
    "                                     [0, 8, 4, 2, 3],\n",
    "                                     [0, 0, 8, 6, 5],\n",
    "                                     [0, 0, 0, 8, 7],\n",
    "                                     [0, 0, 0, 0, 8]])\n",
    "\n",
    "theta_truth_tril = theta_truth_tril[::-1,::-1].T\n",
    "\n",
    "theta_truth2 = (theta_truth_tril + theta_truth_tril.T)/2\n",
    "\n",
    "rng = np.random.default_rng(1)\n",
    "x2 = rng.multivariate_normal(mu2, cov=np.linalg.inv(theta_truth2), size=1000)"
   ]
  },
  {
   "cell_type": "code",
   "execution_count": 25,
   "metadata": {
    "collapsed": false,
    "jupyter": {
     "outputs_hidden": false
    },
    "pycharm": {
     "name": "#%%\n"
    }
   },
   "outputs": [],
   "source": [
    "_, _, _,_,Y2,_ = synthetic.preprocess(x2, assume_centered = False, cholesky=True)\n",
    "default_theta_init2 = np.eye(N)\n",
    "M2 = np.max(np.abs(theta_truth*(1-default_theta_init)))"
   ]
  },
  {
   "cell_type": "code",
   "execution_count": 49,
   "metadata": {
    "collapsed": false,
    "jupyter": {
     "outputs_hidden": false
    },
    "pycharm": {
     "name": "#%%\n"
    }
   },
   "outputs": [
    {
     "name": "stdout",
     "output_type": "stream",
     "text": [
      "gL0LearnFit 1\n",
      "gL0LearnFit 2\n",
      "gL0LearnFit 2\n",
      "fitpsi called \n",
      "fit 1\n",
      "fit loop0\n",
      "current_iter: 1 cur_objective = 5.82135\n",
      "fit loop1\n",
      "current_iter: 2 cur_objective = 5.82135\n",
      "this->params.max_active_set_size = 3\n",
      "this->active_set.size() = 0\n",
      "n_to_keep = 3\n",
      "fit loop2\n",
      "current_iter: 3 cur_objective = 5.3114\n",
      "fit loop3\n",
      "current_iter: 4 cur_objective = 5.29768\n",
      "fit loop4\n",
      "current_iter: 5 cur_objective = 5.29669\n",
      "fit loop5\n",
      "current_iter: 6 cur_objective = 5.29661\n",
      "fit loop6\n",
      "current_iter: 7 cur_objective = 5.2966\n",
      "fit loop7\n",
      "current_iter: 8 cur_objective = 5.2966\n",
      "this->params.max_active_set_size = 3\n",
      "this->active_set.size() = 3\n",
      "n_to_keep = 0\n",
      "Pre psi cost: 5.2966 \n",
      "PSI iter: 0 \n",
      "PSI iter: 0 Swapping row: 0\n",
      "psi_row_fit row =  0 \n",
      "selected super_active_set start =  {0, 1} \n",
      "selected super_active_set end =  {1, 2} \n",
      "zero_indices =          2\n",
      "        3\n",
      "        4\n",
      " \n",
      "non_zero_indices =          1\n",
      " \n",
      "Non Zero Index Loop: (0, 1) \n",
      "No swap for (0, 1) \n",
      "PSI iter: 0 Swapping row: 1\n",
      "psi_row_fit row =  1 \n",
      "selected super_active_set start =  {1, 2} \n",
      "selected super_active_set end =  {2, 3} \n",
      "zero_indices =          3\n",
      "        4\n",
      " \n",
      "non_zero_indices =          2\n",
      " \n",
      "Non Zero Index Loop: (1, 2) \n",
      "No swap for (1, 2) \n",
      "PSI iter: 0 Swapping row: 2\n",
      "psi_row_fit row =  2 \n",
      "selected super_active_set start =  {2, 3} \n",
      "selected super_active_set end =  {3, 4} \n",
      "zero_indices =          4\n",
      " \n",
      "non_zero_indices =          3\n",
      " \n",
      "Non Zero Index Loop: (2, 3) \n",
      "No swap for (2, 3) \n",
      "PSI iter: 0 Swapping row: 3\n",
      "psi_row_fit row =  3 \n",
      "selected super_active_set start =  {3, 4} \n",
      "selected super_active_set end =  {103824001866784, 50} \n"
     ]
    },
    {
     "data": {
      "text/plain": [
       "array([[0.88394604, 0.33252268, 0.        , 0.        , 0.        ],\n",
       "       [0.33252268, 0.90349329, 0.28146035, 0.        , 0.        ],\n",
       "       [0.        , 0.28146035, 0.98315176, 0.16799348, 0.        ],\n",
       "       [0.        , 0.        , 0.16799348, 1.00246288, 0.        ],\n",
       "       [0.        , 0.        , 0.        , 0.        , 0.94224434]])"
      ]
     },
     "execution_count": 49,
     "metadata": {},
     "output_type": "execute_result"
    }
   ],
   "source": [
    "# TODO: Why are we seeing this slight bias on CD l0?\n",
    "fit_cd = fit(Y2, l0=0, l2=fixed_l2, scale_x=False, max_active_set_size=3, initial_active_set=np.inf, super_active_set=0., algorithm=\"CDPSI\")\n",
    "fit_cd.theta"
   ]
  },
  {
   "cell_type": "code",
   "execution_count": 50,
   "metadata": {},
   "outputs": [
    {
     "data": {
      "text/plain": [
       "array([[1.    , 0.4375, 0.3125, 0.1875, 0.0625],\n",
       "       [0.4375, 1.    , 0.375 , 0.125 , 0.    ],\n",
       "       [0.3125, 0.375 , 1.    , 0.25  , 0.    ],\n",
       "       [0.1875, 0.125 , 0.25  , 1.    , 0.    ],\n",
       "       [0.0625, 0.    , 0.    , 0.    , 1.    ]])"
      ]
     },
     "execution_count": 50,
     "metadata": {},
     "output_type": "execute_result"
    }
   ],
   "source": [
    "theta_truth2"
   ]
  },
  {
   "cell_type": "code",
   "execution_count": 27,
   "metadata": {
    "collapsed": false,
    "jupyter": {
     "outputs_hidden": false
    },
    "pycharm": {
     "name": "#%%\n"
    }
   },
   "outputs": [
    {
     "name": "stdout",
     "output_type": "stream",
     "text": [
      "gL0LearnFit 1\n",
      "gL0LearnFit 2\n",
      "gL0LearnFit 2\n",
      "fit 1\n",
      "fit loop0\n",
      "current_iter: 1 cur_objective = 5.83348\n",
      "fit loop1\n",
      "current_iter: 2 cur_objective = 5.83348\n",
      "this->params.max_active_set_size = 2\n",
      "this->active_set.size() = 0\n",
      "n_to_keep = 2\n",
      "fit loop2\n",
      "current_iter: 3 cur_objective = 5.34914\n",
      "fit loop3\n",
      "current_iter: 4 cur_objective = 5.34021\n",
      "fit loop4\n",
      "current_iter: 5 cur_objective = 5.33955\n",
      "fit loop5\n",
      "current_iter: 6 cur_objective = 5.3395\n",
      "fit loop6\n",
      "current_iter: 7 cur_objective = 5.33949\n",
      "this->params.max_active_set_size = 2\n",
      "this->active_set.size() = 2\n",
      "n_to_keep = 0\n"
     ]
    }
   ],
   "source": [
    "results = fit(x, l0=0, scale_x=True, max_active_set_size=2, initial_active_set=np.inf, super_active_set=0.)\n",
    "\n",
    "theta_truth_copy = np.copy(theta_truth)\n",
    "np.fill_diagonal(theta_truth_copy, 0)\n",
    "i0, j0 = np.unravel_index(np.argmax(theta_truth_copy), theta_truth_copy.shape)"
   ]
  },
  {
   "cell_type": "code",
   "execution_count": 28,
   "metadata": {
    "collapsed": false,
    "jupyter": {
     "outputs_hidden": false
    },
    "pycharm": {
     "name": "#%%\n"
    }
   },
   "outputs": [
    {
     "data": {
      "text/plain": [
       "array([[0.97754908, 0.        , 0.        , 0.        , 0.        ],\n",
       "       [0.        , 1.04489167, 0.21993293, 0.        , 0.        ],\n",
       "       [0.        , 0.21993293, 0.84492731, 0.        , 0.        ],\n",
       "       [0.        , 0.        , 0.        , 0.86428477, 0.37798077],\n",
       "       [0.        , 0.        , 0.        , 0.37798077, 0.95401447]])"
      ]
     },
     "execution_count": 28,
     "metadata": {},
     "output_type": "execute_result"
    }
   ],
   "source": [
    "results.theta"
   ]
  },
  {
   "cell_type": "code",
   "execution_count": 29,
   "metadata": {
    "collapsed": false,
    "jupyter": {
     "outputs_hidden": false
    },
    "pycharm": {
     "name": "#%%\n"
    }
   },
   "outputs": [
    {
     "data": {
      "text/plain": [
       "array([[1.    , 0.    , 0.    , 0.    , 0.0625],\n",
       "       [0.    , 1.    , 0.25  , 0.125 , 0.1875],\n",
       "       [0.    , 0.25  , 1.    , 0.375 , 0.3125],\n",
       "       [0.    , 0.125 , 0.375 , 1.    , 0.4375],\n",
       "       [0.0625, 0.1875, 0.3125, 0.4375, 1.    ]])"
      ]
     },
     "execution_count": 29,
     "metadata": {},
     "output_type": "execute_result"
    }
   ],
   "source": [
    "theta_truth"
   ]
  },
  {
   "cell_type": "code",
   "execution_count": 30,
   "metadata": {
    "collapsed": false,
    "jupyter": {
     "outputs_hidden": false
    },
    "pycharm": {
     "name": "#%%\n"
    }
   },
   "outputs": [
    {
     "ename": "NameError",
     "evalue": "name 'i1' is not defined",
     "output_type": "error",
     "traceback": [
      "\u001b[0;31m---------------------------------------------------------------------------\u001b[0m",
      "\u001b[0;31mNameError\u001b[0m                                 Traceback (most recent call last)",
      "\u001b[0;32m/var/folders/xq/mwcnpp0j5ls5jjcyx7nsdwyh0000gn/T/ipykernel_75578/893966145.py\u001b[0m in \u001b[0;36m<module>\u001b[0;34m\u001b[0m\n\u001b[0;32m----> 1\u001b[0;31m \u001b[0mresults\u001b[0m\u001b[0;34m.\u001b[0m\u001b[0mtheta\u001b[0m\u001b[0;34m[\u001b[0m\u001b[0mi0\u001b[0m\u001b[0;34m,\u001b[0m \u001b[0mj0\u001b[0m\u001b[0;34m]\u001b[0m \u001b[0;34m>\u001b[0m \u001b[0mresults\u001b[0m\u001b[0;34m.\u001b[0m\u001b[0mtheta\u001b[0m\u001b[0;34m[\u001b[0m\u001b[0mi1\u001b[0m\u001b[0;34m,\u001b[0m \u001b[0mj1\u001b[0m\u001b[0;34m]\u001b[0m\u001b[0;34m\u001b[0m\u001b[0;34m\u001b[0m\u001b[0m\n\u001b[0m",
      "\u001b[0;31mNameError\u001b[0m: name 'i1' is not defined"
     ]
    }
   ],
   "source": [
    "results.theta[i0, j0] > results.theta[i1, j1]"
   ]
  },
  {
   "cell_type": "code",
   "execution_count": null,
   "metadata": {
    "collapsed": false,
    "jupyter": {
     "outputs_hidden": false
    },
    "pycharm": {
     "name": "#%%\n"
    }
   },
   "outputs": [],
   "source": [
    "results.theta[i1, j1]"
   ]
  },
  {
   "cell_type": "code",
   "execution_count": null,
   "metadata": {
    "collapsed": false,
    "jupyter": {
     "outputs_hidden": false
    },
    "pycharm": {
     "name": "#%%\n"
    }
   },
   "outputs": [],
   "source": [
    "np.mean(theta_truth_copy)"
   ]
  },
  {
   "cell_type": "code",
   "execution_count": null,
   "metadata": {
    "collapsed": false,
    "jupyter": {
     "outputs_hidden": false
    },
    "pycharm": {
     "name": "#%%\n"
    }
   },
   "outputs": [],
   "source": [
    "results = fit(x, l0=0, scale_x=True, max_active_set_size=1, initial_active_set=np.inf, super_active_set=0.)"
   ]
  },
  {
   "cell_type": "code",
   "execution_count": null,
   "metadata": {
    "collapsed": false,
    "jupyter": {
     "outputs_hidden": false
    },
    "pycharm": {
     "name": "#%%\n"
    }
   },
   "outputs": [],
   "source": [
    "results.active_set_size"
   ]
  },
  {
   "cell_type": "code",
   "execution_count": null,
   "metadata": {
    "collapsed": false,
    "jupyter": {
     "outputs_hidden": false
    },
    "pycharm": {
     "name": "#%%\n"
    }
   },
   "outputs": [],
   "source": [
    "results.theta"
   ]
  },
  {
   "cell_type": "code",
   "execution_count": null,
   "metadata": {
    "collapsed": false,
    "jupyter": {
     "outputs_hidden": false
    },
    "pycharm": {
     "name": "#%%\n"
    }
   },
   "outputs": [],
   "source": [
    "theta_init = np.diag(np.diag(theta_truth))\n",
    "theta_init[0, 1] = theta_init[1, 0] = theta_truth[0, 1]\n",
    "theta_init[1, 2] = theta_init[2, 1] = theta_truth[1, 2]\n",
    "\n",
    "initial_active_set = np.asarray([[0, 1], [0, 2], [1, 2], [1, 3]])\n",
    "initial_super_active_set = np.asarray([[0, 1], [0, 2], [0, 3], [1, 2], [1, 3], [1, 4]])\n",
    "\n",
    "results = fit(x, l0=0.01, scale_x=True, theta_init=theta_init, initial_active_set=initial_active_set,\n",
    "              super_active_set=initial_super_active_set, max_active_set_size=5)"
   ]
  },
  {
   "cell_type": "code",
   "execution_count": null,
   "metadata": {
    "collapsed": false,
    "jupyter": {
     "outputs_hidden": false
    },
    "pycharm": {
     "name": "#%%\n"
    }
   },
   "outputs": [],
   "source": [
    "theta_truth"
   ]
  },
  {
   "cell_type": "code",
   "execution_count": null,
   "metadata": {
    "collapsed": false,
    "jupyter": {
     "outputs_hidden": false
    },
    "pycharm": {
     "name": "#%%\n"
    }
   },
   "outputs": [],
   "source": [
    "results.theta"
   ]
  },
  {
   "cell_type": "code",
   "execution_count": null,
   "metadata": {
    "collapsed": false,
    "jupyter": {
     "outputs_hidden": false
    },
    "pycharm": {
     "name": "#%%\n"
    }
   },
   "outputs": [],
   "source": [
    "def insert_values_by_coords(x, coords, values):\n",
    "    x = np.copy(x)\n",
    "    x[coords[:, 0], coords[:, 1]] = values\n",
    "    return x"
   ]
  },
  {
   "cell_type": "code",
   "execution_count": null,
   "metadata": {
    "collapsed": false,
    "jupyter": {
     "outputs_hidden": false
    },
    "pycharm": {
     "name": "#%%\n"
    }
   },
   "outputs": [],
   "source": [
    "spy_theta = np.eye(5)\n",
    "spy_theta = insert_values_by_coords(spy_theta, initial_super_active_set, 1)"
   ]
  },
  {
   "cell_type": "code",
   "execution_count": null,
   "metadata": {
    "collapsed": false,
    "jupyter": {
     "outputs_hidden": false
    },
    "pycharm": {
     "name": "#%%\n"
    }
   },
   "outputs": [],
   "source": [
    "spy_theta"
   ]
  },
  {
   "cell_type": "code",
   "execution_count": null,
   "metadata": {
    "collapsed": false,
    "jupyter": {
     "outputs_hidden": false
    },
    "pycharm": {
     "name": "#%%\n"
    }
   },
   "outputs": [],
   "source": [
    "results.theta"
   ]
  },
  {
   "cell_type": "code",
   "execution_count": null,
   "metadata": {
    "collapsed": false,
    "jupyter": {
     "outputs_hidden": false
    },
    "pycharm": {
     "name": "#%%\n"
    }
   },
   "outputs": [],
   "source": [
    "theta_truth"
   ]
  },
  {
   "cell_type": "code",
   "execution_count": null,
   "metadata": {
    "collapsed": false,
    "jupyter": {
     "outputs_hidden": false
    },
    "pycharm": {
     "name": "#%%\n"
    }
   },
   "outputs": [],
   "source": [
    "_, _, _,_,Y,_ = synthetic.preprocess(x, assume_centered = False, cholesky=True)\n",
    "M = np.max(np.abs(theta_truth*(1-np.eye(5))))"
   ]
  },
  {
   "cell_type": "code",
   "execution_count": null,
   "metadata": {
    "collapsed": false,
    "jupyter": {
     "outputs_hidden": false
    },
    "pycharm": {
     "name": "#%%\n"
    }
   },
   "outputs": [],
   "source": [
    "x"
   ]
  },
  {
   "cell_type": "code",
   "execution_count": null,
   "metadata": {
    "collapsed": false,
    "jupyter": {
     "outputs_hidden": false
    },
    "pycharm": {
     "name": "#%%\n"
    }
   },
   "outputs": [],
   "source": [
    "fit_mosek = opt.MIO_mosek(Y, l0=0.2, l2=0, M=M)"
   ]
  },
  {
   "cell_type": "code",
   "execution_count": null,
   "metadata": {
    "collapsed": false,
    "jupyter": {
     "outputs_hidden": false
    },
    "pycharm": {
     "name": "#%%\n"
    }
   },
   "outputs": [],
   "source": [
    "fit_mosek.theta_hat[np.abs(fit_mosek.theta_hat) < 1e-6] = 0"
   ]
  },
  {
   "cell_type": "code",
   "execution_count": null,
   "metadata": {
    "collapsed": false,
    "jupyter": {
     "outputs_hidden": false
    },
    "pycharm": {
     "name": "#%%\n"
    }
   },
   "outputs": [],
   "source": [
    "fit_mosek.theta_hat"
   ]
  },
  {
   "cell_type": "code",
   "execution_count": null,
   "metadata": {
    "collapsed": false,
    "jupyter": {
     "outputs_hidden": false
    },
    "pycharm": {
     "name": "#%%\n"
    }
   },
   "outputs": [],
   "source": [
    "from scipy.optimize import minimize_scalar, bisect"
   ]
  },
  {
   "cell_type": "code",
   "execution_count": null,
   "metadata": {
    "collapsed": false,
    "jupyter": {
     "outputs_hidden": false
    },
    "pycharm": {
     "name": "#%%\n"
    }
   },
   "outputs": [],
   "source": [
    "def make_func(target_non_zeros, Y, l2, M, tol=1e-6):\n",
    "    def f(l0):\n",
    "        fit_mosek = opt.MIO_mosek(Y, l0=l0, l2=0, M=M)\n",
    "        theta_hat = fit_mosek.theta_hat\n",
    "        theta_hat[np.abs(fit_mosek.theta_hat) < 1e-6] = 0\n",
    "        np.fill_diagonal(theta_hat, 0)\n",
    "        print(f\"l0 = {l0}, num_non_zero= {np.count_nonzero(theta_hat)//2}, cost={(target_non_zeros - np.count_nonzero(theta_hat)//2)**2}\")\n",
    "        return target_non_zeros - np.count_nonzero(theta_hat)//2\n",
    "\n",
    "    return f\n",
    "\n"
   ]
  },
  {
   "cell_type": "code",
   "execution_count": null,
   "metadata": {
    "collapsed": false,
    "jupyter": {
     "outputs_hidden": false
    },
    "pycharm": {
     "name": "#%%\n"
    }
   },
   "outputs": [],
   "source": [
    "f = make_func(2, Y, l2=0.01, M=M, tol=1e-6)"
   ]
  },
  {
   "cell_type": "code",
   "execution_count": null,
   "metadata": {
    "collapsed": false,
    "jupyter": {
     "outputs_hidden": false
    },
    "pycharm": {
     "name": "#%%\n"
    }
   },
   "outputs": [],
   "source": [
    "bisect(f, a=0, b=10)"
   ]
  },
  {
   "cell_type": "code",
   "execution_count": null,
   "metadata": {
    "collapsed": false,
    "jupyter": {
     "outputs_hidden": false
    },
    "pycharm": {
     "name": "#%%\n"
    }
   },
   "outputs": [],
   "source": [
    "fit_mosek = opt.MIO_mosek(Y, l0=0.15, l2=0.01, M=M)"
   ]
  },
  {
   "cell_type": "code",
   "execution_count": null,
   "metadata": {
    "collapsed": false,
    "jupyter": {
     "outputs_hidden": false
    },
    "pycharm": {
     "name": "#%%\n"
    }
   },
   "outputs": [],
   "source": [
    "fit_mosek.theta_hat[np.abs(fit_mosek.theta_hat) < 1e-6] = 0\n",
    "fit_mosek.theta_hat"
   ]
  },
  {
   "cell_type": "code",
   "execution_count": null,
   "metadata": {
    "collapsed": false,
    "jupyter": {
     "outputs_hidden": false
    },
    "pycharm": {
     "name": "#%%\n"
    }
   },
   "outputs": [],
   "source": [
    "results = fit(Y, l0=0, l2=0.01, scale_x=False, max_active_set_size=3, initial_active_set=np.inf, super_active_set=0.)"
   ]
  },
  {
   "cell_type": "code",
   "execution_count": null,
   "metadata": {
    "collapsed": false,
    "jupyter": {
     "outputs_hidden": false
    },
    "pycharm": {
     "name": "#%%\n"
    }
   },
   "outputs": [],
   "source": [
    "results.active_set_size"
   ]
  },
  {
   "cell_type": "code",
   "execution_count": null,
   "metadata": {
    "collapsed": false,
    "jupyter": {
     "outputs_hidden": false
    },
    "pycharm": {
     "name": "#%%\n"
    }
   },
   "outputs": [],
   "source": [
    "results.theta"
   ]
  },
  {
   "cell_type": "code",
   "execution_count": null,
   "metadata": {
    "collapsed": false,
    "jupyter": {
     "outputs_hidden": false
    },
    "pycharm": {
     "name": "#%%\n"
    }
   },
   "outputs": [],
   "source": [
    "fit_mosek.theta_hat"
   ]
  },
  {
   "cell_type": "code",
   "execution_count": null,
   "metadata": {
    "collapsed": false,
    "jupyter": {
     "outputs_hidden": false
    },
    "pycharm": {
     "name": "#%%\n"
    }
   },
   "outputs": [],
   "source": [
    "from gl0learn.metrics import nonzeros\n",
    "\n",
    "def pseudo_likelihood_loss_(y, theta, l0=0, l1=0, l2=0,  abs_tol: float = 1e-6):\n",
    "    loss = (-np.log(np.diag(theta)) + np.linalg.norm(y @ theta, axis=0) / np.diag(theta)).sum()\n",
    "\n",
    "    upper_triu = np.triu_indices(theta.shape[0], k=1)\n",
    "    theta_upper = theta[upper_triu]\n",
    "\n",
    "    loss += l0/2 * nonzeros(theta_upper, abs_tol=abs_tol).sum() + l1/2 * np.abs(theta_upper).sum() + l2/2*np.square(theta_upper).sum()\n",
    "    return loss"
   ]
  },
  {
   "cell_type": "code",
   "execution_count": null,
   "metadata": {
    "collapsed": false,
    "jupyter": {
     "outputs_hidden": false
    },
    "pycharm": {
     "name": "#%%\n"
    }
   },
   "outputs": [],
   "source": [
    "pseudo_likelihood_loss_(Y, fit_mosek.theta_hat, l0=0.15, l2=0.01,)"
   ]
  },
  {
   "cell_type": "code",
   "execution_count": null,
   "metadata": {
    "collapsed": false,
    "jupyter": {
     "outputs_hidden": false
    },
    "pycharm": {
     "name": "#%%\n"
    }
   },
   "outputs": [],
   "source": [
    "pseudo_likelihood_loss_(Y, results.theta, l0=0.15, l2=0.01,)"
   ]
  },
  {
   "cell_type": "code",
   "execution_count": null,
   "metadata": {
    "collapsed": false,
    "jupyter": {
     "outputs_hidden": false
    },
    "pycharm": {
     "name": "#%%\n"
    }
   },
   "outputs": [],
   "source": [
    "np.log(np.e)"
   ]
  },
  {
   "cell_type": "code",
   "execution_count": null,
   "metadata": {
    "collapsed": false,
    "jupyter": {
     "outputs_hidden": false
    },
    "pycharm": {
     "name": "#%%\n"
    }
   },
   "outputs": [],
   "source": []
  }
 ],
 "metadata": {
  "kernelspec": {
   "display_name": "Python 3 (ipykernel)",
   "language": "python",
   "name": "python3"
  },
  "language_info": {
   "codemirror_mode": {
    "name": "ipython",
    "version": 3
   },
   "file_extension": ".py",
   "mimetype": "text/x-python",
   "name": "python",
   "nbconvert_exporter": "python",
   "pygments_lexer": "ipython3",
   "version": "3.9.7"
  }
 },
 "nbformat": 4,
 "nbformat_minor": 4
}
