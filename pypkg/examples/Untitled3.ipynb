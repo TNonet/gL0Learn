{
 "cells": [
  {
   "cell_type": "code",
   "execution_count": 2,
   "id": "b34eb0c3-6da6-4584-abb3-813fe6bad2ee",
   "metadata": {},
   "outputs": [],
   "source": [
    "import pyomo\n",
    "import mosek\n",
    "from pyomo.environ import *"
   ]
  },
  {
   "cell_type": "code",
   "execution_count": 3,
   "id": "4d612a8e-5b7d-4bee-8744-8ef94b2cb399",
   "metadata": {},
   "outputs": [],
   "source": []
  },
  {
   "cell_type": "code",
   "execution_count": null,
   "id": "82e96b7b-46f3-41bc-94a6-9b5690f62f7f",
   "metadata": {},
   "outputs": [],
   "source": [
    "def pyomo_model(Y)\n",
    "    model = ConcreteModel()\n",
    "    n, p = Y.shape\n",
    "    num_coeffs = p * (p + 1) // 2\n",
    "    num_l0 =  p * (p - 1) // 2\n",
    "    \n",
    "    "
   ]
  }
 ],
 "metadata": {
  "kernelspec": {
   "display_name": "Python 3 (ipykernel)",
   "language": "python",
   "name": "python3"
  },
  "language_info": {
   "codemirror_mode": {
    "name": "ipython",
    "version": 3
   },
   "file_extension": ".py",
   "mimetype": "text/x-python",
   "name": "python",
   "nbconvert_exporter": "python",
   "pygments_lexer": "ipython3",
   "version": "3.9.7"
  }
 },
 "nbformat": 4,
 "nbformat_minor": 5
}
